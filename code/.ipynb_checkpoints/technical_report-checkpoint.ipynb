{
 "cells": [
  {
   "cell_type": "markdown",
   "metadata": {},
   "source": [
    "Using Reddit's API for Predicting Comments\n",
    "What characteristics of a post on Reddit contribute most to what subreddit it belongs to?\n",
    "In this project, we will practice two major skills.\n",
    "\n",
    "Collecting data via an API request.\n",
    "Building a binary predictor.\n",
    "Your method for acquiring the data will be scraping threads from at least two subreddits.\n",
    "\n",
    "Once you've got the data, you will build a classification model that, using Natural Language Processing and any other relevant features, predicts which subreddit a given post belongs to."
   ]
  },
  {
   "cell_type": "markdown",
   "metadata": {
    "toc": true
   },
   "source": [
    "<h1>Table of Contents<span class=\"tocSkip\"></span></h1>\n",
    "<div class=\"toc\"><ul class=\"toc-item\"></ul></div>"
   ]
  },
  {
   "cell_type": "code",
   "execution_count": 1,
   "metadata": {},
   "outputs": [],
   "source": [
    "# Let's get the administrative stuff done first\n",
    "# import all the libraries and set up the plotting\n",
    "\n",
    "import requests\n",
    "import json\n",
    "import time\n",
    "import pandas as pd\n",
    "import numpy as np\n",
    "import matplotlib\n",
    "import matplotlib.pyplot as plt\n",
    "import seaborn as sns\n",
    "import warnings"
   ]
  },
  {
   "cell_type": "code",
   "execution_count": 2,
   "metadata": {},
   "outputs": [],
   "source": [
    "from itertools import combinations\n",
    "from sklearn.ensemble import BaggingClassifier, RandomForestClassifier, ExtraTreesClassifier, AdaBoostClassifier, GradientBoostingClassifier\n",
    "from sklearn.feature_extraction import stop_words\n",
    "from sklearn.feature_extraction.text import CountVectorizer, HashingVectorizer, TfidfVectorizer\n",
    "from sklearn.linear_model import LogisticRegression, LogisticRegressionCV\n",
    "from sklearn.metrics import accuracy_score\n",
    "from sklearn.model_selection import train_test_split, cross_val_score, GridSearchCV\n",
    "from sklearn.naive_bayes import MultinomialNB, BernoulliNB\n",
    "from sklearn.neighbors import KNeighborsClassifier\n",
    "from sklearn.pipeline import Pipeline\n",
    "from sklearn.preprocessing import StandardScaler, PolynomialFeatures\n",
    "from sklearn.svm import SVC\n",
    "from sklearn.tree import DecisionTreeClassifier\n",
    "from wordcloud import WordCloud, STOPWORDS\n",
    "from IPython.display import display, Markdown, Latex"
   ]
  },
  {
   "cell_type": "code",
   "execution_count": 3,
   "metadata": {},
   "outputs": [
    {
     "data": {
      "application/pdf": "[encoded data removed]",
      "image/png": "[encoded data removed]",
      "text/plain": [
       "<Figure size 360x72 with 1 Axes>"
      ]
     },
     "metadata": {
      "needs_background": "light"
     },
     "output_type": "display_data"
    }
   ],
   "source": [
    "# Colour scheme and style selected\n",
    "theme = ['#1F306E', '#553772', '#8F3B76', '#C7417B', '#F5487F']\n",
    "colors_palette = sns.palplot(sns.color_palette(theme))\n",
    "plt.style.use('seaborn')\n",
    "sns.set(style=\"white\", color_codes=True)\n",
    "sns.set_palette(colors_palette)\n",
    "\n",
    "# Prevent warnings from distracting the reader\n",
    "warnings.filterwarnings('ignore')\n",
    "\n",
    "# Forces Matplotlib to use high-quality images\n",
    "ip = get_ipython()\n",
    "ibe = ip.configurables[-1]\n",
    "ibe.figure_formats = {'pdf', 'png'}"
   ]
  },
  {
   "cell_type": "code",
   "execution_count": 4,
   "metadata": {},
   "outputs": [],
   "source": [
    "def success (n):\n",
    "    return display(Markdown(f'<div class=\"alert alert-block alert-success\"><b>SUCCESS: </b>{n}</div>'))"
   ]
  },
  {
   "cell_type": "code",
   "execution_count": 5,
   "metadata": {},
   "outputs": [],
   "source": [
    "def warning (n):\n",
    "    return display(Markdown(f'<div class=\"alert alert-block alert-danger\"><b>WARNING: </b>{n}</div>'))"
   ]
  },
  {
   "cell_type": "code",
   "execution_count": 6,
   "metadata": {},
   "outputs": [],
   "source": [
    "def check (n):\n",
    "    return display(Markdown(f'<div class=\"alert alert-block alert-warning\"><b>CHECK: </b>{n}</div>'))"
   ]
  },
  {
   "cell_type": "code",
   "execution_count": 7,
   "metadata": {},
   "outputs": [],
   "source": [
    "def note (n):\n",
    "    return display(Markdown(f'<div class=\"alert alert-block alert-info\"><b>NOTE: </b>{n}</div>'))    "
   ]
  },
  {
   "cell_type": "markdown",
   "metadata": {},
   "source": [
    "Pre-work. Demonstrate scraping Thread Info from Reddit.com\n",
    "Set up a request (using requests) to the URL below.\n",
    "*NOTE*: Reddit will throw a [429 error](https://httpstatuses.com/429) when using the following code:\n",
    "\n",
    "res = requests.get(URL)\n",
    "This is because Reddit has throttled python's default user agent. You'll need to set a custom User-agent to get your request to work.\n",
    "\n",
    "res = requests.get(URL, headers={'User-agent': 'YOUR NAME Bot 0.1'})"
   ]
  },
  {
   "cell_type": "code",
   "execution_count": 8,
   "metadata": {},
   "outputs": [],
   "source": [
    "# For example:\n",
    "# pre_work = False\n",
    "# if pre_work:\n",
    "#     url = \"http://www.reddit.com/r/boardgames.json\"\n",
    "#     headers = headers={'User-agent': 'gbkgwyneth Bot 0.1'}\n",
    "#     res = requests.get(url, headers=headers)\n",
    "#     res.status_code"
   ]
  },
  {
   "cell_type": "markdown",
   "metadata": {},
   "source": [
    "Use res.json() to convert the response into a dictionary format and set this to a variable.\n",
    "data = res.json()"
   ]
  },
  {
   "cell_type": "code",
   "execution_count": 9,
   "metadata": {},
   "outputs": [],
   "source": [
    "# if pre_work:\n",
    "#     data = res.json()\n",
    "\n",
    "#     # Some initial exploring of the data\n",
    "#     ['data', 'kind']\n",
    "#     sorted(data.keys())\n",
    "\n",
    "#     ['after', 'before', 'children', 'dist', 'modhash']\n",
    "#     sorted(data['data'].keys())\n",
    "\n",
    "#     df = pd.DataFrame(data['data']['children'])\n",
    "#     df.head()\n",
    "#     df.shape\n",
    "#     [post['data']['name'] for post in data['data']['children']]"
   ]
  },
  {
   "cell_type": "markdown",
   "metadata": {},
   "source": [
    "Getting more results\n",
    "By default, Reddit will give you the top 25 posts:\n",
    "\n",
    "print(len(data['data']['children']))\n",
    "If you want more, you'll need to do two things:\n",
    "\n",
    "Get the name of the last post: data['data']['after']\n",
    "Use that name to hit the following url: http://www.reddit.com/r/boardgames.json?after=THE_AFTER_FROM_STEP_1`\n",
    "Create a loop to repeat steps 1 and 2 until you have a sufficient number of posts.\n",
    "*NOTE*: Reddit will limit the number of requests per second you're allowed to make. When you create your loop, be sure to add the following after each iteration.\n",
    "\n",
    "time.sleep(3) # sleeps 3 seconds before continuing\n",
    "This will throttle your loop and keep you within Reddit's guidelines. You'll need to import the time library for this to work!"
   ]
  },
  {
   "cell_type": "markdown",
   "metadata": {},
   "source": [
    "I. Predicting posts from the Cape Cod and Galveston sub-Reddits\n",
    "With no experience of Reddit, I had a challenge underatnding how it worked, what people discuss, and what types of \"topics\" would be interesting to predict. I settled on predicting posts from the r/CapeCod versus the r/galveston. If I were to start-over, I would definitely try to find more interesting topics, but I am not sure that I have yet spent enough time with Reddit to be able to pedict what those might be."
   ]
  },
  {
   "cell_type": "markdown",
   "metadata": {},
   "source": [
    "I. Gather the raw data from Reddit.\n",
    "Save the scraped data as two CSV files or read previously scraped data from CSV files into two DataFrame."
   ]
  },
  {
   "cell_type": "code",
   "execution_count": 10,
   "metadata": {},
   "outputs": [],
   "source": [
    "# Function to scrape the data \n",
    "\n",
    "def scrape_data(url,after):\n",
    "\n",
    "    headers = headers={'User-agent': 'gbkgwyneth Bot 0.1'}\n",
    "\n",
    "    posts = []\n",
    "    for _ in range(40):\n",
    "        if after == None:\n",
    "            params = {}\n",
    "        else:\n",
    "            params = {'after' : after}\n",
    "        res = requests.get(url, params=params, headers=headers)\n",
    "        if res.status_code == 200:\n",
    "            success(f'Status Code {res.status_code}')\n",
    "            data = res.json()\n",
    "            posts.extend(data['data']['children'])\n",
    "            after = data['data']['after']\n",
    "#             print(after)\n",
    "        else:\n",
    "            warning(f'Status Code {res.status_code}')\n",
    "            break\n",
    "        note(f'Attemping to reconnect {url}')\n",
    "        time.sleep(3)\n",
    "\n",
    "    return posts"
   ]
  },
  {
   "cell_type": "code",
   "execution_count": 11,
   "metadata": {},
   "outputs": [],
   "source": [
    "# Do we want to scrape data or read from a csv file?\n",
    "# scrape = False"
   ]
  },
  {
   "cell_type": "code",
   "execution_count": 12,
   "metadata": {},
   "outputs": [],
   "source": [
    "# Scrape posts following 'after' from the first URL \n",
    "# Place them in a dataframe\n",
    "# Export to a file\n",
    "\n",
    "# if scrape:\n",
    "#     after = None # \"t3_4kqn0c\"\n",
    "#     url_gv = \"https://www.reddit.com/r/AskParents.json\"\n",
    "#     scrape_gv = scrape_data(url_gv, after)\n",
    "#     posts_gv = []\n",
    "#     for i in range(len(scrape_gv)):\n",
    "#         posts_gv.append(scrape_gv[i]['data'])\n",
    "#     df_gv = pd.DataFrame(posts_gv)\n",
    "#     df_gv.drop_duplicates(subset='title', inplace=True)\n",
    "#     df_gv.to_csv(f'../data/askparents.csv')"
   ]
  },
  {
   "cell_type": "code",
   "execution_count": 13,
   "metadata": {},
   "outputs": [],
   "source": [
    "# Scrape posts following 'after' from the first URL \n",
    "# Place them in a dataframe\n",
    "# Export to a file\n",
    "\n",
    "def scrape (topic_1, topic_2,check):\n",
    "    if check == True:    \n",
    "        after = None\n",
    "        url_1 = \"https://www.reddit.com/r/\"+topic_1+\".json\"\n",
    "        scrape_1 = scrape_data(url_1, after)\n",
    "        posts_1 = []\n",
    "        for i in range(len(scrape_1)):\n",
    "            posts_1.append(scrape_1[i]['data'])\n",
    "        df_1 = pd.DataFrame(posts_1)\n",
    "        df_1.drop_duplicates(subset='title', inplace=True)\n",
    "        df_1.to_csv(f'../data/{topic_1}.csv')\n",
    "\n",
    "        after = None\n",
    "        url_2 = \"https://www.reddit.com/r/\"+topic_2+\".json\"\n",
    "        scrape_2 = scrape_data(url_2, after)\n",
    "        posts_2 = []\n",
    "        for i in range(len(scrape_2)):\n",
    "            posts_1.append(scrape_2[i]['data'])\n",
    "        df_2 = pd.DataFrame(posts_2)\n",
    "        df_2.drop_duplicates(subset='title', inplace=True)\n",
    "        df_2.to_csv(f'../data/{topic_2}.csv')"
   ]
  },
  {
   "cell_type": "code",
   "execution_count": 14,
   "metadata": {
    "scrolled": true
   },
   "outputs": [
    {
     "data": {
      "text/markdown": [
       "<div class=\"alert alert-block alert-success\"><b>SUCCESS: </b>Status Code 200</div>"
      ],
      "text/plain": [
       "<IPython.core.display.Markdown object>"
      ]
     },
     "metadata": {},
     "output_type": "display_data"
    },
    {
     "data": {
      "text/markdown": [
       "<div class=\"alert alert-block alert-info\"><b>NOTE: </b>Attemping to reconnect https://www.reddit.com/r/AskParents.json</div>"
      ],
      "text/plain": [
       "<IPython.core.display.Markdown object>"
      ]
     },
     "metadata": {},
     "output_type": "display_data"
    },
    {
     "data": {
      "text/markdown": [
       "<div class=\"alert alert-block alert-success\"><b>SUCCESS: </b>Status Code 200</div>"
      ],
      "text/plain": [
       "<IPython.core.display.Markdown object>"
      ]
     },
     "metadata": {},
     "output_type": "display_data"
    },
    {
     "data": {
      "text/markdown": [
       "<div class=\"alert alert-block alert-info\"><b>NOTE: </b>Attemping to reconnect https://www.reddit.com/r/AskParents.json</div>"
      ],
      "text/plain": [
       "<IPython.core.display.Markdown object>"
      ]
     },
     "metadata": {},
     "output_type": "display_data"
    },
    {
     "data": {
      "text/markdown": [
       "<div class=\"alert alert-block alert-success\"><b>SUCCESS: </b>Status Code 200</div>"
      ],
      "text/plain": [
       "<IPython.core.display.Markdown object>"
      ]
     },
     "metadata": {},
     "output_type": "display_data"
    },
    {
     "data": {
      "text/markdown": [
       "<div class=\"alert alert-block alert-info\"><b>NOTE: </b>Attemping to reconnect https://www.reddit.com/r/AskParents.json</div>"
      ],
      "text/plain": [
       "<IPython.core.display.Markdown object>"
      ]
     },
     "metadata": {},
     "output_type": "display_data"
    },
    {
     "data": {
      "text/markdown": [
       "<div class=\"alert alert-block alert-success\"><b>SUCCESS: </b>Status Code 200</div>"
      ],
      "text/plain": [
       "<IPython.core.display.Markdown object>"
      ]
     },
     "metadata": {},
     "output_type": "display_data"
    },
    {
     "data": {
      "text/markdown": [
       "<div class=\"alert alert-block alert-info\"><b>NOTE: </b>Attemping to reconnect https://www.reddit.com/r/AskParents.json</div>"
      ],
      "text/plain": [
       "<IPython.core.display.Markdown object>"
      ]
     },
     "metadata": {},
     "output_type": "display_data"
    },
    {
     "data": {
      "text/markdown": [
       "<div class=\"alert alert-block alert-success\"><b>SUCCESS: </b>Status Code 200</div>"
      ],
      "text/plain": [
       "<IPython.core.display.Markdown object>"
      ]
     },
     "metadata": {},
     "output_type": "display_data"
    },
    {
     "data": {
      "text/markdown": [
       "<div class=\"alert alert-block alert-info\"><b>NOTE: </b>Attemping to reconnect https://www.reddit.com/r/AskParents.json</div>"
      ],
      "text/plain": [
       "<IPython.core.display.Markdown object>"
      ]
     },
     "metadata": {},
     "output_type": "display_data"
    },
    {
     "data": {
      "text/markdown": [
       "<div class=\"alert alert-block alert-success\"><b>SUCCESS: </b>Status Code 200</div>"
      ],
      "text/plain": [
       "<IPython.core.display.Markdown object>"
      ]
     },
     "metadata": {},
     "output_type": "display_data"
    },
    {
     "data": {
      "text/markdown": [
       "<div class=\"alert alert-block alert-info\"><b>NOTE: </b>Attemping to reconnect https://www.reddit.com/r/AskParents.json</div>"
      ],
      "text/plain": [
       "<IPython.core.display.Markdown object>"
      ]
     },
     "metadata": {},
     "output_type": "display_data"
    },
    {
     "data": {
      "text/markdown": [
       "<div class=\"alert alert-block alert-success\"><b>SUCCESS: </b>Status Code 200</div>"
      ],
      "text/plain": [
       "<IPython.core.display.Markdown object>"
      ]
     },
     "metadata": {},
     "output_type": "display_data"
    },
    {
     "data": {
      "text/markdown": [
       "<div class=\"alert alert-block alert-info\"><b>NOTE: </b>Attemping to reconnect https://www.reddit.com/r/AskParents.json</div>"
      ],
      "text/plain": [
       "<IPython.core.display.Markdown object>"
      ]
     },
     "metadata": {},
     "output_type": "display_data"
    },
    {
     "data": {
      "text/markdown": [
       "<div class=\"alert alert-block alert-success\"><b>SUCCESS: </b>Status Code 200</div>"
      ],
      "text/plain": [
       "<IPython.core.display.Markdown object>"
      ]
     },
     "metadata": {},
     "output_type": "display_data"
    },
    {
     "data": {
      "text/markdown": [
       "<div class=\"alert alert-block alert-info\"><b>NOTE: </b>Attemping to reconnect https://www.reddit.com/r/AskParents.json</div>"
      ],
      "text/plain": [
       "<IPython.core.display.Markdown object>"
      ]
     },
     "metadata": {},
     "output_type": "display_data"
    },
    {
     "data": {
      "text/markdown": [
       "<div class=\"alert alert-block alert-success\"><b>SUCCESS: </b>Status Code 200</div>"
      ],
      "text/plain": [
       "<IPython.core.display.Markdown object>"
      ]
     },
     "metadata": {},
     "output_type": "display_data"
    },
    {
     "data": {
      "text/markdown": [
       "<div class=\"alert alert-block alert-info\"><b>NOTE: </b>Attemping to reconnect https://www.reddit.com/r/AskParents.json</div>"
      ],
      "text/plain": [
       "<IPython.core.display.Markdown object>"
      ]
     },
     "metadata": {},
     "output_type": "display_data"
    },
    {
     "data": {
      "text/markdown": [
       "<div class=\"alert alert-block alert-success\"><b>SUCCESS: </b>Status Code 200</div>"
      ],
      "text/plain": [
       "<IPython.core.display.Markdown object>"
      ]
     },
     "metadata": {},
     "output_type": "display_data"
    },
    {
     "data": {
      "text/markdown": [
       "<div class=\"alert alert-block alert-info\"><b>NOTE: </b>Attemping to reconnect https://www.reddit.com/r/AskParents.json</div>"
      ],
      "text/plain": [
       "<IPython.core.display.Markdown object>"
      ]
     },
     "metadata": {},
     "output_type": "display_data"
    },
    {
     "data": {
      "text/markdown": [
       "<div class=\"alert alert-block alert-success\"><b>SUCCESS: </b>Status Code 200</div>"
      ],
      "text/plain": [
       "<IPython.core.display.Markdown object>"
      ]
     },
     "metadata": {},
     "output_type": "display_data"
    },
    {
     "data": {
      "text/markdown": [
       "<div class=\"alert alert-block alert-info\"><b>NOTE: </b>Attemping to reconnect https://www.reddit.com/r/AskParents.json</div>"
      ],
      "text/plain": [
       "<IPython.core.display.Markdown object>"
      ]
     },
     "metadata": {},
     "output_type": "display_data"
    },
    {
     "data": {
      "text/markdown": [
       "<div class=\"alert alert-block alert-success\"><b>SUCCESS: </b>Status Code 200</div>"
      ],
      "text/plain": [
       "<IPython.core.display.Markdown object>"
      ]
     },
     "metadata": {},
     "output_type": "display_data"
    },
    {
     "data": {
      "text/markdown": [
       "<div class=\"alert alert-block alert-info\"><b>NOTE: </b>Attemping to reconnect https://www.reddit.com/r/AskParents.json</div>"
      ],
      "text/plain": [
       "<IPython.core.display.Markdown object>"
      ]
     },
     "metadata": {},
     "output_type": "display_data"
    },
    {
     "data": {
      "text/markdown": [
       "<div class=\"alert alert-block alert-success\"><b>SUCCESS: </b>Status Code 200</div>"
      ],
      "text/plain": [
       "<IPython.core.display.Markdown object>"
      ]
     },
     "metadata": {},
     "output_type": "display_data"
    },
    {
     "data": {
      "text/markdown": [
       "<div class=\"alert alert-block alert-info\"><b>NOTE: </b>Attemping to reconnect https://www.reddit.com/r/AskParents.json</div>"
      ],
      "text/plain": [
       "<IPython.core.display.Markdown object>"
      ]
     },
     "metadata": {},
     "output_type": "display_data"
    },
    {
     "data": {
      "text/markdown": [
       "<div class=\"alert alert-block alert-success\"><b>SUCCESS: </b>Status Code 200</div>"
      ],
      "text/plain": [
       "<IPython.core.display.Markdown object>"
      ]
     },
     "metadata": {},
     "output_type": "display_data"
    },
    {
     "data": {
      "text/markdown": [
       "<div class=\"alert alert-block alert-info\"><b>NOTE: </b>Attemping to reconnect https://www.reddit.com/r/AskParents.json</div>"
      ],
      "text/plain": [
       "<IPython.core.display.Markdown object>"
      ]
     },
     "metadata": {},
     "output_type": "display_data"
    },
    {
     "data": {
      "text/markdown": [
       "<div class=\"alert alert-block alert-success\"><b>SUCCESS: </b>Status Code 200</div>"
      ],
      "text/plain": [
       "<IPython.core.display.Markdown object>"
      ]
     },
     "metadata": {},
     "output_type": "display_data"
    },
    {
     "data": {
      "text/markdown": [
       "<div class=\"alert alert-block alert-info\"><b>NOTE: </b>Attemping to reconnect https://www.reddit.com/r/AskParents.json</div>"
      ],
      "text/plain": [
       "<IPython.core.display.Markdown object>"
      ]
     },
     "metadata": {},
     "output_type": "display_data"
    },
    {
     "data": {
      "text/markdown": [
       "<div class=\"alert alert-block alert-success\"><b>SUCCESS: </b>Status Code 200</div>"
      ],
      "text/plain": [
       "<IPython.core.display.Markdown object>"
      ]
     },
     "metadata": {},
     "output_type": "display_data"
    },
    {
     "data": {
      "text/markdown": [
       "<div class=\"alert alert-block alert-info\"><b>NOTE: </b>Attemping to reconnect https://www.reddit.com/r/AskParents.json</div>"
      ],
      "text/plain": [
       "<IPython.core.display.Markdown object>"
      ]
     },
     "metadata": {},
     "output_type": "display_data"
    },
    {
     "data": {
      "text/markdown": [
       "<div class=\"alert alert-block alert-success\"><b>SUCCESS: </b>Status Code 200</div>"
      ],
      "text/plain": [
       "<IPython.core.display.Markdown object>"
      ]
     },
     "metadata": {},
     "output_type": "display_data"
    },
    {
     "data": {
      "text/markdown": [
       "<div class=\"alert alert-block alert-info\"><b>NOTE: </b>Attemping to reconnect https://www.reddit.com/r/AskParents.json</div>"
      ],
      "text/plain": [
       "<IPython.core.display.Markdown object>"
      ]
     },
     "metadata": {},
     "output_type": "display_data"
    },
    {
     "data": {
      "text/markdown": [
       "<div class=\"alert alert-block alert-success\"><b>SUCCESS: </b>Status Code 200</div>"
      ],
      "text/plain": [
       "<IPython.core.display.Markdown object>"
      ]
     },
     "metadata": {},
     "output_type": "display_data"
    },
    {
     "data": {
      "text/markdown": [
       "<div class=\"alert alert-block alert-info\"><b>NOTE: </b>Attemping to reconnect https://www.reddit.com/r/AskParents.json</div>"
      ],
      "text/plain": [
       "<IPython.core.display.Markdown object>"
      ]
     },
     "metadata": {},
     "output_type": "display_data"
    },
    {
     "data": {
      "text/markdown": [
       "<div class=\"alert alert-block alert-success\"><b>SUCCESS: </b>Status Code 200</div>"
      ],
      "text/plain": [
       "<IPython.core.display.Markdown object>"
      ]
     },
     "metadata": {},
     "output_type": "display_data"
    },
    {
     "data": {
      "text/markdown": [
       "<div class=\"alert alert-block alert-info\"><b>NOTE: </b>Attemping to reconnect https://www.reddit.com/r/AskParents.json</div>"
      ],
      "text/plain": [
       "<IPython.core.display.Markdown object>"
      ]
     },
     "metadata": {},
     "output_type": "display_data"
    },
    {
     "data": {
      "text/markdown": [
       "<div class=\"alert alert-block alert-success\"><b>SUCCESS: </b>Status Code 200</div>"
      ],
      "text/plain": [
       "<IPython.core.display.Markdown object>"
      ]
     },
     "metadata": {},
     "output_type": "display_data"
    },
    {
     "data": {
      "text/markdown": [
       "<div class=\"alert alert-block alert-info\"><b>NOTE: </b>Attemping to reconnect https://www.reddit.com/r/AskParents.json</div>"
      ],
      "text/plain": [
       "<IPython.core.display.Markdown object>"
      ]
     },
     "metadata": {},
     "output_type": "display_data"
    },
    {
     "data": {
      "text/markdown": [
       "<div class=\"alert alert-block alert-success\"><b>SUCCESS: </b>Status Code 200</div>"
      ],
      "text/plain": [
       "<IPython.core.display.Markdown object>"
      ]
     },
     "metadata": {},
     "output_type": "display_data"
    },
    {
     "data": {
      "text/markdown": [
       "<div class=\"alert alert-block alert-info\"><b>NOTE: </b>Attemping to reconnect https://www.reddit.com/r/AskParents.json</div>"
      ],
      "text/plain": [
       "<IPython.core.display.Markdown object>"
      ]
     },
     "metadata": {},
     "output_type": "display_data"
    },
    {
     "data": {
      "text/markdown": [
       "<div class=\"alert alert-block alert-success\"><b>SUCCESS: </b>Status Code 200</div>"
      ],
      "text/plain": [
       "<IPython.core.display.Markdown object>"
      ]
     },
     "metadata": {},
     "output_type": "display_data"
    },
    {
     "data": {
      "text/markdown": [
       "<div class=\"alert alert-block alert-info\"><b>NOTE: </b>Attemping to reconnect https://www.reddit.com/r/AskParents.json</div>"
      ],
      "text/plain": [
       "<IPython.core.display.Markdown object>"
      ]
     },
     "metadata": {},
     "output_type": "display_data"
    },
    {
     "data": {
      "text/markdown": [
       "<div class=\"alert alert-block alert-success\"><b>SUCCESS: </b>Status Code 200</div>"
      ],
      "text/plain": [
       "<IPython.core.display.Markdown object>"
      ]
     },
     "metadata": {},
     "output_type": "display_data"
    },
    {
     "data": {
      "text/markdown": [
       "<div class=\"alert alert-block alert-info\"><b>NOTE: </b>Attemping to reconnect https://www.reddit.com/r/AskParents.json</div>"
      ],
      "text/plain": [
       "<IPython.core.display.Markdown object>"
      ]
     },
     "metadata": {},
     "output_type": "display_data"
    },
    {
     "data": {
      "text/markdown": [
       "<div class=\"alert alert-block alert-success\"><b>SUCCESS: </b>Status Code 200</div>"
      ],
      "text/plain": [
       "<IPython.core.display.Markdown object>"
      ]
     },
     "metadata": {},
     "output_type": "display_data"
    },
    {
     "data": {
      "text/markdown": [
       "<div class=\"alert alert-block alert-info\"><b>NOTE: </b>Attemping to reconnect https://www.reddit.com/r/AskParents.json</div>"
      ],
      "text/plain": [
       "<IPython.core.display.Markdown object>"
      ]
     },
     "metadata": {},
     "output_type": "display_data"
    },
    {
     "data": {
      "text/markdown": [
       "<div class=\"alert alert-block alert-success\"><b>SUCCESS: </b>Status Code 200</div>"
      ],
      "text/plain": [
       "<IPython.core.display.Markdown object>"
      ]
     },
     "metadata": {},
     "output_type": "display_data"
    },
    {
     "data": {
      "text/markdown": [
       "<div class=\"alert alert-block alert-info\"><b>NOTE: </b>Attemping to reconnect https://www.reddit.com/r/AskParents.json</div>"
      ],
      "text/plain": [
       "<IPython.core.display.Markdown object>"
      ]
     },
     "metadata": {},
     "output_type": "display_data"
    },
    {
     "data": {
      "text/markdown": [
       "<div class=\"alert alert-block alert-success\"><b>SUCCESS: </b>Status Code 200</div>"
      ],
      "text/plain": [
       "<IPython.core.display.Markdown object>"
      ]
     },
     "metadata": {},
     "output_type": "display_data"
    },
    {
     "data": {
      "text/markdown": [
       "<div class=\"alert alert-block alert-info\"><b>NOTE: </b>Attemping to reconnect https://www.reddit.com/r/AskParents.json</div>"
      ],
      "text/plain": [
       "<IPython.core.display.Markdown object>"
      ]
     },
     "metadata": {},
     "output_type": "display_data"
    },
    {
     "data": {
      "text/markdown": [
       "<div class=\"alert alert-block alert-success\"><b>SUCCESS: </b>Status Code 200</div>"
      ],
      "text/plain": [
       "<IPython.core.display.Markdown object>"
      ]
     },
     "metadata": {},
     "output_type": "display_data"
    },
    {
     "data": {
      "text/markdown": [
       "<div class=\"alert alert-block alert-info\"><b>NOTE: </b>Attemping to reconnect https://www.reddit.com/r/AskParents.json</div>"
      ],
      "text/plain": [
       "<IPython.core.display.Markdown object>"
      ]
     },
     "metadata": {},
     "output_type": "display_data"
    },
    {
     "data": {
      "text/markdown": [
       "<div class=\"alert alert-block alert-success\"><b>SUCCESS: </b>Status Code 200</div>"
      ],
      "text/plain": [
       "<IPython.core.display.Markdown object>"
      ]
     },
     "metadata": {},
     "output_type": "display_data"
    },
    {
     "data": {
      "text/markdown": [
       "<div class=\"alert alert-block alert-info\"><b>NOTE: </b>Attemping to reconnect https://www.reddit.com/r/AskParents.json</div>"
      ],
      "text/plain": [
       "<IPython.core.display.Markdown object>"
      ]
     },
     "metadata": {},
     "output_type": "display_data"
    },
    {
     "data": {
      "text/markdown": [
       "<div class=\"alert alert-block alert-success\"><b>SUCCESS: </b>Status Code 200</div>"
      ],
      "text/plain": [
       "<IPython.core.display.Markdown object>"
      ]
     },
     "metadata": {},
     "output_type": "display_data"
    },
    {
     "data": {
      "text/markdown": [
       "<div class=\"alert alert-block alert-info\"><b>NOTE: </b>Attemping to reconnect https://www.reddit.com/r/AskParents.json</div>"
      ],
      "text/plain": [
       "<IPython.core.display.Markdown object>"
      ]
     },
     "metadata": {},
     "output_type": "display_data"
    },
    {
     "data": {
      "text/markdown": [
       "<div class=\"alert alert-block alert-success\"><b>SUCCESS: </b>Status Code 200</div>"
      ],
      "text/plain": [
       "<IPython.core.display.Markdown object>"
      ]
     },
     "metadata": {},
     "output_type": "display_data"
    },
    {
     "data": {
      "text/markdown": [
       "<div class=\"alert alert-block alert-info\"><b>NOTE: </b>Attemping to reconnect https://www.reddit.com/r/AskParents.json</div>"
      ],
      "text/plain": [
       "<IPython.core.display.Markdown object>"
      ]
     },
     "metadata": {},
     "output_type": "display_data"
    },
    {
     "data": {
      "text/markdown": [
       "<div class=\"alert alert-block alert-success\"><b>SUCCESS: </b>Status Code 200</div>"
      ],
      "text/plain": [
       "<IPython.core.display.Markdown object>"
      ]
     },
     "metadata": {},
     "output_type": "display_data"
    },
    {
     "data": {
      "text/markdown": [
       "<div class=\"alert alert-block alert-info\"><b>NOTE: </b>Attemping to reconnect https://www.reddit.com/r/AskParents.json</div>"
      ],
      "text/plain": [
       "<IPython.core.display.Markdown object>"
      ]
     },
     "metadata": {},
     "output_type": "display_data"
    },
    {
     "data": {
      "text/markdown": [
       "<div class=\"alert alert-block alert-success\"><b>SUCCESS: </b>Status Code 200</div>"
      ],
      "text/plain": [
       "<IPython.core.display.Markdown object>"
      ]
     },
     "metadata": {},
     "output_type": "display_data"
    },
    {
     "data": {
      "text/markdown": [
       "<div class=\"alert alert-block alert-info\"><b>NOTE: </b>Attemping to reconnect https://www.reddit.com/r/AskParents.json</div>"
      ],
      "text/plain": [
       "<IPython.core.display.Markdown object>"
      ]
     },
     "metadata": {},
     "output_type": "display_data"
    },
    {
     "data": {
      "text/markdown": [
       "<div class=\"alert alert-block alert-success\"><b>SUCCESS: </b>Status Code 200</div>"
      ],
      "text/plain": [
       "<IPython.core.display.Markdown object>"
      ]
     },
     "metadata": {},
     "output_type": "display_data"
    },
    {
     "data": {
      "text/markdown": [
       "<div class=\"alert alert-block alert-info\"><b>NOTE: </b>Attemping to reconnect https://www.reddit.com/r/AskParents.json</div>"
      ],
      "text/plain": [
       "<IPython.core.display.Markdown object>"
      ]
     },
     "metadata": {},
     "output_type": "display_data"
    },
    {
     "data": {
      "text/markdown": [
       "<div class=\"alert alert-block alert-success\"><b>SUCCESS: </b>Status Code 200</div>"
      ],
      "text/plain": [
       "<IPython.core.display.Markdown object>"
      ]
     },
     "metadata": {},
     "output_type": "display_data"
    },
    {
     "data": {
      "text/markdown": [
       "<div class=\"alert alert-block alert-info\"><b>NOTE: </b>Attemping to reconnect https://www.reddit.com/r/AskParents.json</div>"
      ],
      "text/plain": [
       "<IPython.core.display.Markdown object>"
      ]
     },
     "metadata": {},
     "output_type": "display_data"
    },
    {
     "data": {
      "text/markdown": [
       "<div class=\"alert alert-block alert-success\"><b>SUCCESS: </b>Status Code 200</div>"
      ],
      "text/plain": [
       "<IPython.core.display.Markdown object>"
      ]
     },
     "metadata": {},
     "output_type": "display_data"
    },
    {
     "data": {
      "text/markdown": [
       "<div class=\"alert alert-block alert-info\"><b>NOTE: </b>Attemping to reconnect https://www.reddit.com/r/AskParents.json</div>"
      ],
      "text/plain": [
       "<IPython.core.display.Markdown object>"
      ]
     },
     "metadata": {},
     "output_type": "display_data"
    },
    {
     "data": {
      "text/markdown": [
       "<div class=\"alert alert-block alert-success\"><b>SUCCESS: </b>Status Code 200</div>"
      ],
      "text/plain": [
       "<IPython.core.display.Markdown object>"
      ]
     },
     "metadata": {},
     "output_type": "display_data"
    },
    {
     "data": {
      "text/markdown": [
       "<div class=\"alert alert-block alert-info\"><b>NOTE: </b>Attemping to reconnect https://www.reddit.com/r/AskParents.json</div>"
      ],
      "text/plain": [
       "<IPython.core.display.Markdown object>"
      ]
     },
     "metadata": {},
     "output_type": "display_data"
    },
    {
     "data": {
      "text/markdown": [
       "<div class=\"alert alert-block alert-success\"><b>SUCCESS: </b>Status Code 200</div>"
      ],
      "text/plain": [
       "<IPython.core.display.Markdown object>"
      ]
     },
     "metadata": {},
     "output_type": "display_data"
    },
    {
     "data": {
      "text/markdown": [
       "<div class=\"alert alert-block alert-info\"><b>NOTE: </b>Attemping to reconnect https://www.reddit.com/r/AskParents.json</div>"
      ],
      "text/plain": [
       "<IPython.core.display.Markdown object>"
      ]
     },
     "metadata": {},
     "output_type": "display_data"
    },
    {
     "data": {
      "text/markdown": [
       "<div class=\"alert alert-block alert-success\"><b>SUCCESS: </b>Status Code 200</div>"
      ],
      "text/plain": [
       "<IPython.core.display.Markdown object>"
      ]
     },
     "metadata": {},
     "output_type": "display_data"
    },
    {
     "data": {
      "text/markdown": [
       "<div class=\"alert alert-block alert-info\"><b>NOTE: </b>Attemping to reconnect https://www.reddit.com/r/AskParents.json</div>"
      ],
      "text/plain": [
       "<IPython.core.display.Markdown object>"
      ]
     },
     "metadata": {},
     "output_type": "display_data"
    },
    {
     "data": {
      "text/markdown": [
       "<div class=\"alert alert-block alert-success\"><b>SUCCESS: </b>Status Code 200</div>"
      ],
      "text/plain": [
       "<IPython.core.display.Markdown object>"
      ]
     },
     "metadata": {},
     "output_type": "display_data"
    },
    {
     "data": {
      "text/markdown": [
       "<div class=\"alert alert-block alert-info\"><b>NOTE: </b>Attemping to reconnect https://www.reddit.com/r/AskParents.json</div>"
      ],
      "text/plain": [
       "<IPython.core.display.Markdown object>"
      ]
     },
     "metadata": {},
     "output_type": "display_data"
    },
    {
     "data": {
      "text/markdown": [
       "<div class=\"alert alert-block alert-success\"><b>SUCCESS: </b>Status Code 200</div>"
      ],
      "text/plain": [
       "<IPython.core.display.Markdown object>"
      ]
     },
     "metadata": {},
     "output_type": "display_data"
    },
    {
     "data": {
      "text/markdown": [
       "<div class=\"alert alert-block alert-info\"><b>NOTE: </b>Attemping to reconnect https://www.reddit.com/r/AskParents.json</div>"
      ],
      "text/plain": [
       "<IPython.core.display.Markdown object>"
      ]
     },
     "metadata": {},
     "output_type": "display_data"
    },
    {
     "data": {
      "text/markdown": [
       "<div class=\"alert alert-block alert-success\"><b>SUCCESS: </b>Status Code 200</div>"
      ],
      "text/plain": [
       "<IPython.core.display.Markdown object>"
      ]
     },
     "metadata": {},
     "output_type": "display_data"
    },
    {
     "data": {
      "text/markdown": [
       "<div class=\"alert alert-block alert-info\"><b>NOTE: </b>Attemping to reconnect https://www.reddit.com/r/Economics.json</div>"
      ],
      "text/plain": [
       "<IPython.core.display.Markdown object>"
      ]
     },
     "metadata": {},
     "output_type": "display_data"
    },
    {
     "data": {
      "text/markdown": [
       "<div class=\"alert alert-block alert-success\"><b>SUCCESS: </b>Status Code 200</div>"
      ],
      "text/plain": [
       "<IPython.core.display.Markdown object>"
      ]
     },
     "metadata": {},
     "output_type": "display_data"
    },
    {
     "data": {
      "text/markdown": [
       "<div class=\"alert alert-block alert-info\"><b>NOTE: </b>Attemping to reconnect https://www.reddit.com/r/Economics.json</div>"
      ],
      "text/plain": [
       "<IPython.core.display.Markdown object>"
      ]
     },
     "metadata": {},
     "output_type": "display_data"
    },
    {
     "data": {
      "text/markdown": [
       "<div class=\"alert alert-block alert-success\"><b>SUCCESS: </b>Status Code 200</div>"
      ],
      "text/plain": [
       "<IPython.core.display.Markdown object>"
      ]
     },
     "metadata": {},
     "output_type": "display_data"
    },
    {
     "data": {
      "text/markdown": [
       "<div class=\"alert alert-block alert-info\"><b>NOTE: </b>Attemping to reconnect https://www.reddit.com/r/Economics.json</div>"
      ],
      "text/plain": [
       "<IPython.core.display.Markdown object>"
      ]
     },
     "metadata": {},
     "output_type": "display_data"
    },
    {
     "data": {
      "text/markdown": [
       "<div class=\"alert alert-block alert-success\"><b>SUCCESS: </b>Status Code 200</div>"
      ],
      "text/plain": [
       "<IPython.core.display.Markdown object>"
      ]
     },
     "metadata": {},
     "output_type": "display_data"
    },
    {
     "data": {
      "text/markdown": [
       "<div class=\"alert alert-block alert-info\"><b>NOTE: </b>Attemping to reconnect https://www.reddit.com/r/Economics.json</div>"
      ],
      "text/plain": [
       "<IPython.core.display.Markdown object>"
      ]
     },
     "metadata": {},
     "output_type": "display_data"
    },
    {
     "data": {
      "text/markdown": [
       "<div class=\"alert alert-block alert-success\"><b>SUCCESS: </b>Status Code 200</div>"
      ],
      "text/plain": [
       "<IPython.core.display.Markdown object>"
      ]
     },
     "metadata": {},
     "output_type": "display_data"
    },
    {
     "data": {
      "text/markdown": [
       "<div class=\"alert alert-block alert-info\"><b>NOTE: </b>Attemping to reconnect https://www.reddit.com/r/Economics.json</div>"
      ],
      "text/plain": [
       "<IPython.core.display.Markdown object>"
      ]
     },
     "metadata": {},
     "output_type": "display_data"
    },
    {
     "data": {
      "text/markdown": [
       "<div class=\"alert alert-block alert-success\"><b>SUCCESS: </b>Status Code 200</div>"
      ],
      "text/plain": [
       "<IPython.core.display.Markdown object>"
      ]
     },
     "metadata": {},
     "output_type": "display_data"
    },
    {
     "data": {
      "text/markdown": [
       "<div class=\"alert alert-block alert-info\"><b>NOTE: </b>Attemping to reconnect https://www.reddit.com/r/Economics.json</div>"
      ],
      "text/plain": [
       "<IPython.core.display.Markdown object>"
      ]
     },
     "metadata": {},
     "output_type": "display_data"
    },
    {
     "data": {
      "text/markdown": [
       "<div class=\"alert alert-block alert-success\"><b>SUCCESS: </b>Status Code 200</div>"
      ],
      "text/plain": [
       "<IPython.core.display.Markdown object>"
      ]
     },
     "metadata": {},
     "output_type": "display_data"
    },
    {
     "data": {
      "text/markdown": [
       "<div class=\"alert alert-block alert-info\"><b>NOTE: </b>Attemping to reconnect https://www.reddit.com/r/Economics.json</div>"
      ],
      "text/plain": [
       "<IPython.core.display.Markdown object>"
      ]
     },
     "metadata": {},
     "output_type": "display_data"
    },
    {
     "data": {
      "text/markdown": [
       "<div class=\"alert alert-block alert-success\"><b>SUCCESS: </b>Status Code 200</div>"
      ],
      "text/plain": [
       "<IPython.core.display.Markdown object>"
      ]
     },
     "metadata": {},
     "output_type": "display_data"
    },
    {
     "data": {
      "text/markdown": [
       "<div class=\"alert alert-block alert-info\"><b>NOTE: </b>Attemping to reconnect https://www.reddit.com/r/Economics.json</div>"
      ],
      "text/plain": [
       "<IPython.core.display.Markdown object>"
      ]
     },
     "metadata": {},
     "output_type": "display_data"
    },
    {
     "data": {
      "text/markdown": [
       "<div class=\"alert alert-block alert-success\"><b>SUCCESS: </b>Status Code 200</div>"
      ],
      "text/plain": [
       "<IPython.core.display.Markdown object>"
      ]
     },
     "metadata": {},
     "output_type": "display_data"
    },
    {
     "data": {
      "text/markdown": [
       "<div class=\"alert alert-block alert-info\"><b>NOTE: </b>Attemping to reconnect https://www.reddit.com/r/Economics.json</div>"
      ],
      "text/plain": [
       "<IPython.core.display.Markdown object>"
      ]
     },
     "metadata": {},
     "output_type": "display_data"
    },
    {
     "data": {
      "text/markdown": [
       "<div class=\"alert alert-block alert-success\"><b>SUCCESS: </b>Status Code 200</div>"
      ],
      "text/plain": [
       "<IPython.core.display.Markdown object>"
      ]
     },
     "metadata": {},
     "output_type": "display_data"
    },
    {
     "data": {
      "text/markdown": [
       "<div class=\"alert alert-block alert-info\"><b>NOTE: </b>Attemping to reconnect https://www.reddit.com/r/Economics.json</div>"
      ],
      "text/plain": [
       "<IPython.core.display.Markdown object>"
      ]
     },
     "metadata": {},
     "output_type": "display_data"
    },
    {
     "data": {
      "text/markdown": [
       "<div class=\"alert alert-block alert-success\"><b>SUCCESS: </b>Status Code 200</div>"
      ],
      "text/plain": [
       "<IPython.core.display.Markdown object>"
      ]
     },
     "metadata": {},
     "output_type": "display_data"
    },
    {
     "data": {
      "text/markdown": [
       "<div class=\"alert alert-block alert-info\"><b>NOTE: </b>Attemping to reconnect https://www.reddit.com/r/Economics.json</div>"
      ],
      "text/plain": [
       "<IPython.core.display.Markdown object>"
      ]
     },
     "metadata": {},
     "output_type": "display_data"
    },
    {
     "data": {
      "text/markdown": [
       "<div class=\"alert alert-block alert-success\"><b>SUCCESS: </b>Status Code 200</div>"
      ],
      "text/plain": [
       "<IPython.core.display.Markdown object>"
      ]
     },
     "metadata": {},
     "output_type": "display_data"
    },
    {
     "data": {
      "text/markdown": [
       "<div class=\"alert alert-block alert-info\"><b>NOTE: </b>Attemping to reconnect https://www.reddit.com/r/Economics.json</div>"
      ],
      "text/plain": [
       "<IPython.core.display.Markdown object>"
      ]
     },
     "metadata": {},
     "output_type": "display_data"
    },
    {
     "data": {
      "text/markdown": [
       "<div class=\"alert alert-block alert-success\"><b>SUCCESS: </b>Status Code 200</div>"
      ],
      "text/plain": [
       "<IPython.core.display.Markdown object>"
      ]
     },
     "metadata": {},
     "output_type": "display_data"
    },
    {
     "data": {
      "text/markdown": [
       "<div class=\"alert alert-block alert-info\"><b>NOTE: </b>Attemping to reconnect https://www.reddit.com/r/Economics.json</div>"
      ],
      "text/plain": [
       "<IPython.core.display.Markdown object>"
      ]
     },
     "metadata": {},
     "output_type": "display_data"
    },
    {
     "data": {
      "text/markdown": [
       "<div class=\"alert alert-block alert-success\"><b>SUCCESS: </b>Status Code 200</div>"
      ],
      "text/plain": [
       "<IPython.core.display.Markdown object>"
      ]
     },
     "metadata": {},
     "output_type": "display_data"
    },
    {
     "data": {
      "text/markdown": [
       "<div class=\"alert alert-block alert-info\"><b>NOTE: </b>Attemping to reconnect https://www.reddit.com/r/Economics.json</div>"
      ],
      "text/plain": [
       "<IPython.core.display.Markdown object>"
      ]
     },
     "metadata": {},
     "output_type": "display_data"
    },
    {
     "data": {
      "text/markdown": [
       "<div class=\"alert alert-block alert-success\"><b>SUCCESS: </b>Status Code 200</div>"
      ],
      "text/plain": [
       "<IPython.core.display.Markdown object>"
      ]
     },
     "metadata": {},
     "output_type": "display_data"
    },
    {
     "data": {
      "text/markdown": [
       "<div class=\"alert alert-block alert-info\"><b>NOTE: </b>Attemping to reconnect https://www.reddit.com/r/Economics.json</div>"
      ],
      "text/plain": [
       "<IPython.core.display.Markdown object>"
      ]
     },
     "metadata": {},
     "output_type": "display_data"
    },
    {
     "data": {
      "text/markdown": [
       "<div class=\"alert alert-block alert-success\"><b>SUCCESS: </b>Status Code 200</div>"
      ],
      "text/plain": [
       "<IPython.core.display.Markdown object>"
      ]
     },
     "metadata": {},
     "output_type": "display_data"
    },
    {
     "data": {
      "text/markdown": [
       "<div class=\"alert alert-block alert-info\"><b>NOTE: </b>Attemping to reconnect https://www.reddit.com/r/Economics.json</div>"
      ],
      "text/plain": [
       "<IPython.core.display.Markdown object>"
      ]
     },
     "metadata": {},
     "output_type": "display_data"
    },
    {
     "data": {
      "text/markdown": [
       "<div class=\"alert alert-block alert-success\"><b>SUCCESS: </b>Status Code 200</div>"
      ],
      "text/plain": [
       "<IPython.core.display.Markdown object>"
      ]
     },
     "metadata": {},
     "output_type": "display_data"
    },
    {
     "data": {
      "text/markdown": [
       "<div class=\"alert alert-block alert-info\"><b>NOTE: </b>Attemping to reconnect https://www.reddit.com/r/Economics.json</div>"
      ],
      "text/plain": [
       "<IPython.core.display.Markdown object>"
      ]
     },
     "metadata": {},
     "output_type": "display_data"
    },
    {
     "data": {
      "text/markdown": [
       "<div class=\"alert alert-block alert-success\"><b>SUCCESS: </b>Status Code 200</div>"
      ],
      "text/plain": [
       "<IPython.core.display.Markdown object>"
      ]
     },
     "metadata": {},
     "output_type": "display_data"
    },
    {
     "data": {
      "text/markdown": [
       "<div class=\"alert alert-block alert-info\"><b>NOTE: </b>Attemping to reconnect https://www.reddit.com/r/Economics.json</div>"
      ],
      "text/plain": [
       "<IPython.core.display.Markdown object>"
      ]
     },
     "metadata": {},
     "output_type": "display_data"
    },
    {
     "data": {
      "text/markdown": [
       "<div class=\"alert alert-block alert-success\"><b>SUCCESS: </b>Status Code 200</div>"
      ],
      "text/plain": [
       "<IPython.core.display.Markdown object>"
      ]
     },
     "metadata": {},
     "output_type": "display_data"
    },
    {
     "data": {
      "text/markdown": [
       "<div class=\"alert alert-block alert-info\"><b>NOTE: </b>Attemping to reconnect https://www.reddit.com/r/Economics.json</div>"
      ],
      "text/plain": [
       "<IPython.core.display.Markdown object>"
      ]
     },
     "metadata": {},
     "output_type": "display_data"
    },
    {
     "data": {
      "text/markdown": [
       "<div class=\"alert alert-block alert-success\"><b>SUCCESS: </b>Status Code 200</div>"
      ],
      "text/plain": [
       "<IPython.core.display.Markdown object>"
      ]
     },
     "metadata": {},
     "output_type": "display_data"
    },
    {
     "data": {
      "text/markdown": [
       "<div class=\"alert alert-block alert-info\"><b>NOTE: </b>Attemping to reconnect https://www.reddit.com/r/Economics.json</div>"
      ],
      "text/plain": [
       "<IPython.core.display.Markdown object>"
      ]
     },
     "metadata": {},
     "output_type": "display_data"
    },
    {
     "data": {
      "text/markdown": [
       "<div class=\"alert alert-block alert-success\"><b>SUCCESS: </b>Status Code 200</div>"
      ],
      "text/plain": [
       "<IPython.core.display.Markdown object>"
      ]
     },
     "metadata": {},
     "output_type": "display_data"
    },
    {
     "data": {
      "text/markdown": [
       "<div class=\"alert alert-block alert-info\"><b>NOTE: </b>Attemping to reconnect https://www.reddit.com/r/Economics.json</div>"
      ],
      "text/plain": [
       "<IPython.core.display.Markdown object>"
      ]
     },
     "metadata": {},
     "output_type": "display_data"
    },
    {
     "data": {
      "text/markdown": [
       "<div class=\"alert alert-block alert-success\"><b>SUCCESS: </b>Status Code 200</div>"
      ],
      "text/plain": [
       "<IPython.core.display.Markdown object>"
      ]
     },
     "metadata": {},
     "output_type": "display_data"
    },
    {
     "data": {
      "text/markdown": [
       "<div class=\"alert alert-block alert-info\"><b>NOTE: </b>Attemping to reconnect https://www.reddit.com/r/Economics.json</div>"
      ],
      "text/plain": [
       "<IPython.core.display.Markdown object>"
      ]
     },
     "metadata": {},
     "output_type": "display_data"
    },
    {
     "data": {
      "text/markdown": [
       "<div class=\"alert alert-block alert-success\"><b>SUCCESS: </b>Status Code 200</div>"
      ],
      "text/plain": [
       "<IPython.core.display.Markdown object>"
      ]
     },
     "metadata": {},
     "output_type": "display_data"
    },
    {
     "data": {
      "text/markdown": [
       "<div class=\"alert alert-block alert-info\"><b>NOTE: </b>Attemping to reconnect https://www.reddit.com/r/Economics.json</div>"
      ],
      "text/plain": [
       "<IPython.core.display.Markdown object>"
      ]
     },
     "metadata": {},
     "output_type": "display_data"
    },
    {
     "data": {
      "text/markdown": [
       "<div class=\"alert alert-block alert-success\"><b>SUCCESS: </b>Status Code 200</div>"
      ],
      "text/plain": [
       "<IPython.core.display.Markdown object>"
      ]
     },
     "metadata": {},
     "output_type": "display_data"
    },
    {
     "data": {
      "text/markdown": [
       "<div class=\"alert alert-block alert-info\"><b>NOTE: </b>Attemping to reconnect https://www.reddit.com/r/Economics.json</div>"
      ],
      "text/plain": [
       "<IPython.core.display.Markdown object>"
      ]
     },
     "metadata": {},
     "output_type": "display_data"
    },
    {
     "data": {
      "text/markdown": [
       "<div class=\"alert alert-block alert-success\"><b>SUCCESS: </b>Status Code 200</div>"
      ],
      "text/plain": [
       "<IPython.core.display.Markdown object>"
      ]
     },
     "metadata": {},
     "output_type": "display_data"
    },
    {
     "data": {
      "text/markdown": [
       "<div class=\"alert alert-block alert-info\"><b>NOTE: </b>Attemping to reconnect https://www.reddit.com/r/Economics.json</div>"
      ],
      "text/plain": [
       "<IPython.core.display.Markdown object>"
      ]
     },
     "metadata": {},
     "output_type": "display_data"
    },
    {
     "data": {
      "text/markdown": [
       "<div class=\"alert alert-block alert-success\"><b>SUCCESS: </b>Status Code 200</div>"
      ],
      "text/plain": [
       "<IPython.core.display.Markdown object>"
      ]
     },
     "metadata": {},
     "output_type": "display_data"
    },
    {
     "data": {
      "text/markdown": [
       "<div class=\"alert alert-block alert-info\"><b>NOTE: </b>Attemping to reconnect https://www.reddit.com/r/Economics.json</div>"
      ],
      "text/plain": [
       "<IPython.core.display.Markdown object>"
      ]
     },
     "metadata": {},
     "output_type": "display_data"
    },
    {
     "data": {
      "text/markdown": [
       "<div class=\"alert alert-block alert-success\"><b>SUCCESS: </b>Status Code 200</div>"
      ],
      "text/plain": [
       "<IPython.core.display.Markdown object>"
      ]
     },
     "metadata": {},
     "output_type": "display_data"
    },
    {
     "data": {
      "text/markdown": [
       "<div class=\"alert alert-block alert-info\"><b>NOTE: </b>Attemping to reconnect https://www.reddit.com/r/Economics.json</div>"
      ],
      "text/plain": [
       "<IPython.core.display.Markdown object>"
      ]
     },
     "metadata": {},
     "output_type": "display_data"
    },
    {
     "data": {
      "text/markdown": [
       "<div class=\"alert alert-block alert-success\"><b>SUCCESS: </b>Status Code 200</div>"
      ],
      "text/plain": [
       "<IPython.core.display.Markdown object>"
      ]
     },
     "metadata": {},
     "output_type": "display_data"
    },
    {
     "data": {
      "text/markdown": [
       "<div class=\"alert alert-block alert-info\"><b>NOTE: </b>Attemping to reconnect https://www.reddit.com/r/Economics.json</div>"
      ],
      "text/plain": [
       "<IPython.core.display.Markdown object>"
      ]
     },
     "metadata": {},
     "output_type": "display_data"
    },
    {
     "data": {
      "text/markdown": [
       "<div class=\"alert alert-block alert-success\"><b>SUCCESS: </b>Status Code 200</div>"
      ],
      "text/plain": [
       "<IPython.core.display.Markdown object>"
      ]
     },
     "metadata": {},
     "output_type": "display_data"
    },
    {
     "data": {
      "text/markdown": [
       "<div class=\"alert alert-block alert-info\"><b>NOTE: </b>Attemping to reconnect https://www.reddit.com/r/Economics.json</div>"
      ],
      "text/plain": [
       "<IPython.core.display.Markdown object>"
      ]
     },
     "metadata": {},
     "output_type": "display_data"
    },
    {
     "data": {
      "text/markdown": [
       "<div class=\"alert alert-block alert-success\"><b>SUCCESS: </b>Status Code 200</div>"
      ],
      "text/plain": [
       "<IPython.core.display.Markdown object>"
      ]
     },
     "metadata": {},
     "output_type": "display_data"
    },
    {
     "data": {
      "text/markdown": [
       "<div class=\"alert alert-block alert-info\"><b>NOTE: </b>Attemping to reconnect https://www.reddit.com/r/Economics.json</div>"
      ],
      "text/plain": [
       "<IPython.core.display.Markdown object>"
      ]
     },
     "metadata": {},
     "output_type": "display_data"
    },
    {
     "data": {
      "text/markdown": [
       "<div class=\"alert alert-block alert-success\"><b>SUCCESS: </b>Status Code 200</div>"
      ],
      "text/plain": [
       "<IPython.core.display.Markdown object>"
      ]
     },
     "metadata": {},
     "output_type": "display_data"
    },
    {
     "data": {
      "text/markdown": [
       "<div class=\"alert alert-block alert-info\"><b>NOTE: </b>Attemping to reconnect https://www.reddit.com/r/Economics.json</div>"
      ],
      "text/plain": [
       "<IPython.core.display.Markdown object>"
      ]
     },
     "metadata": {},
     "output_type": "display_data"
    },
    {
     "data": {
      "text/markdown": [
       "<div class=\"alert alert-block alert-success\"><b>SUCCESS: </b>Status Code 200</div>"
      ],
      "text/plain": [
       "<IPython.core.display.Markdown object>"
      ]
     },
     "metadata": {},
     "output_type": "display_data"
    },
    {
     "data": {
      "text/markdown": [
       "<div class=\"alert alert-block alert-info\"><b>NOTE: </b>Attemping to reconnect https://www.reddit.com/r/Economics.json</div>"
      ],
      "text/plain": [
       "<IPython.core.display.Markdown object>"
      ]
     },
     "metadata": {},
     "output_type": "display_data"
    },
    {
     "data": {
      "text/markdown": [
       "<div class=\"alert alert-block alert-success\"><b>SUCCESS: </b>Status Code 200</div>"
      ],
      "text/plain": [
       "<IPython.core.display.Markdown object>"
      ]
     },
     "metadata": {},
     "output_type": "display_data"
    },
    {
     "data": {
      "text/markdown": [
       "<div class=\"alert alert-block alert-info\"><b>NOTE: </b>Attemping to reconnect https://www.reddit.com/r/Economics.json</div>"
      ],
      "text/plain": [
       "<IPython.core.display.Markdown object>"
      ]
     },
     "metadata": {},
     "output_type": "display_data"
    },
    {
     "data": {
      "text/markdown": [
       "<div class=\"alert alert-block alert-success\"><b>SUCCESS: </b>Status Code 200</div>"
      ],
      "text/plain": [
       "<IPython.core.display.Markdown object>"
      ]
     },
     "metadata": {},
     "output_type": "display_data"
    },
    {
     "data": {
      "text/markdown": [
       "<div class=\"alert alert-block alert-info\"><b>NOTE: </b>Attemping to reconnect https://www.reddit.com/r/Economics.json</div>"
      ],
      "text/plain": [
       "<IPython.core.display.Markdown object>"
      ]
     },
     "metadata": {},
     "output_type": "display_data"
    },
    {
     "data": {
      "text/markdown": [
       "<div class=\"alert alert-block alert-success\"><b>SUCCESS: </b>Status Code 200</div>"
      ],
      "text/plain": [
       "<IPython.core.display.Markdown object>"
      ]
     },
     "metadata": {},
     "output_type": "display_data"
    },
    {
     "data": {
      "text/markdown": [
       "<div class=\"alert alert-block alert-info\"><b>NOTE: </b>Attemping to reconnect https://www.reddit.com/r/Economics.json</div>"
      ],
      "text/plain": [
       "<IPython.core.display.Markdown object>"
      ]
     },
     "metadata": {},
     "output_type": "display_data"
    },
    {
     "data": {
      "text/markdown": [
       "<div class=\"alert alert-block alert-success\"><b>SUCCESS: </b>Status Code 200</div>"
      ],
      "text/plain": [
       "<IPython.core.display.Markdown object>"
      ]
     },
     "metadata": {},
     "output_type": "display_data"
    },
    {
     "data": {
      "text/markdown": [
       "<div class=\"alert alert-block alert-info\"><b>NOTE: </b>Attemping to reconnect https://www.reddit.com/r/Economics.json</div>"
      ],
      "text/plain": [
       "<IPython.core.display.Markdown object>"
      ]
     },
     "metadata": {},
     "output_type": "display_data"
    },
    {
     "data": {
      "text/markdown": [
       "<div class=\"alert alert-block alert-success\"><b>SUCCESS: </b>Status Code 200</div>"
      ],
      "text/plain": [
       "<IPython.core.display.Markdown object>"
      ]
     },
     "metadata": {},
     "output_type": "display_data"
    },
    {
     "data": {
      "text/markdown": [
       "<div class=\"alert alert-block alert-info\"><b>NOTE: </b>Attemping to reconnect https://www.reddit.com/r/Economics.json</div>"
      ],
      "text/plain": [
       "<IPython.core.display.Markdown object>"
      ]
     },
     "metadata": {},
     "output_type": "display_data"
    },
    {
     "data": {
      "text/markdown": [
       "<div class=\"alert alert-block alert-success\"><b>SUCCESS: </b>Status Code 200</div>"
      ],
      "text/plain": [
       "<IPython.core.display.Markdown object>"
      ]
     },
     "metadata": {},
     "output_type": "display_data"
    },
    {
     "data": {
      "text/markdown": [
       "<div class=\"alert alert-block alert-info\"><b>NOTE: </b>Attemping to reconnect https://www.reddit.com/r/Economics.json</div>"
      ],
      "text/plain": [
       "<IPython.core.display.Markdown object>"
      ]
     },
     "metadata": {},
     "output_type": "display_data"
    },
    {
     "data": {
      "text/markdown": [
       "<div class=\"alert alert-block alert-success\"><b>SUCCESS: </b>Status Code 200</div>"
      ],
      "text/plain": [
       "<IPython.core.display.Markdown object>"
      ]
     },
     "metadata": {},
     "output_type": "display_data"
    },
    {
     "data": {
      "text/markdown": [
       "<div class=\"alert alert-block alert-info\"><b>NOTE: </b>Attemping to reconnect https://www.reddit.com/r/Economics.json</div>"
      ],
      "text/plain": [
       "<IPython.core.display.Markdown object>"
      ]
     },
     "metadata": {},
     "output_type": "display_data"
    },
    {
     "data": {
      "text/markdown": [
       "<div class=\"alert alert-block alert-success\"><b>SUCCESS: </b>Status Code 200</div>"
      ],
      "text/plain": [
       "<IPython.core.display.Markdown object>"
      ]
     },
     "metadata": {},
     "output_type": "display_data"
    },
    {
     "data": {
      "text/markdown": [
       "<div class=\"alert alert-block alert-info\"><b>NOTE: </b>Attemping to reconnect https://www.reddit.com/r/Economics.json</div>"
      ],
      "text/plain": [
       "<IPython.core.display.Markdown object>"
      ]
     },
     "metadata": {},
     "output_type": "display_data"
    }
   ],
   "source": [
    "scrape('AskParents','Economics',True)"
   ]
  },
  {
   "cell_type": "code",
   "execution_count": 15,
   "metadata": {},
   "outputs": [],
   "source": [
    "# Scrape posts following 'after' from the second URL \n",
    "# Place them in a dataframe\n",
    "# Export to a file\n",
    "\n",
    "# if scrape:\n",
    "#     after = None # \"t3_35fh6e\"\n",
    "#     url_cape = \"https://www.reddit.com/r/Economics.json\"\n",
    "#     scrape_cape  = scrape_data(url_cape,after)\n",
    "\n",
    "#     posts_cape = []\n",
    "#     for i in range(len(scrape_cape)):\n",
    "#         posts_cape.append(scrape_cape[i]['data'])\n",
    "#     df_cape = pd.DataFrame(posts_cape)\n",
    "#     df_cape.drop_duplicates(subset='title', inplace=True)\n",
    "#     df_cape.to_csv(f'../data/economics.csv')"
   ]
  },
  {
   "cell_type": "code",
   "execution_count": 16,
   "metadata": {},
   "outputs": [],
   "source": [
    "# If not scraping, read from csv\n",
    "if not scrape:\n",
    "    df_cape = pd.read_csv(\"../data/economics.csv\")\n",
    "    df_gv = pd.read_csv(\"../data/askparents.csv\")"
   ]
  },
  {
   "cell_type": "markdown",
   "metadata": {},
   "source": [
    "III. Explore the data.\n",
    "Use CountVectorizer or TfidfVectorizer from scikit-learn to create features from the thread titles and descriptions (NOTE: Not all threads have a description).\n",
    "\n",
    "Create the DataFrame and the target vector\n",
    "Where y=1, the post is from r/CapeCod."
   ]
  },
  {
   "cell_type": "code",
   "execution_count": 17,
   "metadata": {},
   "outputs": [
    {
     "ename": "NameError",
     "evalue": "name 'df_gv' is not defined",
     "output_type": "error",
     "traceback": [
      "\u001b[0;31m----------------------------------------------------------------\u001b[0m",
      "\u001b[0;31mNameError\u001b[0m                      Traceback (most recent call last)",
      "\u001b[0;32m<ipython-input-17-609ae98c06c8>\u001b[0m in \u001b[0;36m<module>\u001b[0;34m\u001b[0m\n\u001b[1;32m      1\u001b[0m \u001b[0;31m# Create the target vector\u001b[0m\u001b[0;34m\u001b[0m\u001b[0;34m\u001b[0m\u001b[0;34m\u001b[0m\u001b[0m\n\u001b[0;32m----> 2\u001b[0;31m \u001b[0mdf_gv\u001b[0m\u001b[0;34m[\u001b[0m\u001b[0;34m'is_cape'\u001b[0m\u001b[0;34m]\u001b[0m \u001b[0;34m=\u001b[0m \u001b[0;36m0\u001b[0m\u001b[0;34m\u001b[0m\u001b[0;34m\u001b[0m\u001b[0m\n\u001b[0m\u001b[1;32m      3\u001b[0m \u001b[0mdf_cape\u001b[0m\u001b[0;34m[\u001b[0m\u001b[0;34m'is_cape'\u001b[0m\u001b[0;34m]\u001b[0m \u001b[0;34m=\u001b[0m \u001b[0;36m1\u001b[0m\u001b[0;34m\u001b[0m\u001b[0;34m\u001b[0m\u001b[0m\n\u001b[1;32m      4\u001b[0m \u001b[0;34m\u001b[0m\u001b[0m\n\u001b[1;32m      5\u001b[0m \u001b[0;31m# Merge the dtafrmaes\u001b[0m\u001b[0;34m\u001b[0m\u001b[0;34m\u001b[0m\u001b[0;34m\u001b[0m\u001b[0m\n",
      "\u001b[0;31mNameError\u001b[0m: name 'df_gv' is not defined"
     ]
    }
   ],
   "source": [
    "# Create the target vector \n",
    "df_gv['is_cape'] = 0\n",
    "df_cape['is_cape'] = 1\n",
    "\n",
    "# Merge the dtafrmaes\n",
    "df = df_gv.append(df_cape, sort=True)\n",
    "df = df[['is_cape', 'title','id']]\n",
    "df.set_index(\"id\", inplace=True)\n",
    "\n",
    "# Split the target vector from the dataframe\n",
    "y = df['is_cape']\n",
    "df.drop('is_cape', inplace=True, axis=1)\n",
    "df.head()"
   ]
  },
  {
   "cell_type": "markdown",
   "metadata": {},
   "source": [
    "View the word clouds\n",
    "The WordCloud is from Peekaboo."
   ]
  },
  {
   "cell_type": "code",
   "execution_count": null,
   "metadata": {},
   "outputs": [],
   "source": [
    "# From https://stackoverflow.com/questions/16645799/how-to-create-a-word-cloud-from-a-corpus-in-python\n",
    "\n",
    "stopwords = set(STOPWORDS)\n",
    "\n",
    "def show_wordcloud(data, title = None):\n",
    "    wordcloud = WordCloud(\n",
    "        background_color='white',\n",
    "        stopwords=stopwords,\n",
    "        max_words=200,\n",
    "        max_font_size=40,\n",
    "        scale=3,\n",
    "        random_state=1 # chosen at random by flipping a coin; it was heads\n",
    "    ).generate(str(data))\n",
    "\n",
    "    fig = plt.figure(1, figsize=(12, 12))\n",
    "    plt.axis('off')\n",
    "    if title:\n",
    "        fig.suptitle(title, fontsize=20)\n",
    "        fig.subplots_adjust(top=2.3)\n",
    "\n",
    "    plt.imshow(wordcloud)\n",
    "    plt.show()"
   ]
  },
  {
   "cell_type": "code",
   "execution_count": null,
   "metadata": {},
   "outputs": [],
   "source": [
    "show_wordcloud(df_gv['title'])"
   ]
  },
  {
   "cell_type": "code",
   "execution_count": null,
   "metadata": {},
   "outputs": [],
   "source": [
    "show_wordcloud(df_cape['title'])"
   ]
  },
  {
   "cell_type": "code",
   "execution_count": null,
   "metadata": {},
   "outputs": [],
   "source": [
    "# Why Python and others\n",
    "# df_gv[df_gv['title'].str.contains(\"Texas\")]\n",
    "# df_cape[df_cape['title'].str.contains(\"Texas\")]"
   ]
  },
  {
   "cell_type": "code",
   "execution_count": null,
   "metadata": {},
   "outputs": [],
   "source": [
    "# Train/Test split\n",
    "X_train, X_test, y_train, y_test = train_test_split(df, y, random_state=42, stratify=y)"
   ]
  },
  {
   "cell_type": "markdown",
   "metadata": {},
   "source": [
    "Run a simple CountVectorizer and explore."
   ]
  },
  {
   "cell_type": "code",
   "execution_count": null,
   "metadata": {},
   "outputs": [],
   "source": [
    "cv_simple = CountVectorizer(stop_words='english')\n",
    "X_train_cv = cv_simple.fit_transform(X_train['title'])\n",
    "\n",
    "cv_train = pd.DataFrame(X_train_cv.todense(), columns=cv_simple.get_feature_names())"
   ]
  },
  {
   "cell_type": "markdown",
   "metadata": {},
   "source": [
    "Create a dataframe with counts of most common words"
   ]
  },
  {
   "cell_type": "code",
   "execution_count": null,
   "metadata": {},
   "outputs": [],
   "source": [
    "# Create a data frame of the most common words \n",
    "\n",
    "n_words = 40\n",
    "words = list(cv_train.sum().sort_values(ascending=False)[:n_words].index)\n",
    "cv_train['is_cape'] = y_train.values\n",
    "cv_train_small = cv_train.groupby('is_cape').sum()[words]\n",
    "cv_train_small.head()"
   ]
  },
  {
   "cell_type": "markdown",
   "metadata": {},
   "source": [
    "Plot the most common words"
   ]
  },
  {
   "cell_type": "code",
   "execution_count": null,
   "metadata": {},
   "outputs": [],
   "source": [
    "# Adapted from https://matplotlib.org/examples/api/barchart_demo.html\n",
    "\n",
    "words_cape = words\n",
    "words_count_cape = cv_train_small.loc[1]\n",
    "words_gv = words\n",
    "words_count_gv = cv_train_small.loc[0]\n",
    "width = 0.35       # the width of the bars\n",
    "ind = np.arange(n_words)\n",
    "\n",
    "fig, ax = plt.subplots(figsize=(15, 10))\n",
    "rects1 = ax.bar(ind, words_count_cape, width, color=colors[0])\n",
    "rects2 = ax.bar(ind+width,words_count_gv, width, color=colors[5])\n",
    "\n",
    "# add some text for labels, title and axes ticks\n",
    "ax.set_ylabel('Counts')\n",
    "ax.set_title('Counts by word and reddit')\n",
    "ax.set_xticks(ind + width / 2)\n",
    "ax.set_xticklabels(words,rotation='vertical')\n",
    "\n",
    "ax.set_ylim(0,80)\n",
    "\n",
    "ax.legend((rects1[0], rects2[0]), ('Cape Cod', 'Galveston'))\n",
    "\n",
    "plt.show()"
   ]
  },
  {
   "cell_type": "markdown",
   "metadata": {},
   "source": [
    "The most common words are not very surprising - place names.\n",
    "\n",
    "Since the beach in Galveston faces southeast, 'sunset' is a Cape Cod term. And Galveston has floating casinos, thus 'gaming'."
   ]
  },
  {
   "cell_type": "markdown",
   "metadata": {},
   "source": [
    "Run a simple TfidfVectorizer and explore."
   ]
  },
  {
   "cell_type": "code",
   "execution_count": null,
   "metadata": {},
   "outputs": [],
   "source": [
    "tv_simple = TfidfVectorizer(stop_words='english')\n",
    "X_train_tv = tv_simple.fit_transform(X_train['title'])\n",
    "\n",
    "tv_train = pd.DataFrame(X_train_tv.todense(), columns=tv_simple.get_feature_names())\n",
    "tv_train.head()"
   ]
  },
  {
   "cell_type": "markdown",
   "metadata": {},
   "source": [
    "Create a dataframe with counts of most frequent words"
   ]
  },
  {
   "cell_type": "code",
   "execution_count": null,
   "metadata": {},
   "outputs": [],
   "source": [
    "# Create a data frame of the most common words \n",
    "\n",
    "n_words = 20\n",
    "words = list(tv_train.sum().sort_values(ascending=False)[:n_words].index)\n",
    "tv_train['is_cape'] = y_train.values\n",
    "tv_train_small = tv_train.groupby('is_cape').sum()[words]\n",
    "tv_train_small.head()"
   ]
  },
  {
   "cell_type": "markdown",
   "metadata": {},
   "source": [
    "Plot the most frequent words"
   ]
  },
  {
   "cell_type": "code",
   "execution_count": null,
   "metadata": {},
   "outputs": [],
   "source": [
    "# Adapted from https://matplotlib.org/examples/api/barchart_demo.html\n",
    "\n",
    "words_cape = words\n",
    "words_count_cape = tv_train_small.loc[1]\n",
    "words_gv = words\n",
    "words_count_gv = tv_train_small.loc[0]\n",
    "width = 0.35       # the width of the bars\n",
    "ind = np.arange(n_words)\n",
    "\n",
    "fig, ax = plt.subplots(figsize=(15, 5))\n",
    "rects1 = ax.barh(ind, words_count_cape, width, color=colors[0])\n",
    "rects2 = ax.barh(ind+width,words_count_gv, width, color=colors[5])\n",
    "\n",
    "# add some text for labels, title and axes ticks\n",
    "ax.set_xlabel('TF-IDF value')\n",
    "ax.set_title('TF-IDF by word and reddit')\n",
    "ax.set_yticks(ind + width / 2)\n",
    "ax.set_yticklabels(words)  #,rotation='vertical')\n",
    "\n",
    "ax.set_xlim(0,20)\n",
    "\n",
    "ax.legend((rects1[0], rects2[0]), ('Cape Cod', 'Galveston'))\n",
    "\n",
    "plt.show()"
   ]
  },
  {
   "cell_type": "markdown",
   "metadata": {},
   "source": [
    "From looking at the most frequent words, I think that without place names, it will be difficult to differentiate between the two sets of posts. But we'll give it the good old college try."
   ]
  },
  {
   "cell_type": "markdown",
   "metadata": {},
   "source": [
    "IV. Natural Language Processing (NLP)\n",
    "Use CountVectorizer or TfidfVectorizer from scikit-learn to create features from the thread titles and descriptions (NOTE: Not all threads have a description).\n",
    "Examine using count or binary features in the model\n",
    "Re-evaluate your models using these. Does this improve the model performance?\n",
    "What text features are the most valuable?\n",
    "As a first step to get a baseline, use a simple CountVectorizer and model with with regression."
   ]
  },
  {
   "cell_type": "code",
   "execution_count": null,
   "metadata": {},
   "outputs": [],
   "source": [
    "# Basic CountVectorizer and LogisticRegression to get a simple first model\n",
    "\n",
    "cv_simple = CountVectorizer()\n",
    "X_train_cv = cv_simple.fit_transform(X_train['title'])\n",
    "X_test_cv = cv_simple.transform(X_test['title'])\n",
    "\n",
    "print(\"There are {} features in the model.\".format(len(cv_simple.get_feature_names())))\n",
    "\n",
    "lr_simple = LogisticRegressionCV(cv=3)\n",
    "lr_simple.fit(X_train_cv, y_train)\n",
    "score_train = lr_simple.score(X_train_cv, y_train)\n",
    "score_test = lr_simple.score(X_test_cv, y_test)\n",
    "\n",
    "# There are 3440 features in the model.\n",
    "# Train score: 0.9695740365111561 Test score 0.8157894736842105\n",
    "print(\"Train score: {} Test score {}\".format(score_train, score_test))"
   ]
  },
  {
   "cell_type": "markdown",
   "metadata": {},
   "source": [
    "The model seems to be quite overfit. If I could, I would gather more data."
   ]
  },
  {
   "cell_type": "code",
   "execution_count": null,
   "metadata": {},
   "outputs": [],
   "source": [
    "# What are the words that best predict the target based on the coefficients\n",
    "\n",
    "coef_names = cv_simple.get_feature_names()\n",
    "\n",
    "coef_df = pd.DataFrame ({\n",
    "    'coefs' : coef_names,\n",
    "    'vals' : lr_simple.coef_[0]\n",
    "}).set_index('coefs')\n",
    "\n",
    "coef_df.reindex(coef_df['vals'].abs().sort_values(ascending=False).index)[:20].T"
   ]
  },
  {
   "cell_type": "markdown",
   "metadata": {},
   "source": [
    "The model appears to be overfit since the \"training score\" is much highter than the \"testing score\". Again, the words with the largest coefficients are mostly unsurprising.\n",
    "Galveston is an island and has a seawall.\n",
    "I do wonder why \"water\" has such a large coefficient.\n",
    "The word \"hole\" makes me think of \"Woods hole\", so I'll try bi-grams as well."
   ]
  },
  {
   "cell_type": "markdown",
   "metadata": {},
   "source": [
    "Second step: add in bi-grams, use a simple CountVectorizer, and model with with regression."
   ]
  },
  {
   "cell_type": "code",
   "execution_count": null,
   "metadata": {},
   "outputs": [],
   "source": [
    "cv_gram = CountVectorizer(ngram_range=(1,2))\n",
    "X_train_cvg = cv_gram.fit_transform(X_train['title'])\n",
    "X_test_cvg = cv_gram.transform(X_test['title'])\n",
    "\n",
    "print(\"There are {} features in the model.\".format(len(cv_gram.get_feature_names())))\n",
    "\n",
    "lr_simple = LogisticRegressionCV(cv=3)\n",
    "lr_simple.fit(X_train_cvg, y_train)\n",
    "score_train = lr_simple.score(X_train_cvg, y_train)\n",
    "score_test = lr_simple.score(X_test_cvg, y_test)\n",
    "\n",
    "# There are 11975 features in the model.\n",
    "# Train score: 0.9959432048681541 Test score 0.8218623481781376\n",
    "print(\"Train score: {} Test score {}\".format(score_train, score_test))"
   ]
  },
  {
   "cell_type": "markdown",
   "metadata": {},
   "source": [
    "The training score is much higher, but the test score is not much higher... And the mode is still overfit."
   ]
  },
  {
   "cell_type": "markdown",
   "metadata": {},
   "source": [
    "What is the baseline accuracy for this model?"
   ]
  },
  {
   "cell_type": "code",
   "execution_count": null,
   "metadata": {},
   "outputs": [],
   "source": [
    "print(\"The baseline accuracy for this model is {:.2f}%.\".format(\n",
    "    cross_val_score(lr_simple, X_train_cvg, y_train).mean()*100))"
   ]
  },
  {
   "cell_type": "markdown",
   "metadata": {},
   "source": [
    "Run a CountVectorizer and regression adding in a pipeline and grid search. Also, eliminate the stop words."
   ]
  },
  {
   "cell_type": "code",
   "execution_count": null,
   "metadata": {},
   "outputs": [],
   "source": [
    "# Create the pipeline\n",
    "pipe_cv = Pipeline([\n",
    "    ('cv', CountVectorizer()),\n",
    "    ('lr', LogisticRegression()),\n",
    "])\n",
    "\n",
    "params_grid_cv = {\n",
    "    'cv__stop_words' : [None, 'english'],\n",
    "    'cv__ngram_range' : [(1,1), (1,2)],\n",
    "    'cv__max_df' : [1.0, 0.95],\n",
    "    'cv__min_df' : [1, 2],\n",
    "    'cv__max_features' : [2000, 2250, 2500],\n",
    "    'lr__C' : [1, .05],\n",
    "    'lr__penalty' : ['l1', 'l2']\n",
    "}\n",
    "\n",
    "# Grid Search!\n",
    "gs_cv = GridSearchCV(pipe_cv, param_grid=params_grid_cv, verbose=1)\n",
    "\n",
    "gs_cv.fit(X_train['title'], y_train)\n",
    "score_train = gs_cv.best_score_\n",
    "score_test = gs_cv.score(X_test['title'], y_test)\n",
    "params_train = gs_cv.best_params_\n",
    "\n",
    "for k in params_grid_cv:\n",
    "    print(\"{}: {}\".format(k,params_train[k]))\n",
    "\n",
    "print(\"Train score: {} Test score {}\".format(score_train, score_test))\n",
    "\n",
    "# Fitting 3 folds for each of 192 candidates, totalling 576 fits\n",
    "# cv__stop_words: english\n",
    "# cv__ngram_range: (1, 2)\n",
    "# cv__max_df: 1.0\n",
    "# cv__min_df: 1\n",
    "# cv__max_features: 2250\n",
    "# lr__C: 1\n",
    "# lr__penalty: l2\n",
    "# Train score: 0.8079783637592968 Test score 0.8178137651821862"
   ]
  },
  {
   "cell_type": "markdown",
   "metadata": {},
   "source": [
    "Take a look at the coefficients in the model to see which words best predict the target"
   ]
  },
  {
   "cell_type": "code",
   "execution_count": null,
   "metadata": {},
   "outputs": [],
   "source": [
    "# What are the words that best predict the target?\n",
    "\n",
    "coef_names = gs_cv.best_estimator_.named_steps['cv'].get_feature_names()\n",
    "coef_vals = gs_cv.best_estimator_.named_steps['lr'].coef_[0]\n",
    "\n",
    "coef_df = pd.DataFrame ({\n",
    "    'coefs' : coef_names,\n",
    "    'vals' : coef_vals\n",
    "}).set_index('coefs')\n",
    "\n",
    "coef_df.reindex(coef_df['vals'].abs().sort_values(ascending=False).index)[:20].T"
   ]
  },
  {
   "cell_type": "markdown",
   "metadata": {},
   "source": [
    "Create a function to run grid search on anything we might want to investigate.\n",
    "This could be generalized further, I'm sure, but for now it is enough."
   ]
  },
  {
   "cell_type": "code",
   "execution_count": null,
   "metadata": {},
   "outputs": [],
   "source": [
    "def create_pipline(items, use_params, X_train, X_test, y_train, y_test):\n",
    "\n",
    "    # Add a pipe, add a param !\n",
    "    pipe_items = {\n",
    "        'cv': CountVectorizer(),\n",
    "        'tv': TfidfVectorizer(),\n",
    "        'hv': HashingVectorizer(),\n",
    "\n",
    "        'ss' : StandardScaler(),\n",
    "        'pf' : PolynomialFeatures(),\n",
    "\n",
    "        'lr' : LogisticRegression(),\n",
    "        'bnb' : BernoulliNB(),\n",
    "        'mnb' : MultinomialNB(),\n",
    "        'rf' : RandomForestClassifier(),\n",
    "        'gb' : GradientBoostingClassifier(),\n",
    "        'ab' : AdaBoostClassifier(),\n",
    "        'svc' : SVC(),\n",
    "        'knn' : KNeighborsClassifier()\n",
    "    }\n",
    "\n",
    "    # Include at least one param for each pipe item\n",
    "    param_items = {\n",
    "        'cv' : {\n",
    "            'cv__stop_words' : [None, 'english'],\n",
    "            'cv__ngram_range' : [(1,1), (1,2)],\n",
    "            'cv__max_df' : [1.0, 0.95],\n",
    "            'cv__min_df' : [1],\n",
    "            'cv__max_features' : [2000, 2250, 2500, 2750]\n",
    "        },\n",
    "        'tv' : {\n",
    "            'tv__stop_words' : [None, 'english'],\n",
    "            'tv__ngram_range' : [(1,1), (1,2)],\n",
    "            'tv__max_df' : [1.0, 0.95],\n",
    "            'tv__min_df' : [1, 2],\n",
    "            'tv__max_features' : [2000, 2250, 2500, 2750]\n",
    "        },\n",
    "        'hv' : {\n",
    "            'hv__stop_words' : [None, 'english'],\n",
    "            'hv__ngram_range' : [(1,1), (1,2)]\n",
    "        },\n",
    "        'ss' : {\n",
    "            'ss__with_mean' : [False]\n",
    "        },\n",
    "        'pf' : {\n",
    "            'pf__degree' : [2]\n",
    "        },\n",
    "        'lr' : {\n",
    "            'lr__C' : [1, .05],\n",
    "            'lr__penalty' : ['l2']\n",
    "        },\n",
    "        'bnb' : {\n",
    "            'bnb__alpha' : [1.0, 1.5, 1.8, 2.0]\n",
    "        },\n",
    "        'mnb' : {\n",
    "            'mnb__alpha' : [0.8, 1.0, 1.2]\n",
    "        },\n",
    "        'rf' : {\n",
    "            'rf__n_estimators' : [8, 10, 15]\n",
    "        },\n",
    "        'gb' : {\n",
    "            'gb__n_estimators' : [80, 100, 120]\n",
    "        },\n",
    "        'ab' : {\n",
    "            'ab__n_estimators' : [75, 50, 125]\n",
    "        },\n",
    "        'svc' : {\n",
    "            'svc__kernel' : ['linear','poly']\n",
    "        },\n",
    "        'knn' : {\n",
    "            'knn__n_neighbors' : [25,35,45]\n",
    "        }\n",
    "    }\n",
    "\n",
    "    # Create the parameters for GridSearch\n",
    "    params = dict()\n",
    "    if use_params:\n",
    "        for i in items:\n",
    "            for p in param_items[i]:\n",
    "                params[p] = param_items[i][p]\n",
    "\n",
    "    # Create the pipeline\n",
    "    pipe_list = [(i,pipe_items[i]) for i in items]\n",
    "    print(\"Using:\")\n",
    "    for p in pipe_list:\n",
    "        print(\"\\t\" + str(p[1]).split('(')[0])\n",
    "    pipe = Pipeline(pipe_list)\n",
    "\n",
    "    # Grid search\n",
    "    gs = GridSearchCV(pipe, param_grid=params, verbose=1)\n",
    "    gs.fit(X_train, y_train)\n",
    "\n",
    "    # Print the results\n",
    "    train_params = gs.best_params_\n",
    "    train_score = gs.best_score_\n",
    "    y_test_hat = gs.predict(X_test)\n",
    "    test_score = gs.score(X_test, y_test)\n",
    "\n",
    "    for k in train_params:\n",
    "        print(\"{}: {}\".format(k,train_params[k]))\n",
    "\n",
    "    print(\"Train score: {} Test score {}\".format(train_score, test_score))\n",
    "    print(\"\")\n",
    "\n",
    "    return train_score, test_score, y_test_hat, train_params\n"
   ]
  },
  {
   "cell_type": "markdown",
   "metadata": {},
   "source": [
    "Choose some vectorizers and models to test.\n",
    "This runs a long time!\n",
    "TI ran this many times, updating the parameters to tune"
   ]
  },
  {
   "cell_type": "code",
   "execution_count": null,
   "metadata": {},
   "outputs": [],
   "source": [
    "#Decide what to put into the pipline, grid searh, and save the \"best\" for each grid search\n",
    "use_params = True\n",
    "vects = ['cv','tv','hv']\n",
    "models = ['lr','bnb', 'mnb','rf','gb','ab','svc','knn']\n",
    "other = ['pf','ss']\n",
    "\n",
    "# After some initial tests, these seem like the best to pursue further\n",
    "vects = ['cv','tv']\n",
    "models = ['lr','bnb', 'mnb']\n",
    "other = []\n",
    "\n",
    "model_solns = {}\n",
    "idx = 0\n",
    "for v in vects:\n",
    "    for i in range(len(other)+1):\n",
    "        for o in list(combinations(other, i)):\n",
    "            for m in models:\n",
    "                idx += 1\n",
    "                pipe_items = [v]\n",
    "                pipe_items.extend(list(o))\n",
    "                pipe_items.append(m)\n",
    "                [train_score, test_score, y_test_hat, best_params] = create_pipline(pipe_items, use_params,\n",
    "                                                                        X_train['title'], X_test['title'],\n",
    "                                                                        y_train, y_test)\n",
    "                model_solns[idx] = {'vectorizer' : v, 'model': m, 'features': list(o),\n",
    "                                    'train_score': train_score, 'test_score': test_score,\n",
    "                                    'best_params': best_params, 'y_test_hat' : y_test_hat}\n"
   ]
  },
  {
   "cell_type": "markdown",
   "metadata": {},
   "source": [
    "Lots of results to examine. Unfortunately, none are exactly great. This is unsurprising given the two subreddits that I chose"
   ]
  },
  {
   "cell_type": "markdown",
   "metadata": {},
   "source": [
    "V. Evaluate the model"
   ]
  },
  {
   "cell_type": "markdown",
   "metadata": {},
   "source": [
    "Examine the best solutions from each call to the grid search"
   ]
  },
  {
   "cell_type": "code",
   "execution_count": null,
   "metadata": {},
   "outputs": [],
   "source": [
    "df_solns = pd.DataFrame(model_solns)\n",
    "df_solns.sort_values(ascending=False, by='test_score',axis=1)"
   ]
  },
  {
   "cell_type": "code",
   "execution_count": null,
   "metadata": {},
   "outputs": [],
   "source": [
    "df_solns.loc[['vectorizer','model','train_score','test_score','best_params'],:]"
   ]
  },
  {
   "cell_type": "markdown",
   "metadata": {},
   "source": [
    "Closely look at the parameters and see if we hit an boundary on our parameter options"
   ]
  },
  {
   "cell_type": "code",
   "execution_count": null,
   "metadata": {},
   "outputs": [],
   "source": [
    "df_solns.loc[:,2]"
   ]
  },
  {
   "cell_type": "code",
   "execution_count": null,
   "metadata": {},
   "outputs": [],
   "source": [
    "# Let's look at the parameters of one solution\n",
    "df_solns.loc['best_params',2]"
   ]
  },
  {
   "cell_type": "markdown",
   "metadata": {},
   "source": [
    "Can get a better value by averaging our top models?"
   ]
  },
  {
   "cell_type": "code",
   "execution_count": null,
   "metadata": {},
   "outputs": [],
   "source": [
    "# Average the y_test_hat vectors to see if we can improve the score\n",
    "y_test_hat_agg = sum(df_solns.loc['y_test_hat',:])\n",
    "y_test_hat = np.round(y_test_hat_agg/df_solns.shape[1])\n",
    "print(\"The accuracy score of the average test solutions is {:.2f}%.\".format(accuracy_score(y_test,y_test_hat)*100))"
   ]
  },
  {
   "cell_type": "markdown",
   "metadata": {},
   "source": [
    "This aggregated solution is actually a little better"
   ]
  },
  {
   "cell_type": "markdown",
   "metadata": {},
   "source": [
    "What are some of the \"misses\"?"
   ]
  },
  {
   "cell_type": "code",
   "execution_count": null,
   "metadata": {},
   "outputs": [],
   "source": [
    "# Not sure why I get warnings when adding these\n",
    "X_test['y'] = y_test.values\n",
    "X_test['y_hat'] = y_test_hat\n",
    "X_test['y_hat_agg'] = y_test_hat_agg"
   ]
  },
  {
   "cell_type": "markdown",
   "metadata": {},
   "source": [
    "Remember, where y=1, the post is from r/CapeCod"
   ]
  },
  {
   "cell_type": "code",
   "execution_count": null,
   "metadata": {},
   "outputs": [],
   "source": [
    "X_test_incorrect = X_test[X_test[\"y\"] != X_test['y_hat']]\n",
    "X_test_incorrect.head(20)"
   ]
  },
  {
   "cell_type": "markdown",
   "metadata": {},
   "source": [
    "With more data, I think some of these could be mode accurately predicted. For example:\n",
    "\n",
    "\"Marstons Mills\" is a town on Cape Cod.\n",
    "Fertitta is a chef in Galveston.\n",
    "But some are generic and likely could never be determined:\n",
    "Dog friendly restaurants?\n",
    "Batting cages???"
   ]
  },
  {
   "cell_type": "code",
   "execution_count": null,
   "metadata": {},
   "outputs": [],
   "source": [
    "cv_simple = CountVectorizer(stop_words='english')\n",
    "X_test_cv = cv_simple.fit_transform(X_test_incorrect['title'])\n",
    "cv_test = pd.DataFrame(X_test_cv.todense(), columns=cv_simple.get_feature_names())"
   ]
  },
  {
   "cell_type": "code",
   "execution_count": null,
   "metadata": {},
   "outputs": [],
   "source": [
    "# Create a data frame of the most common words \n",
    "n_words = 40\n",
    "words = list(cv_test.sum().sort_values(ascending=False)[:n_words].index)\n",
    "print(words)\n",
    "\n",
    "cv_test['is_cape_test'] = X_test_incorrect['y'].values\n",
    "cv_test_small = cv_test.groupby('is_cape_test').sum()[words]"
   ]
  },
  {
   "cell_type": "code",
   "execution_count": null,
   "metadata": {},
   "outputs": [],
   "source": [
    "columns = [c for c in cv_test_small.columns if c in cv_train.columns]\n",
    "cv_train = cv_train[columns]\n",
    "cv_train['is_cape'] = y_train.values\n",
    "cv_train_small = cv_train.groupby('is_cape').sum()\n",
    "\n",
    "columns = [c for c in cv_train.columns if c in cv_test_small.columns]\n",
    "cv_test_small = cv_test_small[columns]\n",
    "\n",
    "cv_merge = pd.concat([cv_train_small, cv_test_small],keys=['train', 'incorrect'], sort=True)\n",
    "cv_merge.head()\n"
   ]
  },
  {
   "cell_type": "code",
   "execution_count": null,
   "metadata": {},
   "outputs": [],
   "source": [
    "# Adapted from https://matplotlib.org/examples/api/barchart_demo.html\n",
    "\n",
    "words = cv_merge.columns\n",
    "n_words = len(words)\n",
    "words_count_cape_train = cv_merge.loc[\"train\"].loc[0]\n",
    "words_count_gv_train = cv_merge.loc[\"train\"].loc[1]\n",
    "words_count_cape_wrong = cv_merge.loc[\"incorrect\"].loc[0]\n",
    "words_count_gv_wrong = cv_merge.loc[\"incorrect\"].loc[1]\n",
    "\n",
    "width = 0.25       # the width of the bars\n",
    "ind = np.arange(n_words)\n",
    "\n",
    "fig, ax = plt.subplots(figsize=(15, 10))\n",
    "rects0 = ax.bar(ind,         words_count_cape_train, width, color=colors[0])\n",
    "rects1 = ax.bar(ind+width,   words_count_cape_wrong, width, color=colors[2])\n",
    "rects2 = ax.bar(ind+2*width, words_count_gv_train, width, color=colors[4])\n",
    "rects3 = ax.bar(ind+3*width, words_count_gv_wrong, width, color=colors[5])\n",
    "\n",
    "# add some text for labels, title and axes ticks\n",
    "ax.set_ylabel('Counts')\n",
    "ax.set_title('Counts by word and reddit')\n",
    "ax.set_xticks(ind + width / 2)\n",
    "ax.set_xticklabels(words,rotation='vertical')\n",
    "\n",
    "ax.set_ylim(0,80)\n",
    "\n",
    "ax.legend((rects0, rects1, rects2, rects3), ('Cape Cod Train', 'Cape Cod Incorrect',\n",
    "                                                         'Galveston', 'Gslveston Incorrect'));\n"
   ]
  },
  {
   "cell_type": "markdown",
   "metadata": {},
   "source": [
    "This plot did not come out as well as I had hoped, but I think I can improve on it in the future"
   ]
  },
  {
   "cell_type": "markdown",
   "metadata": {},
   "source": [
    "VI. Executive summary\n",
    "The data\n",
    "For this project, I chose two sub-reddits to compare, r/Cape Cod and r/galveston. As this was my first experience with Reddit, I had some challenege to come up with two forums to compare since most anything I chose did not have enough posts. With more experience with Reddit, I might have been able to chose more interesting topics to compare. Scraping was easy enough, but since the Reddits are not extremely active, I did not end up with as much data as I would have liked\n",
    "\n",
    "Exploring the data\n",
    "Once I had scraped the data, I ran a number of initial tests on it to get some insight. I used a word cloud to illustrate the word used most often in each subreddit. I then ran a vectorizer on unigrams and made some bar charts comparing the usage of the most words. The results were not particularly surprising, though there were some words I had not anticipated such as 'seawall' and 'gaming'.\n",
    "\n",
    "Modeling the problem\n",
    "From there, I dove into NLP. I ran a few simple tests, determined a baseline accuracy, and examined the coefficients determied by logistical regression. Again, the words with the most influence were not surprising - mostly place names or things unique to one place or the other. Actually, there was one word with a aurprisingly high coefficient - 'water'.\n",
    "\n",
    "Evaluate the model\n",
    "I then spent some time trying to generalize pipelines in order to efficiently run lots of different grid searches on many different models and parameters. This generalized function has room for improvement, but was quite helpful for me to stay organized in my tests. I saved the \"best\" from each test and turned the data into a dataframe in order to explore the incorrect predictions.\n",
    "\n",
    "Despite tuning the parameters, I could not get better than 83% accuracy, unfortunately."
   ]
  }
 ],
 "metadata": {
  "kernelspec": {
   "display_name": "Python 3",
   "language": "python",
   "name": "python3"
  },
  "language_info": {
   "codemirror_mode": {
    "name": "ipython",
    "version": 3
   },
   "file_extension": ".py",
   "mimetype": "text/x-python",
   "name": "python",
   "nbconvert_exporter": "python",
   "pygments_lexer": "ipython3",
   "version": "3.7.4"
  },
  "toc": {
   "base_numbering": 1,
   "nav_menu": {},
   "number_sections": true,
   "sideBar": true,
   "skip_h1_title": false,
   "title_cell": "Table of Contents",
   "title_sidebar": "Contents",
   "toc_cell": true,
   "toc_position": {},
   "toc_section_display": true,
   "toc_window_display": false
  }
 },
 "nbformat": 4,
 "nbformat_minor": 2
}
