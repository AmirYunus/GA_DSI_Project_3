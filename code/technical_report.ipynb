{
 "cells": [
  {
   "cell_type": "markdown",
   "metadata": {},
   "source": [
    "<h1>TECHNICAL REPORT - ANALYSING FAKE NEWS<span class=\"tocSkip\"></span></h1>"
   ]
  },
  {
   "cell_type": "markdown",
   "metadata": {},
   "source": [
    "Author: Amir Yunus<br>\n",
    "GitHub: https://github.com/AmirYunus/GA_DSI_Project_2\n",
    "***"
   ]
  },
  {
   "cell_type": "markdown",
   "metadata": {},
   "source": [
    "# PREFACE"
   ]
  },
  {
   "cell_type": "markdown",
   "metadata": {},
   "source": [
    "## Problem Statement"
   ]
  },
  {
   "cell_type": "markdown",
   "metadata": {},
   "source": [
    "Suppose that a government agency wants to tackle the rise of fake news and scam in the community.\n",
    "\n",
    "* What is the probability that a set of words would be considered fake?\n",
    "* Which word is most likely from a fake content?\n",
    "* Which word has the highest porbability to be predicted wrongly?"
   ]
  },
  {
   "cell_type": "markdown",
   "metadata": {},
   "source": [
    "## Executive Summary"
   ]
  },
  {
   "cell_type": "code",
   "execution_count": null,
   "metadata": {},
   "outputs": [],
   "source": [
    "# Using Reddit's API for Predicting Comments\n",
    "# What characteristics of a post on Reddit contribute most to what subreddit it belongs to?\n",
    "# In this project, we will practice two major skills.\n",
    "\n",
    "# Collecting data via an API request.\n",
    "# Building a binary predictor.\n",
    "# Your method for acquiring the data will be scraping threads from at least two subreddits.\n",
    "\n",
    "# Once you've got the data, you will build a classification model that, using Natural Language Processing and any other relevant features, predicts which subreddit a given post belongs to."
   ]
  },
  {
   "cell_type": "markdown",
   "metadata": {},
   "source": [
    "## Contents"
   ]
  },
  {
   "cell_type": "markdown",
   "metadata": {
    "toc": true
   },
   "source": [
    "<h1>Table of Contents<span class=\"tocSkip\"></span></h1>\n",
    "<div class=\"toc\"><ul class=\"toc-item\"><li><span><a href=\"#PREFACE\" data-toc-modified-id=\"PREFACE-1\"><span class=\"toc-item-num\">1&nbsp;&nbsp;</span>PREFACE</a></span><ul class=\"toc-item\"><li><span><a href=\"#Problem-Statement\" data-toc-modified-id=\"Problem-Statement-1.1\"><span class=\"toc-item-num\">1.1&nbsp;&nbsp;</span>Problem Statement</a></span></li><li><span><a href=\"#Executive-Summary\" data-toc-modified-id=\"Executive-Summary-1.2\"><span class=\"toc-item-num\">1.2&nbsp;&nbsp;</span>Executive Summary</a></span></li><li><span><a href=\"#Contents\" data-toc-modified-id=\"Contents-1.3\"><span class=\"toc-item-num\">1.3&nbsp;&nbsp;</span>Contents</a></span></li><li><span><a href=\"#Data-Dictionary\" data-toc-modified-id=\"Data-Dictionary-1.4\"><span class=\"toc-item-num\">1.4&nbsp;&nbsp;</span>Data Dictionary</a></span></li><li><span><a href=\"#Libraries\" data-toc-modified-id=\"Libraries-1.5\"><span class=\"toc-item-num\">1.5&nbsp;&nbsp;</span>Libraries</a></span></li><li><span><a href=\"#Functions\" data-toc-modified-id=\"Functions-1.6\"><span class=\"toc-item-num\">1.6&nbsp;&nbsp;</span>Functions</a></span></li></ul></li><li><span><a href=\"#Code\" data-toc-modified-id=\"Code-2\"><span class=\"toc-item-num\">2&nbsp;&nbsp;</span>Code</a></span></li></ul></div>"
   ]
  },
  {
   "cell_type": "markdown",
   "metadata": {},
   "source": [
    "## Data Dictionary"
   ]
  },
  {
   "cell_type": "markdown",
   "metadata": {},
   "source": [
    "## Libraries"
   ]
  },
  {
   "cell_type": "code",
   "execution_count": null,
   "metadata": {},
   "outputs": [],
   "source": [
    "# # import requests\n",
    "# import json\n",
    "# # import time\n",
    "# # import pandas as pd\n",
    "# import numpy as np\n",
    "# import matplotlib\n",
    "# import matplotlib.pyplot as plt\n",
    "# import seaborn as sns\n",
    "# import warnings\n",
    "# import regex as re\n",
    "from functions import project_3 as p3"
   ]
  },
  {
   "cell_type": "code",
   "execution_count": null,
   "metadata": {},
   "outputs": [],
   "source": [
    "# from itertools import combinations\n",
    "# from sklearn.ensemble import BaggingClassifier, RandomForestClassifier, ExtraTreesClassifier, AdaBoostClassifier, GradientBoostingClassifier\n",
    "# from sklearn.feature_extraction import stop_words\n",
    "# from sklearn.feature_extraction.text import CountVectorizer, HashingVectorizer, TfidfVectorizer\n",
    "# from sklearn.linear_model import LogisticRegression, LogisticRegressionCV\n",
    "# from sklearn.metrics import accuracy_score, confusion_matrix\n",
    "# from sklearn.model_selection import train_test_split, cross_val_score, GridSearchCV\n",
    "# from sklearn.naive_bayes import MultinomialNB, BernoulliNB, GaussianNB\n",
    "# from sklearn.neighbors import KNeighborsClassifier\n",
    "# from sklearn.pipeline import Pipeline\n",
    "# from sklearn.preprocessing import StandardScaler, PolynomialFeatures\n",
    "# from sklearn.svm import SVC\n",
    "# from sklearn.tree import DecisionTreeClassifier\n",
    "# from wordcloud import WordCloud, STOPWORDS\n",
    "# # from IPython.display import display, Markdown, Latex\n",
    "# from PIL import Image\n",
    "# from matplotlib.colors import LinearSegmentedColormap\n",
    "# from bs4 import BeautifulSoup\n",
    "# from csv import reader\n",
    "# from class_p3 import p3"
   ]
  },
  {
   "cell_type": "code",
   "execution_count": null,
   "metadata": {},
   "outputs": [],
   "source": [
    "# # Colour scheme and style selected\n",
    "# theme = ['#1F306E', '#553772', '#8F3B76', '#C7417B', '#F5487F']\n",
    "# colors_palette = sns.palplot(sns.color_palette(theme))\n",
    "# plt.style.use('seaborn')\n",
    "# sns.set(style=\"white\", color_codes=True)\n",
    "# sns.set_palette(colors_palette)\n",
    "\n",
    "# # Prevent warnings from distracting the reader\n",
    "# warnings.filterwarnings('ignore')\n",
    "\n",
    "# # Forces Matplotlib to use high-quality images\n",
    "# ip = get_ipython()\n",
    "# ibe = ip.configurables[-1]\n",
    "# ibe.figure_formats = {'pdf', 'png'}\n",
    "\n",
    "# matplotlib.rcParams['figure.figsize'] = (16.0, 9.0)\n",
    "# pd.set_option('display.max_colwidth', -1)\n",
    "# pd.options.display.max_rows = 999"
   ]
  },
  {
   "cell_type": "markdown",
   "metadata": {},
   "source": [
    "## Functions"
   ]
  },
  {
   "cell_type": "code",
   "execution_count": null,
   "metadata": {},
   "outputs": [],
   "source": [
    "# class project_3:\n",
    "#     def success(n):\n",
    "#         return display(Markdown(f'<div class=\"alert alert-block alert-success\"><b>SUCCESS: </b>{n}</div>'))"
   ]
  },
  {
   "cell_type": "code",
   "execution_count": null,
   "metadata": {},
   "outputs": [],
   "source": [
    "# Display green box with success\n",
    "# def success(n):\n",
    "#     return display(Markdown(f'<div class=\"alert alert-block alert-success\"><b>SUCCESS: </b>{n}</div>'))"
   ]
  },
  {
   "cell_type": "code",
   "execution_count": null,
   "metadata": {},
   "outputs": [],
   "source": [
    "# Display red box with warning\n",
    "# def warning (n):\n",
    "#     return display(Markdown(f'<div class=\"alert alert-block alert-danger\"><b>WARNING: </b>{n}</div>'))"
   ]
  },
  {
   "cell_type": "code",
   "execution_count": null,
   "metadata": {},
   "outputs": [],
   "source": [
    "# Display yellow box with check\n",
    "# def check (n):\n",
    "#     return display(Markdown(f'<div class=\"alert alert-block alert-warning\"><b>CHECK: </b>{n}</div>'))"
   ]
  },
  {
   "cell_type": "code",
   "execution_count": null,
   "metadata": {},
   "outputs": [],
   "source": [
    "# Display blue box with note\n",
    "# def note (n):\n",
    "#     return display(Markdown(f'<div class=\"alert alert-block alert-info\"><b>NOTE: </b>{n}</div>'))    "
   ]
  },
  {
   "cell_type": "code",
   "execution_count": null,
   "metadata": {},
   "outputs": [],
   "source": [
    "# Function to scrape the data \n",
    "# def scrape_data(url,after):\n",
    "\n",
    "#     headers = headers={'User-agent': 'Gauss Markov'} # Set headers to prevent status code error\n",
    "\n",
    "#     posts = [] # Set posts as an empty list\n",
    "#     i = 1\n",
    "#     for _ in range(10): # Each time, it will only scrape 2100 posts. To get 1,000 posts, need to perform 10 times.\n",
    "#         if after == None: # If after == None, scrape first page\n",
    "#             params = {}\n",
    "#         else: # If there are more posts to scrape, set params = after\n",
    "#             params = {'after' : after}\n",
    "#         res = requests.get(url, params=params, headers=headers)\n",
    "#         if res.status_code == 200: # Check if status code == 200\n",
    "#             data = res.json()\n",
    "#             posts.extend(data['data']['children'])\n",
    "#             after = data['data']['after']\n",
    "            \n",
    "#         else: # If status code is not 200, display warning and break\n",
    "#             warning(f'Status Code {res.status_code}')\n",
    "#             break\n",
    "            \n",
    "#         display(Markdown(f'<p style=\"font-family:courier;\"><b>{i}/10:</b> Scraped {len(data[\"data\"][\"children\"])}</p>'))\n",
    "#         i += 1\n",
    "#         time.sleep(3) # Set timeout to 3 to prevent being blocked by reddit\n",
    "#     success(f'Scraped {len(posts)} posts from {url}') # Display success when scraping is complete\n",
    "#     return posts # Return list of posts"
   ]
  },
  {
   "cell_type": "code",
   "execution_count": null,
   "metadata": {},
   "outputs": [],
   "source": [
    "# Function to scrape fake posts\n",
    "# def fake (topic_1, topic_2, topic_3, topic_4, check):\n",
    "#     topics = [topic_1,topic_2,topic_3,topic_4] # Set reddit topics as a list of topics\n",
    "#     posts = [] # Set posts as empty list\n",
    "#     if check == True: # if True, perform scrape\n",
    "#         for i in topics:\n",
    "#             after = None # Set after = None, to scrape first page\n",
    "#             url = \"https://www.reddit.com/r/\"+i+\".json?limit=100\" #Set url based on reddit topic\n",
    "#             note(f'Scraping {url}') # Display note to inform reader that scraping is in process\n",
    "#             scrape = scrape_data(url, after) # assign list of posts from scrape_data into scrape variable\n",
    "#             for j in range(len(scrape)): # Loop based on length of scrape variable\n",
    "#                 posts.append(scrape[j]['data']) # Append only the data of each post in scrape variable into posts\n",
    "#         df = pd.DataFrame(posts) # Transform posts as DataFrame\n",
    "# #         df.drop_duplicates(subset='title', inplace=True) # Drop duplicate posts with the same title\n",
    "#         df['content'] = df.title +\" \"+ df.selftext # Merge titles and selftext as content\n",
    "#         df.drop_duplicates(subset='content', inplace=True) # Drop duplicate posts with the same content\n",
    "# #         check(f'There are {df.shape[0]} posts with {df.shape[1]} columns') # Informs user the shape of the DataFrame\n",
    "#         df.to_csv(f'../data/fake.csv') # Save DataFrame into csv to import without scraping in the future\n",
    "#         success(f'All topics scraped') # Display success at end of function\n",
    "#         return"
   ]
  },
  {
   "cell_type": "code",
   "execution_count": null,
   "metadata": {},
   "outputs": [],
   "source": [
    "# # Function to scrape news posts\n",
    "# def news (topic_1, topic_2, topic_3, topic_4, check):\n",
    "#     topics = [topic_1,topic_2,topic_3,topic_4] # Set reddit topics as a list of topics\n",
    "#     posts = [] # Set posts as empty list\n",
    "#     if check == True: # if True, perform scrape\n",
    "#         for i in topics:\n",
    "#             after = None # Set after = None, to scrape first page\n",
    "#             url = \"https://www.reddit.com/r/\"+i+\".json?limit=100\" #Set url based on reddit topic\n",
    "#             note(f'Scraping {url}') # Display note to inform reader that scraping is in process\n",
    "#             scrape = scrape_data(url, after) # assign list of posts from scrape_data into scrape variable\n",
    "#             for j in range(len(scrape)): # Loop based on length of scrape variable\n",
    "#                 posts.append(scrape[j]['data']) # Append only the data of each post in scrape variable into posts\n",
    "#         df = pd.DataFrame(posts) # Transform posts as DataFrame\n",
    "# #         df.drop_duplicates(subset='title', inplace=True) # Drop duplicate posts with the same title\n",
    "#         df['content'] = df.title +\" \"+ df.selftext # Merge titles and selftext as content\n",
    "#         df.drop_duplicates(subset='content', inplace=True) # Drop duplicate posts with the same content\n",
    "# #         check(f'There are {df.shape[0]} posts with {df.shape[1]} columns') # Informs user the shape of the DataFrame       \n",
    "#         df.to_csv(f'../data/news.csv') # Save DataFrame into csv to import without scraping in the future\n",
    "#         success(f'All topics scraped') # Display success at end of function\n",
    "#         return"
   ]
  },
  {
   "cell_type": "code",
   "execution_count": null,
   "metadata": {},
   "outputs": [],
   "source": [
    "# # Function to merge DataFrames together\n",
    "# def merge (df_news,df_fake):\n",
    "#     # Create the target\n",
    "#     df_news['is_fake'] = 0 # If news, set is_fake = 0\n",
    "#     df_fake['is_fake'] = 1 # If fake, set is_fake = 1\n",
    "\n",
    "#     # Merge the DataFrames\n",
    "#     df = df_news.append(df_fake, sort=True) # Append df_fake to df_news\n",
    "#     df = df[['is_fake', 'content']] # Only keep id, content and is_fake columns\n",
    "#     return df"
   ]
  },
  {
   "cell_type": "code",
   "execution_count": null,
   "metadata": {},
   "outputs": [],
   "source": [
    "# # Function to stop transition, conjunction, preposition and selected words\n",
    "# def stop (): \n",
    "#     # Selected words that are not English or are able to identify if a content is fake or real\n",
    "#     stop_selected = ['fake','real','deepfake','deepfakes','amp','let','https','de','que','en','el','don','un','re','la','castaña','lo','del']\n",
    "    \n",
    "#     # Transitions used in English grammar\n",
    "#     stop_transition_similar = ['in','the','first','place','not','only','but','also','as','a','matter','of','fact','in','like','manner','in','addition','coupled','with','in','the','same','fashion','in','the','same','way','first','second','third','in','the','light','of','not','to','mention','to','say','nothing','of','equally','important','by','the','same','token','again','to','and','also','then','equally','identically','uniquely','like','as','too','moreover','as','well','as','together','with','of','course','likewise','comparatively','correspondingly','similarly','furthermore','additionally']\n",
    "#     stop_transition_contradict = ['although','this','may','be','true','in','contrast','different','from','of','course','but','on','the','other','hand','on','the','contrary','at','the','same','time','in','spite','of','even','so','even','though','be','that','as','it','may','then','again','above','all','in','reality','after','all','but','still','unlike','or','yet','while','albeit','besides','as','much','as','even','though','although','instead','whereas','despite','conversely','otherwise','however','rather','nevertheless','nonetheless','regardless','notwithstanding']\n",
    "#     stop_transition_condition = ['in','the','event','that','granted','that','so','long','as','as','long','as' 'on','condition','on','the','condition','that','for','the','purpose','of','with','this','intention','with','this','in','mind','in','the','hope','that','to','the','end','that','for','fear','that','in','order','to','seeing','that','being','that','in','view','of','if','then','unless','when','whenever','while','because','of','as','since','while','lest','in','case','provided','that','given','that','only','if','even','if','so','that','so','as','to','owing','to','inasmuch','as','due','to']\n",
    "#     stop_transition_emphasis = ['in','other','words','to','put','it','differently','for','one','thing','as','an','illustration','in','this','case','for','this','reason','to','put','it','another','way','that','is','to','say','with','attention','to','by','all','means','important','to','realize','another','key','point','first','thing','to','remember','most','compelling','evidence','must','be','remembered','point','often','overlooked','to','point','out','on','the','positive','side','on','the','negative','side','with','this','in','mind','notably','including','like','to','be','sure','namely','chiefly','truly','indeed','certainly','surely','markedly','such','as','especially','explicitly','specifically','expressly','surprisingly','frequently','significantly','particularly','in','fact','in','general','in','particular','in','detail','for','example','for','instance','to','demonstrate','to','emphasize','to','repeat','to','clarify','to','explain','to','enumerate']\n",
    "#     stop_transition_effect = ['as','a','result','under','those','circumstances','in','that','case','for','this','reason','in','effect','for','thus','because','the','then','hence','consequently','therefore','thereupon','forthwith','accordingly','henceforth']\n",
    "#     stop_trasition_conclusion = ['as','can','be','seen','generally','speaking','in','the','final','analysis','all','things','considered','as','shown','above','in','the','long','run','given','these','points','as','has','been','noted','in','a','word','for','the','most','part','after','all','in','fact','in','summary','in','conclusion','in','short','in','brief','in','essence','to','summarize','on','balance','altogether','overall','ordinarily','usually','by','and','large','to','sum','up','on','the','whole','in','any','event','in','either','case','all','in','all','obviously','ultimately','definitely']\n",
    "#     stop_transition_time = ['at','the','present','time','from','time','to','time','sooner','or','later','at','the','same','time','up','to','the','present','time','to','begin','with','in','due','time','as','soon','as','as','long','as','in','the','meantime','in','a','moment','without','delay','in','the','first','place','all','of','a','sudden','at','this','instant','first','second','immediately','quickly','finally','after','later','last','until','till','since','then','before','hence','since','when','once','about','next','now','formerly','suddenly','shortly','henceforth','whenever','eventually','meanwhile','further','during','in','time','prior','to','forthwith','straightaway','by','the','time','whenever','until','now','now','that','instantly','presently','occasionally']\n",
    "#     stop_transition_place = ['in','the','middle','to','the','left','to','the','right','in','front','of','on','this','side','in','the','distance','here','and','there','in','the','foreground','in','the','background','in','the','center','of','adjacent','to','opposite','to','here','there','next','where','from','over','near','above','below','down','up','under','further','beyond','nearby','wherever','around','between','before','alongside','amid','among','beneath','beside','behind','across']\n",
    "#     stop_transition = stop_transition_similar + stop_transition_contradict + stop_transition_condition + stop_transition_emphasis + stop_transition_effect + stop_trasition_conclusion + stop_transition_time + stop_transition_place\n",
    "    \n",
    "#     # Conjunctions used in English grammar\n",
    "#     stop_conjunction = ['for','and','nor','but','or','yet','so','though','although','even','though','while','if','only','if','unless','until','provided','that','assuming','that','even','if','in','case','that','in','case','lest','than','rather','than','whether','as','much','as','whereas','after','as','long','as','as','soon','as','before','by','the','time','now','that','once','since','till','until','when','whenever','while','because','since','so','that','in','order','that','in','order','why','that','what','whatever','which','whichever','who','whoever','whom','whomever','whose','how','as','though','as','if','where','wherever','as','just as','both','hardly','scarcely','so','when','and','either','or','neither','nor','if','then','not','but','what','with','whether','or','not','only','also','no','sooner','rather','than','also','besides','furthermore','likewise','moreover','however','nevertheless','nonetheless','still','conversely','instead','otherwise','rather','accordingly','consequently','hence','meanwhile','then','therefore','thus']\n",
    "    \n",
    "#     # Prepositions used in English grammar\n",
    "#     stop_prepositions = ['on','in','at','since','until','till','for','ago','during','before','after','to','past','from','by','in','at','on','off','by','beside','under','over','below','above','up','down','across','through','to','into','out','of','onto','towards','from','of','by','about','for','with']\n",
    "    \n",
    "#     # Make a list of all stop words\n",
    "#     stopwords = stop_selected + stop_transition + stop_conjunction + stop_prepositions + list(STOPWORDS)\n",
    "    \n",
    "#     return stopwords"
   ]
  },
  {
   "cell_type": "code",
   "execution_count": null,
   "metadata": {},
   "outputs": [],
   "source": [
    "# # Function to display wordcloud\n",
    "# def show_wordcloud(data,news):\n",
    "#     news_colour = ['#FFFFFF','#A3CDFF','#D1E6FF','#162F4D','#1F306E'] # \n",
    "#     fake_colour = ['#FFFFFF','#FFA6A6','#FFD2D2','#A13030','#E74645']\n",
    "#     if news == True:\n",
    "#         theme = news_colour\n",
    "#     elif news == False:\n",
    "#         theme = fake_colour\n",
    "#     else:\n",
    "#         warning(f'Incorrect input')\n",
    "#         return\n",
    "#     wordcloud = WordCloud(\n",
    "#         background_color='white', # Set background as white\n",
    "#         stopwords=stop(), # Set stopwords as defined in function\n",
    "#         max_words=500, # Only show top 50 words\n",
    "#         max_font_size=100, # Emphasise on common words\n",
    "#         scale=3, # Determine the scale factor\n",
    "#         random_state=42, # Set random state as 42\n",
    "#         colormap=LinearSegmentedColormap.from_list(\"mycmap\", theme), # Define colours\n",
    "# #         mask=mask\n",
    "#     ).generate(str(data)) # Generate the string output\n",
    "#     fig = plt.figure(1, figsize=(16, 9))\n",
    "#     plt.axis('off')\n",
    "# #     if title:\n",
    "# #         fig.suptitle(title, fontsize=20)\n",
    "# #         fig.subplots_adjust(top=2.3)\n",
    "#     plt.imshow(wordcloud)\n",
    "#     plt.show()"
   ]
  },
  {
   "cell_type": "code",
   "execution_count": null,
   "metadata": {},
   "outputs": [],
   "source": [
    "# def clean(content):\n",
    "#     # Function to convert a raw review to a string of words\n",
    "#     # The input is a single string (a raw movie review), and \n",
    "#     # the output is a single string (a preprocessed movie review)\n",
    "    \n",
    "#     # 1. Remove HTML.\n",
    "#     text = BeautifulSoup(content).get_text()\n",
    "#     text = re.sub(r'^http:\\/\\/\\S+(\\/\\S+)*(\\/)?$', '', text, flags=re.MULTILINE)\n",
    "    \n",
    "#     letters = re.sub(r\"US\", \"United States\",text)\n",
    "#     letters = re.sub(r\"LA\", \"Los Angeles\",text)\n",
    "    \n",
    "#     # 2. Remove non-letters.\n",
    "#     letters = re.sub(\"[^a-zA-Z]\", \" \",text)\n",
    "        \n",
    "#     # 3. Convert to lower case, split into individual words.\n",
    "#     words = letters.lower().split()\n",
    "    \n",
    "#     # 4. In Python, searching a set is much faster than searching\n",
    "#     # a list, so convert the stop words to a set.\n",
    "#     stops = stop()\n",
    "    \n",
    "#     # 5. Remove stop words.\n",
    "#     meaningful_words = [w for w in words if not w in stops]\n",
    "    \n",
    "#     # 6. Join the words back into one string separated by space, \n",
    "#     # and return the result.\n",
    "#     return(\" \".join(meaningful_words))"
   ]
  },
  {
   "cell_type": "code",
   "execution_count": null,
   "metadata": {},
   "outputs": [],
   "source": [
    "# def search (vects,models):\n",
    "#     use_params = True\n",
    "#     model_solns = {}\n",
    "#     idx = 0\n",
    "#     for v in vects:\n",
    "# #         for i in range(len(other)+1):\n",
    "# #         for o in list(v):\n",
    "#         for m in models:\n",
    "#             X_train, X_test, y_train, y_test = train_test_split(df, y, random_state=42, stratify=y)\n",
    "#             idx += 1\n",
    "#             pipe_items = [v]\n",
    "# #                 pipe_items.extend(list(o))\n",
    "#             pipe_items.append(m)\n",
    "#             [train_score, test_score, y_test, y_test_hat, best_params] = pipeline(pipe_items, use_params,X_train.content, X_test.content,y_train, y_test)\n",
    "#             model_solns[idx] = {'vectorizer' : v, 'model': m,'train_score': train_score, 'test_score': test_score,'best_params': best_params}\n",
    "#     success(f'<b>COMPLETED</b>')\n",
    "#     df_solns = pd.DataFrame(model_solns)\n",
    "#     df_solns.to_csv(f'../data/gridsearch.csv')\n",
    "#     return df_solns, X_train, X_test, y_train, train_score, test_score, y_test, y_test_hat, best_params"
   ]
  },
  {
   "cell_type": "code",
   "execution_count": null,
   "metadata": {},
   "outputs": [],
   "source": [
    "# def pipeline(items, use_params, X_train, X_test, y_train, y_test):\n",
    "\n",
    "#     # Add a pipe, add a param !\n",
    "#     pipe_items = {\n",
    "#         'cv': CountVectorizer(stop_words = stop()),\n",
    "#         'tv': TfidfVectorizer(stop_words = stop()),\n",
    "#         'hv': HashingVectorizer(stop_words = stop(),alternate_sign=True),\n",
    "\n",
    "#         'lr' : LogisticRegression(),\n",
    "#         'bnb' : BernoulliNB(),\n",
    "#         'mnb' : MultinomialNB(),\n",
    "#         'gnb' : GaussianNB()\n",
    "#     }\n",
    "    \n",
    "#     # Include at least one param for each pipe item\n",
    "#     param_items = {\n",
    "#         'cv' : {\n",
    "#             'cv__ngram_range' : [(1,1), (1,2)],\n",
    "#             'cv__max_df' : [0.95, 1.0],\n",
    "#             'cv__min_df' : [1, 2],\n",
    "# #             'cv__max_features' : [1000,2000,3000,4000,5000,6000,7000,8000,9000,10000,11000,12000,13000,14000,15000,None]\n",
    "#         },\n",
    "#         'tv' : {\n",
    "#             'tv__ngram_range' : [(1,1), (1,2)],\n",
    "#             'tv__max_df' : [0.95, 1.0],\n",
    "#             'tv__min_df' : [1, 2],\n",
    "# #             'tv__max_features' : [1000,2000,3000,4000,5000,6000,7000,8000,9000,10000,11000,12000,13000,14000,15000,None]\n",
    "#         },\n",
    "#         'hv' : {\n",
    "#             'hv__ngram_range' : [(1,1), (1,2)]\n",
    "#         },\n",
    "#         'lr' : {\n",
    "#             'lr__C' : [1, .05],\n",
    "#             'lr__penalty' : ['l2']\n",
    "#         },\n",
    "#         'bnb' : {\n",
    "#             'bnb__alpha' : [1.0, 1.5, 1.8, 2.0]\n",
    "#         },\n",
    "#         'mnb' : {\n",
    "#             'mnb__alpha' : [0.8, 1.0, 1.2]\n",
    "#         },\n",
    "#         'gnb' : {\n",
    "#         },\n",
    "#     }\n",
    "\n",
    "#     # Create the parameters for GridSearch\n",
    "#     params = dict()\n",
    "#     if use_params:\n",
    "#         for i in items:\n",
    "#             for p in param_items[i]:\n",
    "#                 params[p] = param_items[i][p]\n",
    "\n",
    "#     # Create the pipeline\n",
    "#     pipe_list = [(i,pipe_items[i]) for i in items]\n",
    "#     method = list()\n",
    "#     for p in pipe_list:\n",
    "#         method.append(str(p[1]).split('(')[0])\n",
    "#     display(Markdown(f'<b>Using {method[0]} with {method[1]}</b>'))\n",
    "#     pipe = Pipeline(pipe_list)\n",
    "\n",
    "#     # Grid search\n",
    "#     gs = GridSearchCV(pipe, param_grid=params, verbose=1, pre_dispatch=None, cv=3)\n",
    "#     gs.fit(X_train, y_train)\n",
    "  \n",
    "#     # Print the results\n",
    "#     train_params = gs.best_params_\n",
    "#     train_score = gs.best_score_\n",
    "#     y_test_hat = gs.predict(X_test)\n",
    "#     test_score = gs.score(X_test, y_test)\n",
    "\n",
    "#     for k in train_params:\n",
    "#         print(f\"{k}: {train_params[k]}\")\n",
    "#     print(\"\")\n",
    "#     print(f'Train score: {train_score}')\n",
    "#     print(f'Test score: {test_score} (Accuracy)')\n",
    "#     print(\"\")\n",
    "#     cm = confusion_matrix(y_test, y_test_hat).ravel()\n",
    "#     tn, fp, fn, tp = cm\n",
    "#     print(f\"True Negatives: {tn}\")\n",
    "#     print(f\"False Positives: {fp}\")\n",
    "#     print(f\"False Negatives: {fn}\")\n",
    "#     print(f\"True Positives: {tp}\\n\")\n",
    "    \n",
    "# #     print(f'Accuracy {(tp+tn)/(tp+tn+fp+fn)}')\n",
    "    \n",
    "#     check(f'Completed {method[0]} with {method[1]}')\n",
    "#     return train_score, test_score, y_test, y_test_hat, train_params\n"
   ]
  },
  {
   "cell_type": "code",
   "execution_count": null,
   "metadata": {},
   "outputs": [],
   "source": [
    "# def features(df,y):\n",
    "#     X_train, X_test, y_train, y_test = train_test_split(df, y, random_state=42, stratify=y)\n",
    "#     cv = CountVectorizer(stop_words=stop())\n",
    "#     X_train = cv.fit_transform(X_train.content)\n",
    "#     cv_train = pd.DataFrame(X_train.todense(), columns=cv.get_feature_names())\n",
    "#     words = list(cv_train.sum().sort_values(ascending=False).index)\n",
    "#     cv_train['is_fake'] = y_train.values\n",
    "#     cv_train = cv_train.groupby('is_fake').sum()[words]\n",
    "#     return words"
   ]
  },
  {
   "cell_type": "code",
   "execution_count": null,
   "metadata": {},
   "outputs": [],
   "source": [
    "# def check_user(vect,df,df_user,y,nb,is_fake=True):\n",
    "    \n",
    "#     X = df.content\n",
    "#     X_user = df_user.content\n",
    "#     print(X_user)\n",
    "\n",
    "#     X = vect.fit_transform(X)\n",
    "#     X_user = vect.transform(X_user)\n",
    "#     print(X_user)\n",
    "#     vect_train = pd.DataFrame(X.todense(), columns=vect.get_feature_names())\n",
    "    \n",
    "#     print(f\"There are {len(vect.get_feature_names())} features in the model.\\n\")\n",
    "    \n",
    "#     nb = MultinomialNB()\n",
    "#     nb.fit(X, y)\n",
    "#     y_target = nb.predict(X_user)\n",
    "    \n",
    "#     print(y_target)\n",
    "#     if is_fake == True:\n",
    "#         df_user['is_fake'] = 1\n",
    "#     else:\n",
    "#         df_user['is_fake'] = 0\n",
    "#     print(X_user)\n",
    "#     df_user['pred_fake'] = y_target\n",
    "    \n",
    "#     return df_user"
   ]
  },
  {
   "cell_type": "code",
   "execution_count": null,
   "metadata": {},
   "outputs": [],
   "source": [
    "# Pre-work. Demonstrate scraping Thread Info from Reddit.com\n",
    "# Set up a request (using requests) to the URL below.\n",
    "# *NOTE*: Reddit will throw a [429 error](https://httpstatuses.com/429) when using the following code:\n",
    "\n",
    "# res = requests.get(URL)\n",
    "# This is because Reddit has throttled python's default user agent. You'll need to set a custom User-agent to get your request to work.\n",
    "\n",
    "# res = requests.get(URL, headers={'User-agent': 'YOUR NAME Bot 0.1'})"
   ]
  },
  {
   "cell_type": "code",
   "execution_count": null,
   "metadata": {},
   "outputs": [],
   "source": [
    "# For example:\n",
    "# pre_work = False\n",
    "# if pre_work:\n",
    "#     url = \"http://www.reddit.com/r/boardgames.json\"\n",
    "#     headers = headers={'User-agent': 'gbkgwyneth Bot 0.1'}\n",
    "#     res = requests.get(url, headers=headers)\n",
    "#     res.status_code"
   ]
  },
  {
   "cell_type": "code",
   "execution_count": null,
   "metadata": {},
   "outputs": [],
   "source": [
    "# Use res.json() to convert the response into a dictionary format and set this to a variable.\n",
    "# data = res.json()"
   ]
  },
  {
   "cell_type": "code",
   "execution_count": null,
   "metadata": {},
   "outputs": [],
   "source": [
    "# if pre_work:\n",
    "#     data = res.json()\n",
    "\n",
    "#     # Some initial exploring of the data\n",
    "#     ['data', 'kind']\n",
    "#     sorted(data.keys())\n",
    "\n",
    "#     ['after', 'before', 'children', 'dist', 'modhash']\n",
    "#     sorted(data['data'].keys())\n",
    "\n",
    "#     df = pd.DataFrame(data['data']['children'])\n",
    "#     df.head()\n",
    "#     df.shape\n",
    "#     [post['data']['name'] for post in data['data']['children']]"
   ]
  },
  {
   "cell_type": "code",
   "execution_count": null,
   "metadata": {},
   "outputs": [],
   "source": [
    "# Getting more results\n",
    "# By default, Reddit will give you the top 25 posts:\n",
    "\n",
    "# print(len(data['data']['children']))\n",
    "# If you want more, you'll need to do two things:\n",
    "\n",
    "# Get the name of the last post: data['data']['after']\n",
    "# Use that name to hit the following url: http://www.reddit.com/r/boardgames.json?after=THE_AFTER_FROM_STEP_1`\n",
    "# Create a loop to repeat steps 1 and 2 until you have a sufficient number of posts.\n",
    "# *NOTE*: Reddit will limit the number of requests per second you're allowed to make. When you create your loop, be sure to add the following after each iteration.\n",
    "\n",
    "# time.sleep(3) # sleeps 3 seconds before continuing\n",
    "# This will throttle your loop and keep you within Reddit's guidelines. You'll need to import the time library for this to work!"
   ]
  },
  {
   "cell_type": "code",
   "execution_count": null,
   "metadata": {},
   "outputs": [],
   "source": [
    "# I. Predicting posts from the Cape Cod and Galveston sub-Reddits\n",
    "# With no experience of Reddit, I had a challenge underatnding how it worked, what people discuss, and what types of \"topics\" would be interesting to predict. I settled on predicting posts from the r/CapeCod versus the r/galveston. If I were to start-over, I would definitely try to find more interesting topics, but I am not sure that I have yet spent enough time with Reddit to be able to pedict what those might be."
   ]
  },
  {
   "cell_type": "code",
   "execution_count": null,
   "metadata": {},
   "outputs": [],
   "source": [
    "# I. Gather the raw data from Reddit.\n",
    "# Save the scraped data as two CSV files or read previously scraped data from CSV files into two DataFrame."
   ]
  },
  {
   "cell_type": "code",
   "execution_count": null,
   "metadata": {},
   "outputs": [],
   "source": [
    "# Function to scrape the data \n",
    "\n",
    "# def scrape_data(url,after):\n",
    "\n",
    "#     headers = headers={'User-agent': 'Gauss Markov'}\n",
    "\n",
    "#     posts = []\n",
    "#     for _ in range(40):\n",
    "#         if after == None:\n",
    "#             params = {}\n",
    "#         else:\n",
    "#             params = {'after' : after}\n",
    "#         res = requests.get(url, params=params, headers=headers)\n",
    "#         if res.status_code == 200:\n",
    "#             data = res.json()\n",
    "#             posts.extend(data['data']['children'])\n",
    "#             after = data['data']['after']\n",
    "# #             print(after)\n",
    "#         else:\n",
    "#             warning(f'Status Code {res.status_code}')\n",
    "#             break\n",
    "        \n",
    "#         time.sleep(3)\n",
    "#     success(f'Scraping complete {url}')\n",
    "#     return posts"
   ]
  },
  {
   "cell_type": "code",
   "execution_count": null,
   "metadata": {},
   "outputs": [],
   "source": [
    "# Scrape posts following 'after' from the first URL \n",
    "# Place them in a dataframe\n",
    "# Export to a file\n",
    "\n",
    "# def scrape (topic_1, topic_2,check):\n",
    "#     if check == True: \n",
    "#         after = None\n",
    "#         url_1 = \"https://www.reddit.com/r/\"+topic_1+\".json\"\n",
    "#         note(f'Scraping {url_1}')\n",
    "#         scrape_1 = scrape_data(url_1, after)\n",
    "#         posts_1 = []\n",
    "#         for i in range(len(scrape_1)):\n",
    "#             posts_1.append(scrape_1[i]['data'])\n",
    "#         df_1 = pd.DataFrame(posts_1)\n",
    "#         df_1.drop_duplicates(subset='title', inplace=True)\n",
    "#         df_1.to_csv(f'../data/{topic_1}.csv')\n",
    "\n",
    "#         after = None\n",
    "#         url_2 = \"https://www.reddit.com/r/\"+topic_2+\".json\"\n",
    "#         note(f'Scraping {url_2}')\n",
    "#         scrape_2 = scrape_data(url_2, after)\n",
    "#         posts_2 = []\n",
    "#         for i in range(len(scrape_2)):\n",
    "#             posts_2.append(scrape_2[i]['data'])\n",
    "#         df_2 = pd.DataFrame(posts_2)\n",
    "#         df_2.drop_duplicates(subset='title', inplace=True)\n",
    "#         df_2.to_csv(f'../data/{topic_2}.csv')"
   ]
  },
  {
   "cell_type": "code",
   "execution_count": null,
   "metadata": {
    "scrolled": true
   },
   "outputs": [],
   "source": [
    "# scrape('worldnews','conspiracy',False)"
   ]
  },
  {
   "cell_type": "code",
   "execution_count": null,
   "metadata": {},
   "outputs": [],
   "source": [
    "# Scrape posts following 'after' from the second URL \n",
    "# Place them in a dataframe\n",
    "# Export to a file\n",
    "\n",
    "# if scrape:\n",
    "#     after = None # \"t3_35fh6e\"\n",
    "#     url_cape = \"https://www.reddit.com/r/Economics.json\"\n",
    "#     scrape_cape  = scrape_data(url_cape,after)\n",
    "\n",
    "#     posts_cape = []\n",
    "#     for i in range(len(scrape_cape)):\n",
    "#         posts_cape.append(scrape_cape[i]['data'])\n",
    "#     df_cape = pd.DataFrame(posts_cape)\n",
    "#     df_cape.drop_duplicates(subset='title', inplace=True)\n",
    "#     df_cape.to_csv(f'../data/economics.csv')"
   ]
  },
  {
   "cell_type": "code",
   "execution_count": null,
   "metadata": {},
   "outputs": [],
   "source": [
    "# If not scraping, read from csv\n",
    "# if not scrape:\n",
    "# df_news = pd.read_csv(\"../data/worldnews.csv\")\n",
    "# df_fake = pd.read_csv(\"../data/conspiracy.csv\")"
   ]
  },
  {
   "cell_type": "code",
   "execution_count": null,
   "metadata": {},
   "outputs": [],
   "source": [
    "# III. Explore the data.\n",
    "# Use CountVectorizer or TfidfVectorizer from scikit-learn to create features from the thread titles and descriptions (NOTE: Not all threads have a description).\n",
    "\n",
    "# Create the DataFrame and the target vector\n",
    "# Where y=1, the post is from r/CapeCod."
   ]
  },
  {
   "cell_type": "code",
   "execution_count": null,
   "metadata": {},
   "outputs": [],
   "source": [
    "# # Create the target vector \n",
    "# df_news['is_fake'] = 0\n",
    "# df_fake['is_fake'] = 1\n",
    "\n",
    "# # Merge the datafrmaes\n",
    "# df = df_news.append(df_fake, sort=True)\n",
    "# df = df[['is_fake', 'title','id']]\n",
    "# df.set_index(\"id\", inplace=True)\n",
    "\n",
    "# # Split the target vector from the dataframe\n",
    "# y = df['is_fake']\n",
    "# df.drop('is_fake', inplace=True, axis=1)\n",
    "# df.head()"
   ]
  },
  {
   "cell_type": "code",
   "execution_count": null,
   "metadata": {},
   "outputs": [],
   "source": [
    "# View the word clouds\n",
    "# The WordCloud is from Peekaboo."
   ]
  },
  {
   "cell_type": "code",
   "execution_count": null,
   "metadata": {},
   "outputs": [],
   "source": [
    "# From https://stackoverflow.com/questions/16645799/how-to-create-a-word-cloud-from-a-corpus-in-python\n",
    "\n",
    "# remove = ['let','says','will','new','one','day','shut']\n",
    "# stopwords = remove + list(STOPWORDS)\n",
    "# # mask = np.array(Image.open(\"../images/text.png\"))\n",
    "# colors = theme\n",
    "# cmap = LinearSegmentedColormap.from_list(\"mycmap\", colors)\n",
    "# def show_wordcloud(data, title = None):\n",
    "#     wordcloud = WordCloud(\n",
    "#         background_color='white',\n",
    "#         stopwords=stopwords,\n",
    "#         max_words=50,\n",
    "#         max_font_size=100,\n",
    "#         scale=3,\n",
    "#         random_state=1, # chosen at random by flipping a coin; it was heads\n",
    "#         colormap=cmap,\n",
    "# #         mask=mask\n",
    "#     ).generate(str(data))\n",
    "\n",
    "#     fig = plt.figure(1, figsize=(16, 9))\n",
    "#     plt.axis('off')\n",
    "#     if title:\n",
    "#         fig.suptitle(title, fontsize=20)\n",
    "#         fig.subplots_adjust(top=2.3)\n",
    "\n",
    "#     plt.imshow(wordcloud)\n",
    "#     plt.show()"
   ]
  },
  {
   "cell_type": "code",
   "execution_count": null,
   "metadata": {},
   "outputs": [],
   "source": [
    "# show_wordcloud(df_news['title'])"
   ]
  },
  {
   "cell_type": "code",
   "execution_count": null,
   "metadata": {},
   "outputs": [],
   "source": [
    "# show_wordcloud(df_fake['title'])"
   ]
  },
  {
   "cell_type": "code",
   "execution_count": null,
   "metadata": {},
   "outputs": [],
   "source": [
    "# Why Python and others\n",
    "# df_gv[df_gv['title'].str.contains(\"Texas\")]\n",
    "# df_cape[df_cape['title'].str.contains(\"Texas\")]"
   ]
  },
  {
   "cell_type": "code",
   "execution_count": null,
   "metadata": {},
   "outputs": [],
   "source": [
    "# Train/Test split\n",
    "# X_train, X_test, y_train, y_test = train_test_split(df, y, random_state=42, stratify=y)"
   ]
  },
  {
   "cell_type": "code",
   "execution_count": null,
   "metadata": {},
   "outputs": [],
   "source": [
    "# Run a simple CountVectorizer and explore."
   ]
  },
  {
   "cell_type": "code",
   "execution_count": null,
   "metadata": {},
   "outputs": [],
   "source": [
    "# cv_simple = CountVectorizer(stop_words=stopwords)\n",
    "# X_train_cv = cv_simple.fit_transform(X_train['title'])\n",
    "\n",
    "# cv_train = pd.DataFrame(X_train_cv.todense(), columns=cv_simple.get_feature_names())\n",
    "# n_words = 20\n",
    "# words = list(cv_train.sum().sort_values(ascending=False)[:n_words].index)\n",
    "# cv_train['is_fake'] = y_train.values\n",
    "# cv_train_small = cv_train.groupby('is_fake').sum()[words]\n",
    "# cv_train_small.head()"
   ]
  },
  {
   "cell_type": "code",
   "execution_count": null,
   "metadata": {},
   "outputs": [],
   "source": [
    "# Create a dataframe with counts of most common words"
   ]
  },
  {
   "cell_type": "code",
   "execution_count": null,
   "metadata": {},
   "outputs": [],
   "source": [
    "# Create a data frame of the most common words \n",
    "\n",
    "# n_words = 20\n",
    "# words = list(cv_train.sum().sort_values(ascending=False)[:n_words].index)\n",
    "# cv_train['is_fake'] = y_train.values\n",
    "# cv_train_small = cv_train.groupby('is_fake').sum()[words]\n",
    "# cv_train_small.head()"
   ]
  },
  {
   "cell_type": "code",
   "execution_count": null,
   "metadata": {},
   "outputs": [],
   "source": [
    "# Plot the most common words"
   ]
  },
  {
   "cell_type": "code",
   "execution_count": null,
   "metadata": {},
   "outputs": [],
   "source": [
    "# Adapted from https://matplotlib.org/examples/api/barchart_demo.html\n",
    "\n",
    "# words_fake = words\n",
    "# words_count_fake = cv_train_small.loc[1]\n",
    "# words_gv = words\n",
    "# words_count_news = cv_train_small.loc[0]\n",
    "# width = 0.35       # the width of the bars\n",
    "# ind = np.arange(n_words)\n",
    "\n",
    "# fig, ax = plt.subplots(figsize=(16, 9))\n",
    "# rects1 = ax.bar(ind, words_count_fake, width, color=theme[0])\n",
    "# rects2 = ax.bar(ind+width,words_count_news, width, color=theme[-1])\n",
    "\n",
    "# # add some text for labels, title and axes ticks\n",
    "# ax.set_ylabel('Counts')\n",
    "# ax.set_title('Counts by word and reddit')\n",
    "# ax.set_xticks(ind + width / 2)\n",
    "# ax.set_xticklabels(words,rotation='vertical')\n",
    "\n",
    "# ax.set_ylim(0,80)\n",
    "\n",
    "# ax.legend((rects1[0], rects2[0]), ('Fake News', 'World News'))\n",
    "\n",
    "# plt.show()"
   ]
  },
  {
   "cell_type": "code",
   "execution_count": null,
   "metadata": {},
   "outputs": [],
   "source": [
    "# The most common words are not very surprising - place names.\n",
    "\n",
    "# Since the beach in Galveston faces southeast, 'sunset' is a Cape Cod term. And Galveston has floating casinos, thus 'gaming'."
   ]
  },
  {
   "cell_type": "code",
   "execution_count": null,
   "metadata": {},
   "outputs": [],
   "source": [
    "# Run a simple TfidfVectorizer and explore."
   ]
  },
  {
   "cell_type": "code",
   "execution_count": null,
   "metadata": {},
   "outputs": [],
   "source": [
    "# tv_simple = TfidfVectorizer(stop_words=stopwords)\n",
    "# X_train_tv = tv_simple.fit_transform(X_train['title'])\n",
    "\n",
    "# tv_train = pd.DataFrame(X_train_tv.todense(), columns=tv_simple.get_feature_names())\n",
    "# tv_train.head()"
   ]
  },
  {
   "cell_type": "code",
   "execution_count": null,
   "metadata": {},
   "outputs": [],
   "source": [
    "# Create a dataframe with counts of most frequent words"
   ]
  },
  {
   "cell_type": "code",
   "execution_count": null,
   "metadata": {},
   "outputs": [],
   "source": [
    "# Create a data frame of the most common words \n",
    "\n",
    "# n_words = 20\n",
    "# words = list(tv_train.sum().sort_values(ascending=False)[:n_words].index)\n",
    "# tv_train['is_fake'] = y_train.values\n",
    "# tv_train_small = tv_train.groupby('is_fake').sum()[words]\n",
    "# tv_train_small.head()"
   ]
  },
  {
   "cell_type": "code",
   "execution_count": null,
   "metadata": {},
   "outputs": [],
   "source": [
    "# Plot the most frequent words"
   ]
  },
  {
   "cell_type": "code",
   "execution_count": null,
   "metadata": {},
   "outputs": [],
   "source": [
    "# Adapted from https://matplotlib.org/examples/api/barchart_demo.html\n",
    "\n",
    "# words_fake = words\n",
    "# words_count_fake = tv_train_small.loc[1]\n",
    "# words_news = words\n",
    "# words_count_news = tv_train_small.loc[0]\n",
    "# width = 0.35       # the width of the bars\n",
    "# ind = np.arange(n_words)\n",
    "\n",
    "# fig, ax = plt.subplots(figsize=(16, 9))\n",
    "# rects1 = ax.barh(ind, words_count_fake, width, color=colors[0])\n",
    "# rects2 = ax.barh(ind+width,words_count_news, width, color=colors[-1])\n",
    "\n",
    "# # add some text for labels, title and axes ticks\n",
    "# ax.set_xlabel('TF-IDF value')\n",
    "# ax.set_title('TF-IDF by word and reddit')\n",
    "# ax.set_yticks(ind + width / 2)\n",
    "# ax.set_yticklabels(words)  #,rotation='vertical')\n",
    "\n",
    "# ax.set_xlim(0,20)\n",
    "\n",
    "# ax.legend((rects1[0], rects2[0]), ('Fake News', 'World News'))\n",
    "\n",
    "# plt.show()"
   ]
  },
  {
   "cell_type": "code",
   "execution_count": null,
   "metadata": {},
   "outputs": [],
   "source": [
    "# From looking at the most frequent words, I think that without place names, it will be difficult to differentiate between the two sets of posts. But we'll give it the good old college try."
   ]
  },
  {
   "cell_type": "code",
   "execution_count": null,
   "metadata": {},
   "outputs": [],
   "source": [
    "# IV. Natural Language Processing (NLP)\n",
    "# Use CountVectorizer or TfidfVectorizer from scikit-learn to create features from the thread titles and descriptions (NOTE: Not all threads have a description).\n",
    "# Examine using count or binary features in the model\n",
    "# Re-evaluate your models using these. Does this improve the model performance?\n",
    "# What text features are the most valuable?\n",
    "# As a first step to get a baseline, use a simple CountVectorizer and model with with regression."
   ]
  },
  {
   "cell_type": "code",
   "execution_count": null,
   "metadata": {},
   "outputs": [],
   "source": [
    "# Basic CountVectorizer and LogisticRegression to get a simple first model\n",
    "\n",
    "# cv_simple = CountVectorizer(stop_words=stopwords)\n",
    "# X_train_cv = cv_simple.fit_transform(X_train['title'])\n",
    "# X_test_cv = cv_simple.transform(X_test['title'])\n",
    "\n",
    "# print(\"There are {} features in the model.\".format(len(cv_simple.get_feature_names())))\n",
    "\n",
    "# lr_simple = LogisticRegressionCV(cv=3)\n",
    "# lr_simple.fit(X_train_cv, y_train)\n",
    "# score_train = lr_simple.score(X_train_cv, y_train)\n",
    "# score_test = lr_simple.score(X_test_cv, y_test)\n",
    "\n",
    "# # There are 3440 features in the model.\n",
    "# # Train score: 0.9695740365111561 Test score 0.8157894736842105\n",
    "# print(\"Train score: {} Test score {}\".format(score_train, score_test))"
   ]
  },
  {
   "cell_type": "code",
   "execution_count": null,
   "metadata": {},
   "outputs": [],
   "source": [
    "# The model seems to be quite overfit. If I could, I would gather more data."
   ]
  },
  {
   "cell_type": "code",
   "execution_count": null,
   "metadata": {},
   "outputs": [],
   "source": [
    "# # What are the words that best predict the target based on the coefficients\n",
    "\n",
    "# coef_names = cv_simple.get_feature_names()\n",
    "\n",
    "# coef_df = pd.DataFrame ({\n",
    "#     'coefs' : coef_names,\n",
    "#     'vals' : lr_simple.coef_[0]\n",
    "# }).set_index('coefs')\n",
    "\n",
    "# coef_df.reindex(coef_df['vals'].abs().sort_values(ascending=False).index)[:20].T"
   ]
  },
  {
   "cell_type": "code",
   "execution_count": null,
   "metadata": {},
   "outputs": [],
   "source": [
    "# The model appears to be overfit since the \"training score\" is much highter than the \"testing score\". Again, the words with the largest coefficients are mostly unsurprising.\n",
    "# Galveston is an island and has a seawall.\n",
    "# I do wonder why \"water\" has such a large coefficient.\n",
    "# The word \"hole\" makes me think of \"Woods hole\", so I'll try bi-grams as well."
   ]
  },
  {
   "cell_type": "code",
   "execution_count": null,
   "metadata": {},
   "outputs": [],
   "source": [
    "# Second step: add in bi-grams, use a simple CountVectorizer, and model with with regression."
   ]
  },
  {
   "cell_type": "code",
   "execution_count": null,
   "metadata": {},
   "outputs": [],
   "source": [
    "# cv_gram = CountVectorizer(ngram_range=(1,2))\n",
    "# X_train_cvg = cv_gram.fit_transform(X_train['title'])\n",
    "# X_test_cvg = cv_gram.transform(X_test['title'])\n",
    "\n",
    "# print(\"There are {} features in the model.\".format(len(cv_gram.get_feature_names())))\n",
    "\n",
    "# lr_simple = LogisticRegressionCV(cv=3)\n",
    "# lr_simple.fit(X_train_cvg, y_train)\n",
    "# score_train = lr_simple.score(X_train_cvg, y_train)\n",
    "# score_test = lr_simple.score(X_test_cvg, y_test)\n",
    "\n",
    "# # There are 11975 features in the model.\n",
    "# # Train score: 0.9959432048681541 Test score 0.8218623481781376\n",
    "# print(\"Train score: {} Test score {}\".format(score_train, score_test))"
   ]
  },
  {
   "cell_type": "code",
   "execution_count": null,
   "metadata": {},
   "outputs": [],
   "source": [
    "# The training score is much higher, but the test score is not much higher... And the mode is still overfit."
   ]
  },
  {
   "cell_type": "code",
   "execution_count": null,
   "metadata": {},
   "outputs": [],
   "source": [
    "# What is the baseline accuracy for this model?"
   ]
  },
  {
   "cell_type": "code",
   "execution_count": null,
   "metadata": {},
   "outputs": [],
   "source": [
    "# print(\"The baseline accuracy for this model is {:.2f}%.\".format(\n",
    "#     cross_val_score(lr_simple, X_train_cvg, y_train).mean()*100))"
   ]
  },
  {
   "cell_type": "code",
   "execution_count": null,
   "metadata": {},
   "outputs": [],
   "source": [
    "# Run a CountVectorizer and regression adding in a pipeline and grid search. Also, eliminate the stop words."
   ]
  },
  {
   "cell_type": "code",
   "execution_count": null,
   "metadata": {},
   "outputs": [],
   "source": [
    "# # Create the pipeline\n",
    "# pipe_cv = Pipeline([\n",
    "#     ('cv', CountVectorizer()),\n",
    "#     ('lr', LogisticRegression()),\n",
    "# ])\n",
    "\n",
    "# params_grid_cv = {\n",
    "#     'cv__stop_words' : [stopwords],\n",
    "#     'cv__ngram_range' : [(1,1), (1,2)],\n",
    "#     'cv__max_df' : [1.0, 0.95],\n",
    "#     'cv__min_df' : [1, 2],\n",
    "#     'cv__max_features' : [2000, 2250, 2500],\n",
    "#     'lr__C' : [1, .05],\n",
    "#     'lr__penalty' : ['l1', 'l2']\n",
    "# }\n",
    "\n",
    "# # Grid Search!\n",
    "# gs_cv = GridSearchCV(pipe_cv, param_grid=params_grid_cv, verbose=1)\n",
    "\n",
    "# gs_cv.fit(X_train['title'], y_train)\n",
    "# score_train = gs_cv.best_score_\n",
    "# score_test = gs_cv.score(X_test['title'], y_test)\n",
    "# params_train = gs_cv.best_params_\n",
    "\n",
    "# for k in params_grid_cv:\n",
    "#     print(\"{}: {}\".format(k,params_train[k]))\n",
    "\n",
    "# print(\"Train score: {} Test score {}\".format(score_train, score_test))\n",
    "\n",
    "# # Fitting 3 folds for each of 192 candidates, totalling 576 fits\n",
    "# # cv__stop_words: english\n",
    "# # cv__ngram_range: (1, 2)\n",
    "# # cv__max_df: 1.0\n",
    "# # cv__min_df: 1\n",
    "# # cv__max_features: 2250\n",
    "# # lr__C: 1\n",
    "# # lr__penalty: l2\n",
    "# # Train score: 0.8079783637592968 Test score 0.8178137651821862"
   ]
  },
  {
   "cell_type": "code",
   "execution_count": null,
   "metadata": {},
   "outputs": [],
   "source": [
    "# Take a look at the coefficients in the model to see which words best predict the target"
   ]
  },
  {
   "cell_type": "code",
   "execution_count": null,
   "metadata": {},
   "outputs": [],
   "source": [
    "# # What are the words that best predict the target?\n",
    "\n",
    "# coef_names = gs_cv.best_estimator_.named_steps['cv'].get_feature_names()\n",
    "# coef_vals = gs_cv.best_estimator_.named_steps['lr'].coef_[0]\n",
    "\n",
    "# coef_df = pd.DataFrame ({\n",
    "#     'coefs' : coef_names,\n",
    "#     'vals' : coef_vals\n",
    "# }).set_index('coefs')\n",
    "\n",
    "# coef_df.reindex(coef_df['vals'].abs().sort_values(ascending=False).index)[:20].T"
   ]
  },
  {
   "cell_type": "code",
   "execution_count": null,
   "metadata": {},
   "outputs": [],
   "source": [
    "# Create a function to run grid search on anything we might want to investigate.\n",
    "# This could be generalized further, I'm sure, but for now it is enough."
   ]
  },
  {
   "cell_type": "code",
   "execution_count": null,
   "metadata": {},
   "outputs": [],
   "source": [
    "# def create_pipline(items, use_params, X_train, X_test, y_train, y_test):\n",
    "\n",
    "#     # Add a pipe, add a param !\n",
    "#     pipe_items = {\n",
    "#         'cv': CountVectorizer(stop_words = stopwords),\n",
    "#         'tv': TfidfVectorizer(stop_words = stopwords),\n",
    "#         'hv': HashingVectorizer(stop_words = stopwords),\n",
    "\n",
    "#         'ss' : StandardScaler(),\n",
    "#         'pf' : PolynomialFeatures(),\n",
    "\n",
    "#         'lr' : LogisticRegression(),\n",
    "#         'bnb' : BernoulliNB(),\n",
    "#         'mnb' : MultinomialNB(),\n",
    "#         'rf' : RandomForestClassifier(),\n",
    "#         'gb' : GradientBoostingClassifier(),\n",
    "#         'ab' : AdaBoostClassifier(),\n",
    "#         'svc' : SVC(),\n",
    "#         'knn' : KNeighborsClassifier()\n",
    "#     }\n",
    "\n",
    "#     # Include at least one param for each pipe item\n",
    "#     param_items = {\n",
    "#         'cv' : {\n",
    "#             'cv__ngram_range' : [(1,1), (1,2)],\n",
    "#             'cv__max_df' : [1.0, 0.95],\n",
    "#             'cv__min_df' : [1],\n",
    "#             'cv__max_features' : [2000, 2250, 2500, 2750]\n",
    "#         },\n",
    "#         'tv' : {\n",
    "#             'tv__ngram_range' : [(1,1), (1,2)],\n",
    "#             'tv__max_df' : [1.0, 0.95],\n",
    "#             'tv__min_df' : [1, 2],\n",
    "#             'tv__max_features' : [2000, 2250, 2500, 2750]\n",
    "#         },\n",
    "#         'hv' : {\n",
    "#             'hv__ngram_range' : [(1,1), (1,2)]\n",
    "#         },\n",
    "#         'ss' : {\n",
    "#             'ss__with_mean' : [False]\n",
    "#         },\n",
    "#         'pf' : {\n",
    "#             'pf__degree' : [2]\n",
    "#         },\n",
    "#         'lr' : {\n",
    "#             'lr__C' : [1, .05],\n",
    "#             'lr__penalty' : ['l2']\n",
    "#         },\n",
    "#         'bnb' : {\n",
    "#             'bnb__alpha' : [1.0, 1.5, 1.8, 2.0]\n",
    "#         },\n",
    "#         'mnb' : {\n",
    "#             'mnb__alpha' : [0.8, 1.0, 1.2]\n",
    "#         },\n",
    "#         'rf' : {\n",
    "#             'rf__n_estimators' : [8, 10, 15]\n",
    "#         },\n",
    "#         'gb' : {\n",
    "#             'gb__n_estimators' : [80, 100, 120]\n",
    "#         },\n",
    "#         'ab' : {\n",
    "#             'ab__n_estimators' : [75, 50, 125]\n",
    "#         },\n",
    "#         'svc' : {\n",
    "#             'svc__kernel' : ['linear','poly']\n",
    "#         },\n",
    "#         'knn' : {\n",
    "#             'knn__n_neighbors' : [25,35,45]\n",
    "#         }\n",
    "#     }\n",
    "\n",
    "#     # Create the parameters for GridSearch\n",
    "#     params = dict()\n",
    "#     if use_params:\n",
    "#         for i in items:\n",
    "#             for p in param_items[i]:\n",
    "#                 params[p] = param_items[i][p]\n",
    "\n",
    "#     # Create the pipeline\n",
    "#     pipe_list = [(i,pipe_items[i]) for i in items]\n",
    "#     print(\"Using:\")\n",
    "#     for p in pipe_list:\n",
    "#         print(\"\\t\" + str(p[1]).split('(')[0])\n",
    "#     pipe = Pipeline(pipe_list)\n",
    "\n",
    "#     # Grid search\n",
    "#     gs = GridSearchCV(pipe, param_grid=params, verbose=1)\n",
    "#     gs.fit(X_train, y_train)\n",
    "\n",
    "#     # Print the results\n",
    "#     train_params = gs.best_params_\n",
    "#     train_score = gs.best_score_\n",
    "#     y_test_hat = gs.predict(X_test)\n",
    "#     test_score = gs.score(X_test, y_test)\n",
    "\n",
    "#     for k in train_params:\n",
    "#         print(\"{}: {}\".format(k,train_params[k]))\n",
    "\n",
    "#     print(\"Train score: {} Test score {}\".format(train_score, test_score))\n",
    "#     print(\"\")\n",
    "\n",
    "#     return train_score, test_score, y_test_hat, train_params\n"
   ]
  },
  {
   "cell_type": "code",
   "execution_count": null,
   "metadata": {},
   "outputs": [],
   "source": [
    "# Choose some vectorizers and models to test.\n",
    "# This runs a long time!\n",
    "# TI ran this many times, updating the parameters to tune"
   ]
  },
  {
   "cell_type": "code",
   "execution_count": null,
   "metadata": {
    "scrolled": false
   },
   "outputs": [],
   "source": [
    "# #Decide what to put into the pipline, grid searh, and save the \"best\" for each grid search\n",
    "# use_params = True\n",
    "# vects = ['cv','tv','hv']\n",
    "# models = ['lr','bnb', 'mnb','rf','gb','ab','svc','knn']\n",
    "# other = ['pf','ss']\n",
    "\n",
    "# # After some initial tests, these seem like the best to pursue further\n",
    "# vects = ['cv','tv']\n",
    "# models = ['lr','bnb', 'mnb']\n",
    "# other = []\n",
    "\n",
    "# model_solns = {}\n",
    "# idx = 0\n",
    "# for v in vects:\n",
    "#     for i in range(len(other)+1):\n",
    "#         for o in list(combinations(other, i)):\n",
    "#             for m in models:\n",
    "#                 idx += 1\n",
    "#                 pipe_items = [v]\n",
    "#                 pipe_items.extend(list(o))\n",
    "#                 pipe_items.append(m)\n",
    "#                 [train_score, test_score, y_test_hat, best_params] = create_pipline(pipe_items, use_params,\n",
    "#                                                                         X_train['title'], X_test['title'],\n",
    "#                                                                         y_train, y_test)\n",
    "#                 model_solns[idx] = {'vectorizer' : v, 'model': m, 'features': list(o),\n",
    "#                                     'train_score': train_score, 'test_score': test_score,\n",
    "#                                     'best_params': best_params, 'y_test_hat' : y_test_hat}\n"
   ]
  },
  {
   "cell_type": "code",
   "execution_count": null,
   "metadata": {},
   "outputs": [],
   "source": [
    "# Lots of results to examine. Unfortunately, none are exactly great. This is unsurprising given the two subreddits that I chose"
   ]
  },
  {
   "cell_type": "code",
   "execution_count": null,
   "metadata": {},
   "outputs": [],
   "source": [
    "# V. Evaluate the model"
   ]
  },
  {
   "cell_type": "code",
   "execution_count": null,
   "metadata": {},
   "outputs": [],
   "source": [
    "# Examine the best solutions from each call to the grid search"
   ]
  },
  {
   "cell_type": "code",
   "execution_count": null,
   "metadata": {},
   "outputs": [],
   "source": [
    "# df_solns = pd.DataFrame(model_solns)\n",
    "# df_solns.sort_values(ascending=False, by='test_score',axis=1)"
   ]
  },
  {
   "cell_type": "code",
   "execution_count": null,
   "metadata": {},
   "outputs": [],
   "source": [
    "# df_solns.loc[['vectorizer','model','train_score','test_score','best_params'],:]"
   ]
  },
  {
   "cell_type": "code",
   "execution_count": null,
   "metadata": {},
   "outputs": [],
   "source": [
    "# Closely look at the parameters and see if we hit an boundary on our parameter options"
   ]
  },
  {
   "cell_type": "code",
   "execution_count": null,
   "metadata": {},
   "outputs": [],
   "source": [
    "# df_solns.loc[:,3]"
   ]
  },
  {
   "cell_type": "code",
   "execution_count": null,
   "metadata": {},
   "outputs": [],
   "source": [
    "# Let's look at the parameters of one solution\n",
    "# df_solns.loc['best_params',3]"
   ]
  },
  {
   "cell_type": "code",
   "execution_count": null,
   "metadata": {},
   "outputs": [],
   "source": [
    "# Can get a better value by averaging our top models?"
   ]
  },
  {
   "cell_type": "code",
   "execution_count": null,
   "metadata": {},
   "outputs": [],
   "source": [
    "# # Average the y_test_hat vectors to see if we can improve the score\n",
    "# y_test_hat_agg = sum(df_solns.loc['y_test_hat',:])\n",
    "# y_test_hat = np.round(y_test_hat_agg/df_solns.shape[1])\n",
    "# print(\"The accuracy score of the average test solutions is {:.2f}%.\".format(accuracy_score(y_test,y_test_hat)*100))"
   ]
  },
  {
   "cell_type": "code",
   "execution_count": null,
   "metadata": {},
   "outputs": [],
   "source": [
    "# This aggregated solution is actually a little better"
   ]
  },
  {
   "cell_type": "code",
   "execution_count": null,
   "metadata": {},
   "outputs": [],
   "source": [
    "# What are some of the \"misses\"?"
   ]
  },
  {
   "cell_type": "code",
   "execution_count": null,
   "metadata": {},
   "outputs": [],
   "source": [
    "# # Not sure why I get warnings when adding these\n",
    "# X_test['y'] = y_test.values\n",
    "# X_test['y_hat'] = y_test_hat\n",
    "# X_test['y_hat_agg'] = y_test_hat_agg"
   ]
  },
  {
   "cell_type": "code",
   "execution_count": null,
   "metadata": {},
   "outputs": [],
   "source": [
    "# Remember, where y=1, the post is from r/CapeCod"
   ]
  },
  {
   "cell_type": "code",
   "execution_count": null,
   "metadata": {},
   "outputs": [],
   "source": [
    "# X_test_incorrect = X_test[X_test[\"y\"] != X_test['y_hat']]\n",
    "# X_test_incorrect.head(20)"
   ]
  },
  {
   "cell_type": "code",
   "execution_count": null,
   "metadata": {},
   "outputs": [],
   "source": [
    "# With more data, I think some of these could be mode accurately predicted. For example:\n",
    "\n",
    "# \"Marstons Mills\" is a town on Cape Cod.\n",
    "# Fertitta is a chef in Galveston.\n",
    "# But some are generic and likely could never be determined:\n",
    "# Dog friendly restaurants?\n",
    "# Batting cages???"
   ]
  },
  {
   "cell_type": "code",
   "execution_count": null,
   "metadata": {},
   "outputs": [],
   "source": [
    "# cv_simple = CountVectorizer(stop_words='english')\n",
    "# X_test_cv = cv_simple.fit_transform(X_test_incorrect['title'])\n",
    "# cv_test = pd.DataFrame(X_test_cv.todense(), columns=cv_simple.get_feature_names())\n",
    "# words = list(cv_test.sum().sort_values(ascending=False)[:n_words].index)\n",
    "# print(words)"
   ]
  },
  {
   "cell_type": "code",
   "execution_count": null,
   "metadata": {},
   "outputs": [],
   "source": [
    "# # Create a data frame of the most common words \n",
    "# n_words = 40\n",
    "# words = list(cv_test.sum().sort_values(ascending=False)[:n_words].index)\n",
    "# print(words)\n",
    "\n",
    "# cv_test['is_fake_test'] = X_test_incorrect['y'].values\n",
    "# cv_test_small = cv_test.groupby('is_fake_test').sum()[words]"
   ]
  },
  {
   "cell_type": "code",
   "execution_count": null,
   "metadata": {},
   "outputs": [],
   "source": [
    "# columns = [c for c in cv_test_small.columns if c in cv_train.columns]\n",
    "# cv_train = cv_train[columns]\n",
    "# cv_train['is_fake'] = y_train.values\n",
    "# cv_train_small = cv_train.groupby('is_fake').sum()\n",
    "\n",
    "# columns = [c for c in cv_train.columns if c in cv_test_small.columns]\n",
    "# cv_test_small = cv_test_small[columns]\n",
    "\n",
    "# cv_merge = pd.concat([cv_train_small, cv_test_small],keys=['train', 'incorrect'], sort=True)\n",
    "# cv_merge.head()\n"
   ]
  },
  {
   "cell_type": "code",
   "execution_count": null,
   "metadata": {},
   "outputs": [],
   "source": [
    "# # Adapted from https://matplotlib.org/examples/api/barchart_demo.html\n",
    "\n",
    "# words = cv_merge.columns\n",
    "# n_words = len(words)\n",
    "# words_count_fake_train = cv_merge.loc[\"train\"].loc[0]\n",
    "# words_count_news_train = cv_merge.loc[\"train\"].loc[1]\n",
    "# words_count_fake_wrong = cv_merge.loc[\"incorrect\"].loc[0]\n",
    "# words_count_news_wrong = cv_merge.loc[\"incorrect\"].loc[1]\n",
    "\n",
    "# width = 0.25       # the width of the bars\n",
    "# ind = np.arange(n_words)\n",
    "\n",
    "# fig, ax = plt.subplots(figsize=(15, 10))\n",
    "# rects0 = ax.bar(ind,         words_count_fake_train, width, color=colors[0])\n",
    "# rects1 = ax.bar(ind+width,   words_count_fake_wrong, width, color=colors[2])\n",
    "# rects2 = ax.bar(ind+2*width, words_count_news_train, width, color=colors[3])\n",
    "# rects3 = ax.bar(ind+3*width, words_count_news_wrong, width, color=colors[-1])\n",
    "\n",
    "# # add some text for labels, title and axes ticks\n",
    "# ax.set_ylabel('Counts')\n",
    "# ax.set_title('Counts by word and reddit')\n",
    "# ax.set_xticks(ind + width / 2)\n",
    "# ax.set_xticklabels(words,rotation='vertical')\n",
    "\n",
    "# ax.set_ylim(0,80)\n",
    "\n",
    "# ax.legend((rects0, rects1, rects2, rects3), ('Fake News Train', 'Fake News Incorrect',\n",
    "#                                                          'World News', 'World News Incorrect'));\n"
   ]
  },
  {
   "cell_type": "code",
   "execution_count": null,
   "metadata": {},
   "outputs": [],
   "source": [
    "# This plot did not come out as well as I had hoped, but I think I can improve on it in the future"
   ]
  },
  {
   "cell_type": "code",
   "execution_count": null,
   "metadata": {},
   "outputs": [],
   "source": [
    "# VI. Executive summary\n",
    "# The data\n",
    "# For this project, I chose two sub-reddits to compare, r/Cape Cod and r/galveston. As this was my first experience with Reddit, I had some challenege to come up with two forums to compare since most anything I chose did not have enough posts. With more experience with Reddit, I might have been able to chose more interesting topics to compare. Scraping was easy enough, but since the Reddits are not extremely active, I did not end up with as much data as I would have liked\n",
    "\n",
    "# Exploring the data\n",
    "# Once I had scraped the data, I ran a number of initial tests on it to get some insight. I used a word cloud to illustrate the word used most often in each subreddit. I then ran a vectorizer on unigrams and made some bar charts comparing the usage of the most words. The results were not particularly surprising, though there were some words I had not anticipated such as 'seawall' and 'gaming'.\n",
    "\n",
    "# Modeling the problem\n",
    "# From there, I dove into NLP. I ran a few simple tests, determined a baseline accuracy, and examined the coefficients determied by logistical regression. Again, the words with the most influence were not surprising - mostly place names or things unique to one place or the other. Actually, there was one word with a aurprisingly high coefficient - 'water'.\n",
    "\n",
    "# Evaluate the model\n",
    "# I then spent some time trying to generalize pipelines in order to efficiently run lots of different grid searches on many different models and parameters. This generalized function has room for improvement, but was quite helpful for me to stay organized in my tests. I saved the \"best\" from each test and turned the data into a dataframe in order to explore the incorrect predictions.\n",
    "\n",
    "# Despite tuning the parameters, I could not get better than 83% accuracy, unfortunately."
   ]
  },
  {
   "cell_type": "code",
   "execution_count": null,
   "metadata": {},
   "outputs": [],
   "source": [
    "# # Scrape posts following 'after' from the first URL \n",
    "# # Place them in a dataframe\n",
    "# # Export to a file\n",
    "\n",
    "# def news (topic_1, topic_2, topic_3, topic_4, check):\n",
    "#     if check == True: \n",
    "#         after = None\n",
    "#         url_1 = \"https://www.reddit.com/r/\"+topic_1+\".json\"\n",
    "#         note(f'Scraping {url_1}')\n",
    "#         scrape_1 = scrape_data(url_1, after)\n",
    "#         posts = []\n",
    "#         for i in range(len(scrape_1)):\n",
    "#             posts.append(scrape_1[i]['data'])\n",
    "\n",
    "#         after = None\n",
    "#         url_2 = \"https://www.reddit.com/r/\"+topic_2+\".json\"\n",
    "#         note(f'Scraping {url_2}')\n",
    "#         scrape_2 = scrape_data(url_2, after)\n",
    "#         for i in range(len(scrape_2)):\n",
    "#             posts.append(scrape_2[i]['data'])\n",
    "        \n",
    "#         after = None\n",
    "#         url_3 = \"https://www.reddit.com/r/\"+topic_3+\".json\"\n",
    "#         note(f'Scraping {url_3}')\n",
    "#         scrape_3 = scrape_data(url_3, after)\n",
    "#         for i in range(len(scrape_3)):\n",
    "#             posts.append(scrape_3[i]['data'])\n",
    "        \n",
    "#         after = None\n",
    "#         url_4 = \"https://www.reddit.com/r/\"+topic_4+\".json\"\n",
    "#         note(f'Scraping {url_4}')\n",
    "#         scrape_4 = scrape_data(url_4, after)\n",
    "#         for i in range(len(scrape_4)):\n",
    "#             posts.append(scrape_4[i]['data'])\n",
    "#         df = pd.DataFrame(posts)\n",
    "#         df.drop_duplicates(subset='title', inplace=True)\n",
    "#         df.to_csv(f'../data/news.csv')\n",
    "#         return df"
   ]
  },
  {
   "cell_type": "code",
   "execution_count": null,
   "metadata": {},
   "outputs": [],
   "source": [
    "# # Basic CountVectorizer and LogisticRegression to get a simple first model\n",
    "\n",
    "# cv_simple = CountVectorizer(stop_words=stopwords)\n",
    "# X_train_cv = cv_simple.fit_transform(X_train['content'])\n",
    "# X_test_cv = cv_simple.transform(X_test['content'])\n",
    "\n",
    "# print(\"There are {} features in the model.\".format(len(cv_simple.get_feature_names())))\n",
    "\n",
    "# lr_simple = LogisticRegressionCV(cv=10)\n",
    "# lr_simple.fit(X_train_cv, y_train)\n",
    "# score_train = lr_simple.score(X_train_cv, y_train)\n",
    "# score_test = lr_simple.score(X_test_cv, y_test)\n",
    "\n",
    "# # There are 3440 features in the model.\n",
    "# # Train score: 0.9695740365111561 Test score 0.8157894736842105\n",
    "# print(\"Train score: {} Test score {}\".format(score_train, score_test))"
   ]
  },
  {
   "cell_type": "code",
   "execution_count": null,
   "metadata": {
    "scrolled": true
   },
   "outputs": [],
   "source": [
    "# CountVectorizer\n",
    "# X_train, X_test, y_train, y_test = train_test_split(df, y, random_state=42, stratify=y)\n",
    "# cv = CountVectorizer(analyzer = \"word\",tokenizer = None,preprocessor = None,stop_words=stop())\n",
    "# X_train = cv.fit_transform(X_train.content)\n",
    "# X_test = cv.transform(X_test.content)\n",
    "# cv_train = pd.DataFrame(X_train.todense(), columns=cv.get_feature_names())\n",
    "# print(f\"There are {len(cv.get_feature_names())} features in the model.\\n\")\n",
    "# # words = list(cv_train.sum().sort_values(ascending=False).index)\n",
    "# # cv_train['is_fake'] = y_train.values\n",
    "# # cv_train = cv_train.groupby('is_fake').sum()[words]\n",
    "# # cv_train.T\n",
    "# lr = LogisticRegression()\n",
    "# lr.fit(X_train, y_train)\n",
    "# print(f'Train Score {lr.score(X_train, y_train)}')\n",
    "# print(f'Test Score {lr.score(X_test, y_test)}')\n",
    "# print(f'Difference {lr.score(X_train, y_train) - lr.score(X_test, y_test)}')"
   ]
  },
  {
   "cell_type": "code",
   "execution_count": null,
   "metadata": {
    "scrolled": true
   },
   "outputs": [],
   "source": [
    "# TfidfVectorizer\n",
    "# X_train, X_test, y_train, y_test = train_test_split(df, y, random_state=42, stratify=y)\n",
    "# tv = TfidfVectorizer(stop_words=stop())\n",
    "# X_train = tv.fit_transform(X_train.content)\n",
    "# X_test = cv.transform(X_test.content)\n",
    "# tv_train = pd.DataFrame(X_train.todense(), columns=tv.get_feature_names())\n",
    "# print(f\"There are {len(tv.get_feature_names())} features in the model.\\n\")\n",
    "# # words = list(tv_train.sum().sort_values(ascending=False)[:].index)\n",
    "# # tv_train['is_fake'] = y_train.values\n",
    "# # tv_train = tv_train.groupby('is_fake').sum()[words]\n",
    "# # tv_train.T\n",
    "# lr = LogisticRegression()\n",
    "# lr.fit(X_train, y_train)\n",
    "# print(f'Train Score {lr.score(X_train, y_train)}')\n",
    "# print(f'Test Score {lr.score(X_test, y_test)}')\n",
    "# print(f'Difference {lr.score(X_train, y_train) - lr.score(X_test, y_test)}\\n')"
   ]
  },
  {
   "cell_type": "code",
   "execution_count": null,
   "metadata": {},
   "outputs": [],
   "source": [
    "# Count Vectorizer w Naive Bayes\n",
    "# X_train, X_test, y_train, y_test = train_test_split(df, y, random_state=42, stratify=y)\n",
    "# cv = CountVectorizer(analyzer = \"word\",tokenizer = None,preprocessor = None,stop_words=stop())\n",
    "# X_train = cv.fit_transform(X_train.content)\n",
    "# X_test = cv.transform(X_test.content)\n",
    "# cv_train = pd.DataFrame(X_train.todense(), columns=cv.get_feature_names())\n",
    "# print(f\"There are {len(cv.get_feature_names())} features in the model.\\n\")\n",
    "# mnb = MultinomialNB()\n",
    "# mnb_train = mnb.fit(X_train, y_train)\n",
    "# mnb_pred = mnb_train.predict(X_test)\n",
    "# print(f'Train Score {mnb_train.score(X_train, y_train)}')\n",
    "# print(f'Test Score {mnb_train.score(X_test, y_test)}')\n",
    "# print(f'Difference {mnb_train.score(X_train, y_train) - mnb_train.score(X_test, y_test)}\\n')\n",
    "# # Confusion matrix\n",
    "# cm = confusion_matrix(y_test, mnb_pred).ravel()\n",
    "# tn, fp, fn, tp = cm\n",
    "# print(f\"True Negatives: {tn}\")\n",
    "# print(f\"False Positives: {fp}\")\n",
    "# print(f\"False Negatives: {fn}\")\n",
    "# print(f\"True Positives: {tp}\\n\")\n",
    "# print(f'Accuracy {(tp+tn)/(tp+tn+fp+fn)}')\n",
    "# # sns.heatmap(cm,annot=True)"
   ]
  },
  {
   "cell_type": "code",
   "execution_count": null,
   "metadata": {},
   "outputs": [],
   "source": [
    "# Count Vectorizer 2-gram w Naive Bayes\n",
    "# X_train, X_test, y_train, y_test = train_test_split(df, y, random_state=42, stratify=y)\n",
    "# cv = CountVectorizer(ngram_range=(1,2),analyzer = \"word\",tokenizer = None,preprocessor = None,stop_words=stop())\n",
    "# X_train = cv.fit_transform(X_train.content)\n",
    "# X_test = cv.transform(X_test.content)\n",
    "# cv_train = pd.DataFrame(X_train.todense(), columns=cv.get_feature_names())\n",
    "# print(f\"There are {len(cv.get_feature_names())} features in the model.\\n\")\n",
    "# mnb = MultinomialNB()\n",
    "# mnb_train = mnb.fit(X_train, y_train)\n",
    "# mnb_pred = mnb_train.predict(X_test)\n",
    "# print(f'Train Score {mnb_train.score(X_train, y_train)}')\n",
    "# print(f'Test Score {mnb_train.score(X_test, y_test)}')\n",
    "# print(f'Difference {mnb_train.score(X_train, y_train) - mnb_train.score(X_test, y_test)}\\n')\n",
    "# # Confusion matrix\n",
    "# cm = confusion_matrix(y_test, mnb_pred).ravel()\n",
    "# tn, fp, fn, tp = cm\n",
    "# print(f\"True Negatives: {tn}\")\n",
    "# print(f\"False Positives: {fp}\")\n",
    "# print(f\"False Negatives: {fn}\")\n",
    "# print(f\"True Positives: {tp}\\n\")\n",
    "# print(f'Accuracy {(tp+tn)/(tp+tn+fp+fn)}')\n",
    "# # sns.heatmap(cm,annot=True)"
   ]
  },
  {
   "cell_type": "code",
   "execution_count": null,
   "metadata": {},
   "outputs": [],
   "source": [
    "# TfidfVectorizer w Naive Bayes\n",
    "# X_train, X_test, y_train, y_test = train_test_split(df, y, random_state=42, stratify=y)\n",
    "# tv = TfidfVectorizer(stop_words=stop())\n",
    "# X_train = tv.fit_transform(X_train.content)\n",
    "# X_test = tv.transform(X_test.content)\n",
    "# tv_train = pd.DataFrame(X_train.todense(), columns=tv.get_feature_names())\n",
    "# print(f\"There are {len(tv.get_feature_names())} features in the model.\\n\")\n",
    "# mnb = MultinomialNB()\n",
    "# mnb_train = mnb.fit(X_train, y_train)\n",
    "# mnb_pred = mnb_train.predict(X_test)\n",
    "# print(f'Train Score {mnb_train.score(X_train, y_train)}')\n",
    "# print(f'Test Score {mnb_train.score(X_test, y_test)}')\n",
    "# print(f'Difference {mnb_train.score(X_train, y_train) - mnb_train.score(X_test, y_test)}\\n')\n",
    "# # Confusion matrix\n",
    "# cm = confusion_matrix(y_test, mnb_pred).ravel()\n",
    "# tn, fp, fn, tp = cm\n",
    "# print(f\"True Negatives: {tn}\")\n",
    "# print(f\"False Positives: {fp}\")\n",
    "# print(f\"False Negatives: {fn}\")\n",
    "# print(f\"True Positives: {tp}\\n\")\n",
    "# print(f'Accuracy {(tp+tn)/(tp+tn+fp+fn)}')\n",
    "# # sns.heatmap(cm,annot=True)"
   ]
  },
  {
   "cell_type": "code",
   "execution_count": null,
   "metadata": {},
   "outputs": [],
   "source": [
    "# cv_gram = CountVectorizer(ngram_range=(1,2))\n",
    "# X_train_cvg = cv_gram.fit_transform(X_train['title'])\n",
    "# X_test_cvg = cv_gram.transform(X_test['title'])\n",
    "\n",
    "# print(\"There are {} features in the model.\".format(len(cv_gram.get_feature_names())))\n",
    "\n",
    "# lr_simple = LogisticRegressionCV(cv=10)\n",
    "# lr_simple.fit(X_train_cvg, y_train)\n",
    "# score_train = lr_simple.score(X_train_cvg, y_train)\n",
    "# score_test = lr_simple.score(X_test_cvg, y_test)\n",
    "\n",
    "# # There are 11975 features in the model.\n",
    "# # Train score: 0.9959432048681541 Test score 0.8218623481781376\n",
    "# print(\"Train score: {} Test score {}\".format(score_train, score_test))"
   ]
  },
  {
   "cell_type": "code",
   "execution_count": null,
   "metadata": {},
   "outputs": [],
   "source": [
    "# print(\"The baseline accuracy for this model is {:.2f}%.\".format(\n",
    "#     cross_val_score(lr_simple, X_train_cvg, y_train).mean()*100))"
   ]
  },
  {
   "cell_type": "code",
   "execution_count": null,
   "metadata": {},
   "outputs": [],
   "source": [
    "# Run a CountVectorizer and regression adding in a pipeline and grid search. Also, eliminate the stop words."
   ]
  },
  {
   "cell_type": "code",
   "execution_count": null,
   "metadata": {},
   "outputs": [],
   "source": [
    "# # Create the pipeline\n",
    "# pipe_cv = Pipeline([\n",
    "#     ('cv', CountVectorizer(stop_words=stopwords)),\n",
    "#     ('lr', LogisticRegression()),\n",
    "# ])\n",
    "\n",
    "# params_grid_cv = {\n",
    "#     'cv__ngram_range' : [(1,1), (1,2)],\n",
    "#     'cv__max_df' : [1.0, 0.95],\n",
    "#     'cv__min_df' : [1, 2],\n",
    "#     'cv__max_features' : [2000, 2250, 2500],\n",
    "#     'lr__C' : [1, .05],\n",
    "#     'lr__penalty' : ['l1', 'l2']\n",
    "# }\n",
    "\n",
    "# # Grid Search!\n",
    "# gs_cv = GridSearchCV(pipe_cv, param_grid=params_grid_cv, verbose=1)\n",
    "\n",
    "# gs_cv.fit(X_train['title'], y_train)\n",
    "# score_train = gs_cv.best_score_\n",
    "# score_test = gs_cv.score(X_test['title'], y_test)\n",
    "# params_train = gs_cv.best_params_\n",
    "\n",
    "# for k in params_grid_cv:\n",
    "#     print(\"{}: {}\".format(k,params_train[k]))\n",
    "\n",
    "# print(\"Train score: {} Test score {}\".format(score_train, score_test))\n",
    "\n",
    "# # Fitting 3 folds for each of 192 candidates, totalling 576 fits\n",
    "# # cv__stop_words: english\n",
    "# # cv__ngram_range: (1, 2)\n",
    "# # cv__max_df: 1.0\n",
    "# # cv__min_df: 1\n",
    "# # cv__max_features: 2250\n",
    "# # lr__C: 1\n",
    "# # lr__penalty: l2\n",
    "# # Train score: 0.8079783637592968 Test score 0.8178137651821862"
   ]
  },
  {
   "cell_type": "code",
   "execution_count": null,
   "metadata": {},
   "outputs": [],
   "source": [
    "# Take a look at the coefficients in the model to see which words best predict the target"
   ]
  },
  {
   "cell_type": "code",
   "execution_count": null,
   "metadata": {},
   "outputs": [],
   "source": [
    "# # What are the words that best predict the target?\n",
    "\n",
    "# coef_names = gs_cv.best_estimator_.named_steps['cv'].get_feature_names()\n",
    "# coef_vals = gs_cv.best_estimator_.named_steps['lr'].coef_[0]\n",
    "\n",
    "# coef_df = pd.DataFrame ({\n",
    "#     'coefs' : coef_names,\n",
    "#     'vals' : coef_vals\n",
    "# }).set_index('coefs')\n",
    "\n",
    "# coef_df.reindex(coef_df['vals'].abs().sort_values(ascending=False).index)[:]"
   ]
  },
  {
   "cell_type": "code",
   "execution_count": null,
   "metadata": {},
   "outputs": [],
   "source": [
    "# Create a function to run grid search on anything we might want to investigate.\n",
    "# This could be generalized further, I'm sure, but for now it is enough."
   ]
  },
  {
   "cell_type": "code",
   "execution_count": null,
   "metadata": {},
   "outputs": [],
   "source": [
    "# Choose some vectorizers and models to test.\n",
    "# This runs a long time!\n",
    "# TI ran this many times, updating the parameters to tune"
   ]
  },
  {
   "cell_type": "code",
   "execution_count": null,
   "metadata": {},
   "outputs": [],
   "source": [
    "# class DenseTransformer(TransformerMixin):\n",
    "\n",
    "#     def fit(self, X, y=None, **fit_params):\n",
    "#         return self\n",
    "\n",
    "#     def transform(self, X, y=None, **fit_params):\n",
    "#         return X.todense()"
   ]
  },
  {
   "cell_type": "code",
   "execution_count": null,
   "metadata": {},
   "outputs": [],
   "source": [
    "# Libraries"
   ]
  },
  {
   "cell_type": "code",
   "execution_count": null,
   "metadata": {},
   "outputs": [],
   "source": [
    "# Define functions"
   ]
  },
  {
   "cell_type": "code",
   "execution_count": null,
   "metadata": {},
   "outputs": [],
   "source": [
    "# df_solns = df_solns.rename(columns={'Unnamed: 0':'features'})\n",
    "# df_solns = df_solns.set_index('features')"
   ]
  },
  {
   "cell_type": "code",
   "execution_count": null,
   "metadata": {},
   "outputs": [],
   "source": [
    "# df_solns.sort_values(ascending=False, by='test_score',axis=1)"
   ]
  },
  {
   "cell_type": "code",
   "execution_count": null,
   "metadata": {},
   "outputs": [],
   "source": [
    "# df_solns = pd.read_csv(f'../data/gridsearch.csv')\n",
    "# df_solns = df_solns.rename(columns={'Unnamed: 0':'features'})\n",
    "# df_solns = df_solns.set_index('features')"
   ]
  },
  {
   "cell_type": "markdown",
   "metadata": {},
   "source": [
    "# Code"
   ]
  },
  {
   "cell_type": "code",
   "execution_count": 1,
   "metadata": {},
   "outputs": [],
   "source": [
    "from functions import project_3 as p3"
   ]
  },
  {
   "cell_type": "code",
   "execution_count": 2,
   "metadata": {
    "scrolled": false
   },
   "outputs": [],
   "source": [
    "p3.fake('conspiracy','Alternativefacts','scambaiting','satire',False)"
   ]
  },
  {
   "cell_type": "code",
   "execution_count": 3,
   "metadata": {
    "scrolled": false
   },
   "outputs": [],
   "source": [
    "p3.news('worldnews','politics','business','technology',False)"
   ]
  },
  {
   "cell_type": "code",
   "execution_count": 4,
   "metadata": {},
   "outputs": [
    {
     "data": {
      "text/markdown": [
       "<div class=\"alert alert-block alert-warning\"><b>CHECK: </b>There are 3110 posts with 108 columns</div>"
      ],
      "text/plain": [
       "<IPython.core.display.Markdown object>"
      ]
     },
     "metadata": {},
     "output_type": "display_data"
    },
    {
     "data": {
      "image/png": "[encoded data removed]",
      "text/plain": [
       "<Figure size 1152x648 with 1 Axes>"
      ]
     },
     "metadata": {
      "needs_background": "light"
     },
     "output_type": "display_data"
    }
   ],
   "source": [
    "df_fake = p3.read('fake')\n",
    "p3.wordcloud(df_fake.content,False)"
   ]
  },
  {
   "cell_type": "code",
   "execution_count": null,
   "metadata": {},
   "outputs": [],
   "source": [
    "df_fake = p3.process(df_fake)\n",
    "p3.wordcloud(df_fake.content,False)"
   ]
  },
  {
   "cell_type": "code",
   "execution_count": null,
   "metadata": {},
   "outputs": [],
   "source": [
    "df_news = p3.read('news')\n",
    "p3.wordcloud(df_news.content,True)"
   ]
  },
  {
   "cell_type": "code",
   "execution_count": null,
   "metadata": {},
   "outputs": [],
   "source": [
    "df_news = p3.process(df_news)\n",
    "p3.wordcloud(df_news.content,True)"
   ]
  },
  {
   "cell_type": "code",
   "execution_count": null,
   "metadata": {},
   "outputs": [],
   "source": [
    "df = p3.merge(df_news,df_fake)\n",
    "y = df.is_fake\n",
    "df.drop('is_fake', inplace=True, axis=1)"
   ]
  },
  {
   "cell_type": "code",
   "execution_count": null,
   "metadata": {},
   "outputs": [],
   "source": [
    "# Check whether target class is balanced"
   ]
  },
  {
   "cell_type": "code",
   "execution_count": null,
   "metadata": {},
   "outputs": [],
   "source": [
    "y.value_counts(normalize=True)"
   ]
  },
  {
   "cell_type": "code",
   "execution_count": null,
   "metadata": {},
   "outputs": [],
   "source": [
    "words = p3.features(df,y)"
   ]
  },
  {
   "cell_type": "code",
   "execution_count": null,
   "metadata": {
    "scrolled": false
   },
   "outputs": [],
   "source": [
    "#Decide what to put into the pipline, grid searh, and save the \"best\" for each grid search\n",
    "\n",
    "vects = ['cv','tv']\n",
    "models = ['mnb']\n",
    "\n",
    "df_solns, X_train, X_test, y_train, train_score, test_score, y_test, y_test_hat, best_params = p3.search(vects,models,df,y)"
   ]
  },
  {
   "cell_type": "code",
   "execution_count": null,
   "metadata": {},
   "outputs": [],
   "source": [
    "# V. Evaluate the model"
   ]
  },
  {
   "cell_type": "code",
   "execution_count": null,
   "metadata": {},
   "outputs": [],
   "source": [
    "# Examine the best solutions from each call to the grid search"
   ]
  },
  {
   "cell_type": "code",
   "execution_count": null,
   "metadata": {},
   "outputs": [],
   "source": [
    "df_solns = df_solns.sort_values(ascending=False, by='test_score',axis=1)"
   ]
  },
  {
   "cell_type": "code",
   "execution_count": null,
   "metadata": {},
   "outputs": [],
   "source": [
    "# Best model"
   ]
  },
  {
   "cell_type": "code",
   "execution_count": null,
   "metadata": {},
   "outputs": [],
   "source": [
    "df_solns.iloc[:,0:1]"
   ]
  },
  {
   "cell_type": "code",
   "execution_count": null,
   "metadata": {},
   "outputs": [],
   "source": [
    "# Closely look at the parameters and see if we hit an boundary on our parameter options"
   ]
  },
  {
   "cell_type": "code",
   "execution_count": null,
   "metadata": {
    "scrolled": true
   },
   "outputs": [],
   "source": [
    "# Let's look at the parameters of one solution\n",
    "df_solns.iloc[0,0]"
   ]
  },
  {
   "cell_type": "code",
   "execution_count": null,
   "metadata": {},
   "outputs": [],
   "source": [
    "df_solns.iloc[4,0]"
   ]
  },
  {
   "cell_type": "code",
   "execution_count": null,
   "metadata": {},
   "outputs": [],
   "source": [
    "best_alpha = list(df_solns.iloc[0,0].values())[0]\n",
    "best_max_df = list(df_solns.iloc[0,0].values())[1]\n",
    "best_max_features = list(df_solns.iloc[0,0].values())[2]\n",
    "best_min_df = list(df_solns.iloc[0,0].values())[3]\n",
    "best_ngram_range = list(df_solns.iloc[0,0].values())[4]\n",
    "best_model = df_solns.iloc[1,0]\n",
    "best_vect = df_solns.iloc[4,0]"
   ]
  },
  {
   "cell_type": "code",
   "execution_count": null,
   "metadata": {},
   "outputs": [],
   "source": [
    "X_test['is_fake'] = y_test.values\n",
    "X_test['pred_fake'] = y_test_hat\n",
    "X_test_true = X_test[X_test[\"is_fake\"] == X_test['pred_fake']]\n",
    "X_test_false = X_test[X_test[\"is_fake\"] != X_test['pred_fake']]"
   ]
  },
  {
   "cell_type": "code",
   "execution_count": null,
   "metadata": {},
   "outputs": [],
   "source": [
    "# Remember, where y=1, the post is from r/CapeCod"
   ]
  },
  {
   "cell_type": "code",
   "execution_count": null,
   "metadata": {},
   "outputs": [],
   "source": [
    "X_test_true"
   ]
  },
  {
   "cell_type": "code",
   "execution_count": null,
   "metadata": {
    "scrolled": true
   },
   "outputs": [],
   "source": [
    "X_test_false"
   ]
  },
  {
   "cell_type": "code",
   "execution_count": null,
   "metadata": {},
   "outputs": [],
   "source": [
    "df_user = p3.get_input()"
   ]
  },
  {
   "cell_type": "code",
   "execution_count": null,
   "metadata": {},
   "outputs": [],
   "source": [
    "df_user = p3.check_user(best_vect,best_max_df, best_min_df, best_ngram_range, best_max_features, best_model, best_alpha, df,df_user,y,is_fake=True)"
   ]
  },
  {
   "cell_type": "code",
   "execution_count": null,
   "metadata": {},
   "outputs": [],
   "source": [
    "# df_user"
   ]
  },
  {
   "cell_type": "code",
   "execution_count": null,
   "metadata": {},
   "outputs": [],
   "source": [
    "# True Negative (Real News, Predict Real News)\n",
    "\n",
    "# \"Brexit: Britain WILL leave EU by October 31 despite asking for delay, Gove insists as EU give Boris 48-hour lifeline\"\n",
    "# \"Petrol bombs and tear gas scar Hong Kong streets as police, protesters clash\""
   ]
  },
  {
   "cell_type": "code",
   "execution_count": null,
   "metadata": {},
   "outputs": [],
   "source": [
    "#False Negative (Fake News, Predict Real News)\n",
    "\n",
    "#\"Following a ban on face masks, protesters in Hong Kong use wearable face projectors that trick the facial recognition system used by the government\"\n",
    "#\"Rep. Ilhan Omar protested outside Trump’s Oct. 10 campaign rally in Minneapolis\"\n",
    "#\"Photo shows a Turkish soldier helping a child drink from a water bottle with the implication it was taken during the military offensive launched by Turkey last week in northern Syria\"\n",
    "#\"A nighttime photo shows fires burning in mountains overlooking a shoreline during recent wildfires in Lebanon.\"\n",
    "#\"Video shows a banner stating “Betrayed and murdered the Kurdish people” hanging from Trump International Hotel in Las Vegas.\""
   ]
  },
  {
   "cell_type": "code",
   "execution_count": null,
   "metadata": {},
   "outputs": [],
   "source": [
    "# False Positive (Real News, Predict Fake News)\n",
    "\n",
    "# \"Indonesia's Widodo faces test on reform credentials in second term\""
   ]
  },
  {
   "cell_type": "code",
   "execution_count": null,
   "metadata": {},
   "outputs": [],
   "source": [
    "# True Positive (Fake News, Predict Fake News)\n",
    "\n",
    "# \"Photo shows U.S. soldiers on the ground in Syria “crying and visibly shaken saying they could stop this in 10 minutes but Trump won’t let them.”\n",
    "# \"Photo shows a massive crowd in Baghdad demonstrating in early October against corruption.\""
   ]
  },
  {
   "cell_type": "code",
   "execution_count": null,
   "metadata": {},
   "outputs": [],
   "source": [
    "# tv = TfidfVectorizer(stop_words = stop(), max_df = best_max_df, min_df = best_min_df, ngram_range = best_ngram_range)\n",
    "# mnb = MultinomialNB(alpha = best_alpha)\n",
    "# is_fake = True\n",
    "# df_user = check_user(tv,df,df_user,y,mnb,is_fake)"
   ]
  },
  {
   "cell_type": "code",
   "execution_count": null,
   "metadata": {},
   "outputs": [],
   "source": [
    "# df_user"
   ]
  },
  {
   "cell_type": "code",
   "execution_count": null,
   "metadata": {},
   "outputs": [],
   "source": [
    "# confusion_matrix(df_)"
   ]
  },
  {
   "cell_type": "code",
   "execution_count": null,
   "metadata": {},
   "outputs": [],
   "source": [
    "# cv_simple = CountVectorizer(stop_words=stopwords)\n",
    "# X_test_cv = cv_simple.fit_transform(X_test_incorrect['title'])\n",
    "# cv_test = pd.DataFrame(X_test_cv.todense(), columns=cv_simple.get_feature_names())"
   ]
  },
  {
   "cell_type": "code",
   "execution_count": null,
   "metadata": {},
   "outputs": [],
   "source": [
    "# Create a data frame of the most common words \n",
    "# n_words = 40\n",
    "# words = list(cv_test.sum().sort_values(ascending=False)[:].index)\n",
    "# print(words)\n",
    "\n",
    "# cv_test['is_fake_test'] = X_test_incorrect['y'].values\n",
    "# cv_test_small = cv_test.groupby('is_fake_test').sum()[words]"
   ]
  },
  {
   "cell_type": "code",
   "execution_count": null,
   "metadata": {},
   "outputs": [],
   "source": [
    "# columns = [c for c in cv_test_small.columns if c in cv_train.columns]\n",
    "# cv_train = cv_train[columns]\n",
    "# cv_train['is_fake'] = y_train.values\n",
    "# cv_train_small = cv_train.groupby('is_fake').sum()\n",
    "\n",
    "# columns = [c for c in cv_train.columns if c in cv_test_small.columns]\n",
    "# cv_test_small = cv_test_small[columns]\n",
    "\n",
    "# cv_merge = pd.concat([cv_train_small, cv_test_small],keys=['train', 'incorrect'], sort=True)\n",
    "# cv_merge.head()\n"
   ]
  },
  {
   "cell_type": "code",
   "execution_count": null,
   "metadata": {},
   "outputs": [],
   "source": [
    "# Adapted from https://matplotlib.org/examples/api/barchart_demo.html\n",
    "\n",
    "# words = cv_merge.columns\n",
    "# n_words = len(words)\n",
    "# words_count_fake_train = cv_merge.loc[\"train\"].loc[0]\n",
    "# words_count_news_train = cv_merge.loc[\"train\"].loc[1]\n",
    "# words_count_fake_wrong = cv_merge.loc[\"incorrect\"].loc[0]\n",
    "# words_count_news_wrong = cv_merge.loc[\"incorrect\"].loc[1]\n",
    "\n",
    "# width = 0.25       # the width of the bars\n",
    "# ind = np.arange(n_words)\n",
    "\n",
    "# fig, ax = plt.subplots(figsize=(15, 10))\n",
    "# rects0 = ax.bar(ind,         words_count_fake_train, width, color=theme[0])\n",
    "# rects1 = ax.bar(ind+width,   words_count_fake_wrong, width, color=theme[2])\n",
    "# rects2 = ax.bar(ind+2*width, words_count_news_train, width, color=theme[3])\n",
    "# rects3 = ax.bar(ind+3*width, words_count_news_wrong, width, color=theme[-1])\n",
    "\n",
    "# # add some text for labels, title and axes ticks\n",
    "# ax.set_ylabel('Counts')\n",
    "# ax.set_title('Counts by word and reddit')\n",
    "# ax.set_xticks(ind + width / 2)\n",
    "# ax.set_xticklabels(words,rotation='vertical')\n",
    "\n",
    "# ax.set_ylim(0,80)\n",
    "\n",
    "# ax.legend((rects0, rects1, rects2, rects3), ('Fake News Train', 'Fake News Incorrect',\n",
    "#                                                          'World News', 'World News Incorrect'));\n"
   ]
  },
  {
   "cell_type": "code",
   "execution_count": null,
   "metadata": {},
   "outputs": [],
   "source": [
    "# This plot did not come out as well as I had hoped, but I think I can improve on it in the future"
   ]
  },
  {
   "cell_type": "code",
   "execution_count": null,
   "metadata": {},
   "outputs": [],
   "source": [
    "# VI. Executive summary\n",
    "# The data\n",
    "# For this project, I chose two sub-reddits to compare, r/Cape Cod and r/galveston. As this was my first experience with Reddit, I had some challenege to come up with two forums to compare since most anything I chose did not have enough posts. With more experience with Reddit, I might have been able to chose more interesting topics to compare. Scraping was easy enough, but since the Reddits are not extremely active, I did not end up with as much data as I would have liked\n",
    "\n",
    "# Exploring the data\n",
    "# Once I had scraped the data, I ran a number of initial tests on it to get some insight. I used a word cloud to illustrate the word used most often in each subreddit. I then ran a vectorizer on unigrams and made some bar charts comparing the usage of the most words. The results were not particularly surprising, though there were some words I had not anticipated such as 'seawall' and 'gaming'.\n",
    "\n",
    "# Modeling the problem\n",
    "# From there, I dove into NLP. I ran a few simple tests, determined a baseline accuracy, and examined the coefficients determied by logistical regression. Again, the words with the most influence were not surprising - mostly place names or things unique to one place or the other. Actually, there was one word with a aurprisingly high coefficient - 'water'.\n",
    "\n",
    "# Evaluate the model\n",
    "# I then spent some time trying to generalize pipelines in order to efficiently run lots of different grid searches on many different models and parameters. This generalized function has room for improvement, but was quite helpful for me to stay organized in my tests. I saved the \"best\" from each test and turned the data into a dataframe in order to explore the incorrect predictions.\n",
    "\n",
    "# Despite tuning the parameters, I could not get better than 83% accuracy, unfortunately."
   ]
  }
 ],
 "metadata": {
  "kernelspec": {
   "display_name": "Python 3",
   "language": "python",
   "name": "python3"
  },
  "language_info": {
   "codemirror_mode": {
    "name": "ipython",
    "version": 3
   },
   "file_extension": ".py",
   "mimetype": "text/x-python",
   "name": "python",
   "nbconvert_exporter": "python",
   "pygments_lexer": "ipython3",
   "version": "3.7.4"
  },
  "toc": {
   "base_numbering": 1,
   "nav_menu": {},
   "number_sections": true,
   "sideBar": true,
   "skip_h1_title": false,
   "title_cell": "Table of Contents",
   "title_sidebar": "Contents",
   "toc_cell": true,
   "toc_position": {
    "height": "calc(100% - 180px)",
    "left": "10px",
    "top": "150px",
    "width": "288px"
   },
   "toc_section_display": true,
   "toc_window_display": true
  }
 },
 "nbformat": 4,
 "nbformat_minor": 2
}
